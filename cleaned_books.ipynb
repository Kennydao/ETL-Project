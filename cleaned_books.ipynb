{
 "cells": [
  {
   "cell_type": "code",
   "execution_count": 1,
   "metadata": {},
   "outputs": [],
   "source": [
    "# Dependencies and Setup\n",
    "import pandas as pd\n",
    "import csv\n",
    "#import os"
   ]
  },
  {
   "cell_type": "code",
   "execution_count": 2,
   "metadata": {},
   "outputs": [],
   "source": [
    "# File to Load (Remember to Change These)\n",
    "books_data_to_load = \"Resources/book900k-1000k.csv\"\n",
    "\n",
    "# Read data file into into Pandas dataframe\n",
    "books_df = pd.read_csv(books_data_to_load)\n",
    "#books_df.head()"
   ]
  },
  {
   "cell_type": "code",
   "execution_count": 3,
   "metadata": {},
   "outputs": [
    {
     "data": {
      "text/plain": [
       "(40890, 20)"
      ]
     },
     "execution_count": 3,
     "metadata": {},
     "output_type": "execute_result"
    }
   ],
   "source": [
    "books_df.shape"
   ]
  },
  {
   "cell_type": "code",
   "execution_count": 4,
   "metadata": {},
   "outputs": [
    {
     "data": {
      "text/html": [
       "<div>\n",
       "<style scoped>\n",
       "    .dataframe tbody tr th:only-of-type {\n",
       "        vertical-align: middle;\n",
       "    }\n",
       "\n",
       "    .dataframe tbody tr th {\n",
       "        vertical-align: top;\n",
       "    }\n",
       "\n",
       "    .dataframe thead th {\n",
       "        text-align: right;\n",
       "    }\n",
       "</style>\n",
       "<table border=\"1\" class=\"dataframe\">\n",
       "  <thead>\n",
       "    <tr style=\"text-align: right;\">\n",
       "      <th></th>\n",
       "      <th>Id</th>\n",
       "      <th>Rating</th>\n",
       "      <th>PublishYear</th>\n",
       "      <th>PublishMonth</th>\n",
       "      <th>PublishDay</th>\n",
       "      <th>CountsOfReview</th>\n",
       "      <th>pagesNumber</th>\n",
       "      <th>Count of text reviews</th>\n",
       "    </tr>\n",
       "  </thead>\n",
       "  <tbody>\n",
       "    <tr>\n",
       "      <th>count</th>\n",
       "      <td>40890.000000</td>\n",
       "      <td>40890.000000</td>\n",
       "      <td>40890.000000</td>\n",
       "      <td>40890.000000</td>\n",
       "      <td>40890.000000</td>\n",
       "      <td>40890.000000</td>\n",
       "      <td>40890.000000</td>\n",
       "      <td>40890.000000</td>\n",
       "    </tr>\n",
       "    <tr>\n",
       "      <th>mean</th>\n",
       "      <td>949177.751431</td>\n",
       "      <td>3.469541</td>\n",
       "      <td>1998.890584</td>\n",
       "      <td>9.709636</td>\n",
       "      <td>6.346075</td>\n",
       "      <td>8.834238</td>\n",
       "      <td>276.196747</td>\n",
       "      <td>8.834238</td>\n",
       "    </tr>\n",
       "    <tr>\n",
       "      <th>std</th>\n",
       "      <td>29062.356909</td>\n",
       "      <td>1.242119</td>\n",
       "      <td>8.462135</td>\n",
       "      <td>10.235637</td>\n",
       "      <td>3.565110</td>\n",
       "      <td>71.253610</td>\n",
       "      <td>505.166816</td>\n",
       "      <td>71.253610</td>\n",
       "    </tr>\n",
       "    <tr>\n",
       "      <th>min</th>\n",
       "      <td>900000.000000</td>\n",
       "      <td>0.000000</td>\n",
       "      <td>1899.000000</td>\n",
       "      <td>1.000000</td>\n",
       "      <td>1.000000</td>\n",
       "      <td>0.000000</td>\n",
       "      <td>0.000000</td>\n",
       "      <td>0.000000</td>\n",
       "    </tr>\n",
       "    <tr>\n",
       "      <th>25%</th>\n",
       "      <td>923881.250000</td>\n",
       "      <td>3.470000</td>\n",
       "      <td>1995.000000</td>\n",
       "      <td>1.000000</td>\n",
       "      <td>3.000000</td>\n",
       "      <td>0.000000</td>\n",
       "      <td>153.000000</td>\n",
       "      <td>0.000000</td>\n",
       "    </tr>\n",
       "    <tr>\n",
       "      <th>50%</th>\n",
       "      <td>948838.500000</td>\n",
       "      <td>3.840000</td>\n",
       "      <td>2001.000000</td>\n",
       "      <td>4.000000</td>\n",
       "      <td>6.000000</td>\n",
       "      <td>1.000000</td>\n",
       "      <td>241.000000</td>\n",
       "      <td>1.000000</td>\n",
       "    </tr>\n",
       "    <tr>\n",
       "      <th>75%</th>\n",
       "      <td>974600.250000</td>\n",
       "      <td>4.090000</td>\n",
       "      <td>2005.000000</td>\n",
       "      <td>17.000000</td>\n",
       "      <td>9.000000</td>\n",
       "      <td>4.000000</td>\n",
       "      <td>340.000000</td>\n",
       "      <td>4.000000</td>\n",
       "    </tr>\n",
       "    <tr>\n",
       "      <th>max</th>\n",
       "      <td>999998.000000</td>\n",
       "      <td>5.000000</td>\n",
       "      <td>2020.000000</td>\n",
       "      <td>31.000000</td>\n",
       "      <td>12.000000</td>\n",
       "      <td>6495.000000</td>\n",
       "      <td>80500.000000</td>\n",
       "      <td>6495.000000</td>\n",
       "    </tr>\n",
       "  </tbody>\n",
       "</table>\n",
       "</div>"
      ],
      "text/plain": [
       "                  Id        Rating   PublishYear  PublishMonth    PublishDay  \\\n",
       "count   40890.000000  40890.000000  40890.000000  40890.000000  40890.000000   \n",
       "mean   949177.751431      3.469541   1998.890584      9.709636      6.346075   \n",
       "std     29062.356909      1.242119      8.462135     10.235637      3.565110   \n",
       "min    900000.000000      0.000000   1899.000000      1.000000      1.000000   \n",
       "25%    923881.250000      3.470000   1995.000000      1.000000      3.000000   \n",
       "50%    948838.500000      3.840000   2001.000000      4.000000      6.000000   \n",
       "75%    974600.250000      4.090000   2005.000000     17.000000      9.000000   \n",
       "max    999998.000000      5.000000   2020.000000     31.000000     12.000000   \n",
       "\n",
       "       CountsOfReview   pagesNumber  Count of text reviews  \n",
       "count    40890.000000  40890.000000           40890.000000  \n",
       "mean         8.834238    276.196747               8.834238  \n",
       "std         71.253610    505.166816              71.253610  \n",
       "min          0.000000      0.000000               0.000000  \n",
       "25%          0.000000    153.000000               0.000000  \n",
       "50%          1.000000    241.000000               1.000000  \n",
       "75%          4.000000    340.000000               4.000000  \n",
       "max       6495.000000  80500.000000            6495.000000  "
      ]
     },
     "execution_count": 4,
     "metadata": {},
     "output_type": "execute_result"
    }
   ],
   "source": [
    "books_df.describe()"
   ]
  },
  {
   "cell_type": "code",
   "execution_count": 5,
   "metadata": {},
   "outputs": [
    {
     "data": {
      "text/plain": [
       "Index(['Id', 'Name', 'Authors', 'ISBN', 'Rating', 'PublishYear',\n",
       "       'PublishMonth', 'PublishDay', 'Publisher', 'RatingDist5', 'RatingDist4',\n",
       "       'RatingDist3', 'RatingDist2', 'RatingDist1', 'RatingDistTotal',\n",
       "       'CountsOfReview', 'Language', 'pagesNumber', 'Description',\n",
       "       'Count of text reviews'],\n",
       "      dtype='object')"
      ]
     },
     "execution_count": 5,
     "metadata": {},
     "output_type": "execute_result"
    }
   ],
   "source": [
    "columns = books_df.columns\n",
    "columns"
   ]
  },
  {
   "cell_type": "code",
   "execution_count": 6,
   "metadata": {},
   "outputs": [],
   "source": [
    "removed_columns = ['RatingDist5', 'RatingDist4',\n",
    "               'RatingDist3', 'RatingDist2', 'RatingDist1', 'pagesNumber',\n",
    "                'RatingDistTotal', 'Count of text reviews', 'CountsOfReview','Description']"
   ]
  },
  {
   "cell_type": "code",
   "execution_count": 7,
   "metadata": {},
   "outputs": [],
   "source": [
    "# drop unused columns\n",
    "books_df.drop(columns = removed_columns, inplace=True)"
   ]
  },
  {
   "cell_type": "code",
   "execution_count": 8,
   "metadata": {},
   "outputs": [
    {
     "data": {
      "text/html": [
       "<div>\n",
       "<style scoped>\n",
       "    .dataframe tbody tr th:only-of-type {\n",
       "        vertical-align: middle;\n",
       "    }\n",
       "\n",
       "    .dataframe tbody tr th {\n",
       "        vertical-align: top;\n",
       "    }\n",
       "\n",
       "    .dataframe thead th {\n",
       "        text-align: right;\n",
       "    }\n",
       "</style>\n",
       "<table border=\"1\" class=\"dataframe\">\n",
       "  <thead>\n",
       "    <tr style=\"text-align: right;\">\n",
       "      <th></th>\n",
       "      <th>BookId</th>\n",
       "      <th>Title</th>\n",
       "      <th>Authors</th>\n",
       "      <th>ISBN</th>\n",
       "      <th>Rating</th>\n",
       "      <th>PublishY</th>\n",
       "      <th>PublishD</th>\n",
       "      <th>PublishM</th>\n",
       "      <th>Publisher</th>\n",
       "      <th>Language</th>\n",
       "    </tr>\n",
       "  </thead>\n",
       "  <tbody>\n",
       "    <tr>\n",
       "      <th>0</th>\n",
       "      <td>900000</td>\n",
       "      <td>Cabinet 03: Weather</td>\n",
       "      <td>Jeffrey Kastner</td>\n",
       "      <td>1932698019</td>\n",
       "      <td>4.00</td>\n",
       "      <td>2004</td>\n",
       "      <td>2</td>\n",
       "      <td>1</td>\n",
       "      <td>Cabinet</td>\n",
       "      <td>NaN</td>\n",
       "    </tr>\n",
       "    <tr>\n",
       "      <th>1</th>\n",
       "      <td>900001</td>\n",
       "      <td>Workouts in a Binder for Swimmers, Triathletes...</td>\n",
       "      <td>Nick Hansen</td>\n",
       "      <td>1931382743</td>\n",
       "      <td>4.48</td>\n",
       "      <td>2005</td>\n",
       "      <td>18</td>\n",
       "      <td>11</td>\n",
       "      <td>Velo Press</td>\n",
       "      <td>NaN</td>\n",
       "    </tr>\n",
       "    <tr>\n",
       "      <th>2</th>\n",
       "      <td>900002</td>\n",
       "      <td>Las 120 jornadas de Sodoma</td>\n",
       "      <td>Marquis de Sade</td>\n",
       "      <td>8472233847</td>\n",
       "      <td>3.12</td>\n",
       "      <td>1992</td>\n",
       "      <td>1</td>\n",
       "      <td>3</td>\n",
       "      <td>TusQuets</td>\n",
       "      <td>NaN</td>\n",
       "    </tr>\n",
       "    <tr>\n",
       "      <th>3</th>\n",
       "      <td>900004</td>\n",
       "      <td>The Traveler: An American Odyssey in the Himal...</td>\n",
       "      <td>Eric Hansen</td>\n",
       "      <td>0871563509</td>\n",
       "      <td>4.18</td>\n",
       "      <td>1995</td>\n",
       "      <td>6</td>\n",
       "      <td>6</td>\n",
       "      <td>Random House, Inc.</td>\n",
       "      <td>NaN</td>\n",
       "    </tr>\n",
       "    <tr>\n",
       "      <th>4</th>\n",
       "      <td>900006</td>\n",
       "      <td>Vertical Smile</td>\n",
       "      <td>Richard Condon</td>\n",
       "      <td>0297994026</td>\n",
       "      <td>3.74</td>\n",
       "      <td>1972</td>\n",
       "      <td>20</td>\n",
       "      <td>4</td>\n",
       "      <td>Littlehampton Book Services Ltd</td>\n",
       "      <td>NaN</td>\n",
       "    </tr>\n",
       "  </tbody>\n",
       "</table>\n",
       "</div>"
      ],
      "text/plain": [
       "   BookId                                              Title          Authors  \\\n",
       "0  900000                                Cabinet 03: Weather  Jeffrey Kastner   \n",
       "1  900001  Workouts in a Binder for Swimmers, Triathletes...      Nick Hansen   \n",
       "2  900002                         Las 120 jornadas de Sodoma  Marquis de Sade   \n",
       "3  900004  The Traveler: An American Odyssey in the Himal...      Eric Hansen   \n",
       "4  900006                                     Vertical Smile   Richard Condon   \n",
       "\n",
       "         ISBN  Rating  PublishY  PublishD  PublishM  \\\n",
       "0  1932698019    4.00      2004         2         1   \n",
       "1  1931382743    4.48      2005        18        11   \n",
       "2  8472233847    3.12      1992         1         3   \n",
       "3  0871563509    4.18      1995         6         6   \n",
       "4  0297994026    3.74      1972        20         4   \n",
       "\n",
       "                         Publisher Language  \n",
       "0                          Cabinet      NaN  \n",
       "1                       Velo Press      NaN  \n",
       "2                         TusQuets      NaN  \n",
       "3               Random House, Inc.      NaN  \n",
       "4  Littlehampton Book Services Ltd      NaN  "
      ]
     },
     "execution_count": 8,
     "metadata": {},
     "output_type": "execute_result"
    }
   ],
   "source": [
    "# rename columns\n",
    "books_df = books_df.rename(columns={'Id':'BookId', 'Name':'Title', 'PublishYear':'PublishY', \n",
    "                                    'PublishMonth':'PublishD', 'PublishDay':'PublishM'})\n",
    "\n",
    "books_df.head()"
   ]
  },
  {
   "cell_type": "code",
   "execution_count": 9,
   "metadata": {},
   "outputs": [],
   "source": [
    "# books_df.columns"
   ]
  },
  {
   "cell_type": "code",
   "execution_count": 10,
   "metadata": {},
   "outputs": [],
   "source": [
    "\n",
    "# by_lang_df = books_df.sort_values(['Language'], ascending=True) #.sum()['Language']\n",
    "# nan_lang_counts = books_df.loc[by_lang_df.Language == NaN]\n",
    "# by_lang_df.head()"
   ]
  },
  {
   "cell_type": "code",
   "execution_count": 11,
   "metadata": {},
   "outputs": [],
   "source": [
    "# # replace all NaN value in Language column by eng\n",
    "\n",
    "values ={'Language':'eng'}\n",
    "books_df.fillna(value = values, inplace=True)"
   ]
  },
  {
   "cell_type": "code",
   "execution_count": 12,
   "metadata": {},
   "outputs": [],
   "source": [
    "# save to csv file\n",
    "books_df.to_csv(\"Resources/cleaned_books.csv\", index=False)"
   ]
  },
  {
   "cell_type": "code",
   "execution_count": 13,
   "metadata": {},
   "outputs": [],
   "source": [
    "# filter data to keep Language with 'en-GB' & 'en-US' value\n",
    "# en_books_df = books_df.loc[(books_df.Language == 'en-GB') | (books_df.Language == 'en-US')]\n",
    "# en_books_df.tail()"
   ]
  },
  {
   "cell_type": "code",
   "execution_count": 14,
   "metadata": {},
   "outputs": [],
   "source": [
    "# en_books_df.shape"
   ]
  },
  {
   "cell_type": "code",
   "execution_count": 15,
   "metadata": {},
   "outputs": [],
   "source": [
    "# save to csv file\n",
    "# en_books_df.to_csv(\"Resources/en_cleaned_books.csv\", index=False)"
   ]
  },
  {
   "cell_type": "code",
   "execution_count": 16,
   "metadata": {},
   "outputs": [
    {
     "data": {
      "text/html": [
       "<div>\n",
       "<style scoped>\n",
       "    .dataframe tbody tr th:only-of-type {\n",
       "        vertical-align: middle;\n",
       "    }\n",
       "\n",
       "    .dataframe tbody tr th {\n",
       "        vertical-align: top;\n",
       "    }\n",
       "\n",
       "    .dataframe thead th {\n",
       "        text-align: right;\n",
       "    }\n",
       "</style>\n",
       "<table border=\"1\" class=\"dataframe\">\n",
       "  <thead>\n",
       "    <tr style=\"text-align: right;\">\n",
       "      <th></th>\n",
       "      <th>BookId</th>\n",
       "      <th>Title</th>\n",
       "      <th>Authors</th>\n",
       "      <th>ISBN</th>\n",
       "      <th>PublishY</th>\n",
       "      <th>PublishD</th>\n",
       "      <th>PublishM</th>\n",
       "      <th>Publisher</th>\n",
       "      <th>Language</th>\n",
       "    </tr>\n",
       "    <tr>\n",
       "      <th>Rating</th>\n",
       "      <th></th>\n",
       "      <th></th>\n",
       "      <th></th>\n",
       "      <th></th>\n",
       "      <th></th>\n",
       "      <th></th>\n",
       "      <th></th>\n",
       "      <th></th>\n",
       "      <th></th>\n",
       "    </tr>\n",
       "  </thead>\n",
       "  <tbody>\n",
       "    <tr>\n",
       "      <th>0.00</th>\n",
       "      <td>4013</td>\n",
       "      <td>4013</td>\n",
       "      <td>4013</td>\n",
       "      <td>4008</td>\n",
       "      <td>4013</td>\n",
       "      <td>4013</td>\n",
       "      <td>4013</td>\n",
       "      <td>3961</td>\n",
       "      <td>4013</td>\n",
       "    </tr>\n",
       "    <tr>\n",
       "      <th>1.00</th>\n",
       "      <td>93</td>\n",
       "      <td>93</td>\n",
       "      <td>93</td>\n",
       "      <td>92</td>\n",
       "      <td>93</td>\n",
       "      <td>93</td>\n",
       "      <td>93</td>\n",
       "      <td>93</td>\n",
       "      <td>93</td>\n",
       "    </tr>\n",
       "    <tr>\n",
       "      <th>1.33</th>\n",
       "      <td>1</td>\n",
       "      <td>1</td>\n",
       "      <td>1</td>\n",
       "      <td>1</td>\n",
       "      <td>1</td>\n",
       "      <td>1</td>\n",
       "      <td>1</td>\n",
       "      <td>1</td>\n",
       "      <td>1</td>\n",
       "    </tr>\n",
       "    <tr>\n",
       "      <th>1.50</th>\n",
       "      <td>11</td>\n",
       "      <td>11</td>\n",
       "      <td>11</td>\n",
       "      <td>11</td>\n",
       "      <td>11</td>\n",
       "      <td>11</td>\n",
       "      <td>11</td>\n",
       "      <td>9</td>\n",
       "      <td>11</td>\n",
       "    </tr>\n",
       "    <tr>\n",
       "      <th>1.55</th>\n",
       "      <td>1</td>\n",
       "      <td>1</td>\n",
       "      <td>1</td>\n",
       "      <td>1</td>\n",
       "      <td>1</td>\n",
       "      <td>1</td>\n",
       "      <td>1</td>\n",
       "      <td>1</td>\n",
       "      <td>1</td>\n",
       "    </tr>\n",
       "  </tbody>\n",
       "</table>\n",
       "</div>"
      ],
      "text/plain": [
       "        BookId  Title  Authors  ISBN  PublishY  PublishD  PublishM  Publisher  \\\n",
       "Rating                                                                          \n",
       "0.00      4013   4013     4013  4008      4013      4013      4013       3961   \n",
       "1.00        93     93       93    92        93        93        93         93   \n",
       "1.33         1      1        1     1         1         1         1          1   \n",
       "1.50        11     11       11    11        11        11        11          9   \n",
       "1.55         1      1        1     1         1         1         1          1   \n",
       "\n",
       "        Language  \n",
       "Rating            \n",
       "0.00        4013  \n",
       "1.00          93  \n",
       "1.33           1  \n",
       "1.50          11  \n",
       "1.55           1  "
      ]
     },
     "execution_count": 16,
     "metadata": {},
     "output_type": "execute_result"
    }
   ],
   "source": [
    "rating_counts = books_df.groupby(\"Rating\").count()\n",
    "rating_counts.head()\n",
    "#rating_counts.shape"
   ]
  },
  {
   "cell_type": "code",
   "execution_count": 17,
   "metadata": {},
   "outputs": [
    {
     "data": {
      "text/plain": [
       "28666"
      ]
     },
     "execution_count": 17,
     "metadata": {},
     "output_type": "execute_result"
    }
   ],
   "source": [
    "author_counts = author_list = books_df.Authors.nunique()\n",
    "author_counts"
   ]
  },
  {
   "cell_type": "code",
   "execution_count": 18,
   "metadata": {},
   "outputs": [],
   "source": [
    "author_list = books_df.groupby(\"Authors\").nunique()['Authors']"
   ]
  },
  {
   "cell_type": "code",
   "execution_count": 19,
   "metadata": {},
   "outputs": [],
   "source": [
    "author_list_df = pd.DataFrame(author_list)"
   ]
  },
  {
   "cell_type": "code",
   "execution_count": 20,
   "metadata": {},
   "outputs": [
    {
     "data": {
      "text/html": [
       "<div>\n",
       "<style scoped>\n",
       "    .dataframe tbody tr th:only-of-type {\n",
       "        vertical-align: middle;\n",
       "    }\n",
       "\n",
       "    .dataframe tbody tr th {\n",
       "        vertical-align: top;\n",
       "    }\n",
       "\n",
       "    .dataframe thead th {\n",
       "        text-align: right;\n",
       "    }\n",
       "</style>\n",
       "<table border=\"1\" class=\"dataframe\">\n",
       "  <thead>\n",
       "    <tr style=\"text-align: right;\">\n",
       "      <th></th>\n",
       "      <th>Authors</th>\n",
       "      <th>Count</th>\n",
       "    </tr>\n",
       "  </thead>\n",
       "  <tbody>\n",
       "    <tr>\n",
       "      <th>0</th>\n",
       "      <td>'Izz al-Din Ibn al-Athir</td>\n",
       "      <td>1</td>\n",
       "    </tr>\n",
       "    <tr>\n",
       "      <th>1</th>\n",
       "      <td>50 Cent</td>\n",
       "      <td>1</td>\n",
       "    </tr>\n",
       "    <tr>\n",
       "      <th>2</th>\n",
       "      <td>6' Ferret Writers' Group</td>\n",
       "      <td>1</td>\n",
       "    </tr>\n",
       "    <tr>\n",
       "      <th>3</th>\n",
       "      <td>A H Keesman-Marwitz</td>\n",
       "      <td>1</td>\n",
       "    </tr>\n",
       "    <tr>\n",
       "      <th>4</th>\n",
       "      <td>A. Ashley</td>\n",
       "      <td>1</td>\n",
       "    </tr>\n",
       "    <tr>\n",
       "      <th>...</th>\n",
       "      <td>...</td>\n",
       "      <td>...</td>\n",
       "    </tr>\n",
       "    <tr>\n",
       "      <th>28661</th>\n",
       "      <td>Øivind Storm Bjerke</td>\n",
       "      <td>1</td>\n",
       "    </tr>\n",
       "    <tr>\n",
       "      <th>28662</th>\n",
       "      <td>Ānandamūrti</td>\n",
       "      <td>1</td>\n",
       "    </tr>\n",
       "    <tr>\n",
       "      <th>28663</th>\n",
       "      <td>Дарья Донцова</td>\n",
       "      <td>1</td>\n",
       "    </tr>\n",
       "    <tr>\n",
       "      <th>28664</th>\n",
       "      <td>جبرا إبراهيم جبرا</td>\n",
       "      <td>1</td>\n",
       "    </tr>\n",
       "    <tr>\n",
       "      <th>28665</th>\n",
       "      <td>مسلم بن الحجاج</td>\n",
       "      <td>1</td>\n",
       "    </tr>\n",
       "  </tbody>\n",
       "</table>\n",
       "<p>28666 rows × 2 columns</p>\n",
       "</div>"
      ],
      "text/plain": [
       "                        Authors  Count\n",
       "0      'Izz al-Din Ibn al-Athir      1\n",
       "1                       50 Cent      1\n",
       "2      6' Ferret Writers' Group      1\n",
       "3           A H Keesman-Marwitz      1\n",
       "4                     A. Ashley      1\n",
       "...                         ...    ...\n",
       "28661       Øivind Storm Bjerke      1\n",
       "28662               Ānandamūrti      1\n",
       "28663             Дарья Донцова      1\n",
       "28664         جبرا إبراهيم جبرا      1\n",
       "28665            مسلم بن الحجاج      1\n",
       "\n",
       "[28666 rows x 2 columns]"
      ]
     },
     "execution_count": 20,
     "metadata": {},
     "output_type": "execute_result"
    }
   ],
   "source": [
    "# rename column and reset index\n",
    "author_list_df = author_list_df.rename(columns={'Authors':'Count'})\n",
    "author_list_df.reset_index(inplace=True)\n",
    "author_list_df"
   ]
  },
  {
   "cell_type": "code",
   "execution_count": 21,
   "metadata": {},
   "outputs": [],
   "source": [
    "# sort authors list  by name\n",
    "\n",
    "author_list_df = author_list_df.sort_values([\"Authors\"], ascending = True)\n",
    "#author_list_df.tail()"
   ]
  },
  {
   "cell_type": "code",
   "execution_count": 22,
   "metadata": {},
   "outputs": [],
   "source": [
    "# save to csv file\n",
    "\n",
    "# author_list_df.to_csv(\"Resources/authors_list.csv\", index=False)"
   ]
  },
  {
   "cell_type": "markdown",
   "metadata": {},
   "source": [
    "### cleaned books"
   ]
  },
  {
   "cell_type": "code",
   "execution_count": 23,
   "metadata": {},
   "outputs": [],
   "source": [
    "# before: there was 40,890 records and 20 columns with NaN value in Language\n",
    "\n",
    "# after: removed ten columns ('RatingDist5', 'RatingDist4',\n",
    "#     'RatingDist3', 'RatingDist2', 'RatingDist1', 'RatingDistTotal',\n",
    "#     'pagesNumber','Count of text reviews', 'CountsOfReview', 'Description') from the dataset\n",
    "# rename 'Id' to 'Book_id' and 'Name' to 'Title'\n",
    "# replace all NaN value in Language by 'eng'\n",
    "\n",
    "# observastion: in the cleaned_books dataset there is \"blank\" and date (\"10/18/2020\") \n",
    "# value in publisher column. please take this into consideration when using the cleaned_books dataset."
   ]
  },
  {
   "cell_type": "markdown",
   "metadata": {},
   "source": [
    "### cleaned authors"
   ]
  },
  {
   "cell_type": "code",
   "execution_count": 55,
   "metadata": {},
   "outputs": [
    {
     "data": {
      "text/html": [
       "<div>\n",
       "<style scoped>\n",
       "    .dataframe tbody tr th:only-of-type {\n",
       "        vertical-align: middle;\n",
       "    }\n",
       "\n",
       "    .dataframe tbody tr th {\n",
       "        vertical-align: top;\n",
       "    }\n",
       "\n",
       "    .dataframe thead th {\n",
       "        text-align: right;\n",
       "    }\n",
       "</style>\n",
       "<table border=\"1\" class=\"dataframe\">\n",
       "  <thead>\n",
       "    <tr style=\"text-align: right;\">\n",
       "      <th></th>\n",
       "      <th>Authors</th>\n",
       "      <th>Count</th>\n",
       "    </tr>\n",
       "  </thead>\n",
       "  <tbody>\n",
       "    <tr>\n",
       "      <th>0</th>\n",
       "      <td>'Izz al-Din Ibn al-Athir</td>\n",
       "      <td>1</td>\n",
       "    </tr>\n",
       "    <tr>\n",
       "      <th>1</th>\n",
       "      <td>50 Cent</td>\n",
       "      <td>1</td>\n",
       "    </tr>\n",
       "    <tr>\n",
       "      <th>2</th>\n",
       "      <td>6' Ferret Writers' Group</td>\n",
       "      <td>1</td>\n",
       "    </tr>\n",
       "    <tr>\n",
       "      <th>3</th>\n",
       "      <td>A H Keesman-Marwitz</td>\n",
       "      <td>1</td>\n",
       "    </tr>\n",
       "    <tr>\n",
       "      <th>4</th>\n",
       "      <td>A. Ashley</td>\n",
       "      <td>1</td>\n",
       "    </tr>\n",
       "  </tbody>\n",
       "</table>\n",
       "</div>"
      ],
      "text/plain": [
       "                    Authors  Count\n",
       "0  'Izz al-Din Ibn al-Athir      1\n",
       "1                   50 Cent      1\n",
       "2  6' Ferret Writers' Group      1\n",
       "3       A H Keesman-Marwitz      1\n",
       "4                 A. Ashley      1"
      ]
     },
     "execution_count": 55,
     "metadata": {},
     "output_type": "execute_result"
    }
   ],
   "source": [
    "# File to Load \n",
    "data_to_load = \"Resources/authors_list.csv\"\n",
    "\n",
    "# Read data file into into Pandas dataframe\n",
    "authors_df = pd.read_csv(data_to_load)\n",
    "authors_df.head()"
   ]
  },
  {
   "cell_type": "code",
   "execution_count": 56,
   "metadata": {},
   "outputs": [],
   "source": [
    "authors_df.drop(columns=['Count'], inplace=True)"
   ]
  },
  {
   "cell_type": "code",
   "execution_count": 57,
   "metadata": {},
   "outputs": [
    {
     "data": {
      "text/html": [
       "<div>\n",
       "<style scoped>\n",
       "    .dataframe tbody tr th:only-of-type {\n",
       "        vertical-align: middle;\n",
       "    }\n",
       "\n",
       "    .dataframe tbody tr th {\n",
       "        vertical-align: top;\n",
       "    }\n",
       "\n",
       "    .dataframe thead th {\n",
       "        text-align: right;\n",
       "    }\n",
       "</style>\n",
       "<table border=\"1\" class=\"dataframe\">\n",
       "  <thead>\n",
       "    <tr style=\"text-align: right;\">\n",
       "      <th></th>\n",
       "      <th>AuthorName</th>\n",
       "    </tr>\n",
       "  </thead>\n",
       "  <tbody>\n",
       "    <tr>\n",
       "      <th>0</th>\n",
       "      <td>'Izz al-Din Ibn al-Athir</td>\n",
       "    </tr>\n",
       "    <tr>\n",
       "      <th>1</th>\n",
       "      <td>50 Cent</td>\n",
       "    </tr>\n",
       "    <tr>\n",
       "      <th>2</th>\n",
       "      <td>6' Ferret Writers' Group</td>\n",
       "    </tr>\n",
       "    <tr>\n",
       "      <th>3</th>\n",
       "      <td>A H Keesman-Marwitz</td>\n",
       "    </tr>\n",
       "    <tr>\n",
       "      <th>4</th>\n",
       "      <td>A. Ashley</td>\n",
       "    </tr>\n",
       "  </tbody>\n",
       "</table>\n",
       "</div>"
      ],
      "text/plain": [
       "                 AuthorName\n",
       "0  'Izz al-Din Ibn al-Athir\n",
       "1                   50 Cent\n",
       "2  6' Ferret Writers' Group\n",
       "3       A H Keesman-Marwitz\n",
       "4                 A. Ashley"
      ]
     },
     "execution_count": 57,
     "metadata": {},
     "output_type": "execute_result"
    }
   ],
   "source": [
    "authors_df = authors_df.rename(columns={'Authors':'AuthorName'})\n",
    "\n",
    "authors_df.head()"
   ]
  },
  {
   "cell_type": "code",
   "execution_count": 65,
   "metadata": {},
   "outputs": [
    {
     "data": {
      "text/html": [
       "<div>\n",
       "<style scoped>\n",
       "    .dataframe tbody tr th:only-of-type {\n",
       "        vertical-align: middle;\n",
       "    }\n",
       "\n",
       "    .dataframe tbody tr th {\n",
       "        vertical-align: top;\n",
       "    }\n",
       "\n",
       "    .dataframe thead th {\n",
       "        text-align: right;\n",
       "    }\n",
       "</style>\n",
       "<table border=\"1\" class=\"dataframe\">\n",
       "  <thead>\n",
       "    <tr style=\"text-align: right;\">\n",
       "      <th></th>\n",
       "      <th>Unnamed: 0</th>\n",
       "      <th>author_id</th>\n",
       "      <th>author_name</th>\n",
       "      <th>author_link</th>\n",
       "    </tr>\n",
       "  </thead>\n",
       "  <tbody>\n",
       "    <tr>\n",
       "      <th>0</th>\n",
       "      <td>0</td>\n",
       "      <td>14980615</td>\n",
       "      <td>Chip Gaines</td>\n",
       "      <td>https://www.goodreads.com/author/show/14980615...</td>\n",
       "    </tr>\n",
       "    <tr>\n",
       "      <th>1</th>\n",
       "      <td>1</td>\n",
       "      <td>33280</td>\n",
       "      <td>Dav Pilkey</td>\n",
       "      <td>https://www.goodreads.com/author/show/33280.Da...</td>\n",
       "    </tr>\n",
       "    <tr>\n",
       "      <th>2</th>\n",
       "      <td>2</td>\n",
       "      <td>61105</td>\n",
       "      <td>Dr. Seuss</td>\n",
       "      <td>https://www.goodreads.com/author/show/61105.Dr...</td>\n",
       "    </tr>\n",
       "    <tr>\n",
       "      <th>3</th>\n",
       "      <td>3</td>\n",
       "      <td>3362</td>\n",
       "      <td>Eric Carle</td>\n",
       "      <td>https://www.goodreads.com/author/show/3362.Eri...</td>\n",
       "    </tr>\n",
       "    <tr>\n",
       "      <th>4</th>\n",
       "      <td>4</td>\n",
       "      <td>4880403</td>\n",
       "      <td>Emily Winfield Martin</td>\n",
       "      <td>https://www.goodreads.com/author/show/4880403....</td>\n",
       "    </tr>\n",
       "  </tbody>\n",
       "</table>\n",
       "</div>"
      ],
      "text/plain": [
       "   Unnamed: 0  author_id            author_name  \\\n",
       "0           0   14980615            Chip Gaines   \n",
       "1           1      33280             Dav Pilkey   \n",
       "2           2      61105              Dr. Seuss   \n",
       "3           3       3362             Eric Carle   \n",
       "4           4    4880403  Emily Winfield Martin   \n",
       "\n",
       "                                         author_link  \n",
       "0  https://www.goodreads.com/author/show/14980615...  \n",
       "1  https://www.goodreads.com/author/show/33280.Da...  \n",
       "2  https://www.goodreads.com/author/show/61105.Dr...  \n",
       "3  https://www.goodreads.com/author/show/3362.Eri...  \n",
       "4  https://www.goodreads.com/author/show/4880403....  "
      ]
     },
     "execution_count": 65,
     "metadata": {},
     "output_type": "execute_result"
    }
   ],
   "source": [
    "# loading author_id file\n",
    "data_to_load = \"Resources/author_id.csv\"\n",
    "\n",
    "# Read data file into into Pandas dataframe\n",
    "author_id_df = pd.read_csv(data_to_load)\n",
    "author_id_df.head()"
   ]
  },
  {
   "cell_type": "code",
   "execution_count": 87,
   "metadata": {},
   "outputs": [
    {
     "data": {
      "text/plain": [
       "(247, 3)"
      ]
     },
     "execution_count": 87,
     "metadata": {},
     "output_type": "execute_result"
    }
   ],
   "source": [
    "author_id_df.shape"
   ]
  },
  {
   "cell_type": "code",
   "execution_count": 66,
   "metadata": {},
   "outputs": [],
   "source": [
    "# rename columns AuthorId\n",
    "author_id_df = author_id_df.rename(columns={'author_id':'AuthorId', 'author_name':'AuthorName','author_link':'AuthorLink'})"
   ]
  },
  {
   "cell_type": "code",
   "execution_count": 67,
   "metadata": {},
   "outputs": [],
   "source": [
    "# drop unused column\n",
    "author_id_df.drop(columns=['Unnamed: 0'], inplace=True)\n"
   ]
  },
  {
   "cell_type": "code",
   "execution_count": 68,
   "metadata": {},
   "outputs": [
    {
     "data": {
      "text/html": [
       "<div>\n",
       "<style scoped>\n",
       "    .dataframe tbody tr th:only-of-type {\n",
       "        vertical-align: middle;\n",
       "    }\n",
       "\n",
       "    .dataframe tbody tr th {\n",
       "        vertical-align: top;\n",
       "    }\n",
       "\n",
       "    .dataframe thead th {\n",
       "        text-align: right;\n",
       "    }\n",
       "</style>\n",
       "<table border=\"1\" class=\"dataframe\">\n",
       "  <thead>\n",
       "    <tr style=\"text-align: right;\">\n",
       "      <th></th>\n",
       "      <th>AuthorId</th>\n",
       "      <th>AuthorName</th>\n",
       "      <th>AuthorLink</th>\n",
       "    </tr>\n",
       "  </thead>\n",
       "  <tbody>\n",
       "    <tr>\n",
       "      <th>0</th>\n",
       "      <td>14980615</td>\n",
       "      <td>Chip Gaines</td>\n",
       "      <td>https://www.goodreads.com/author/show/14980615...</td>\n",
       "    </tr>\n",
       "    <tr>\n",
       "      <th>1</th>\n",
       "      <td>33280</td>\n",
       "      <td>Dav Pilkey</td>\n",
       "      <td>https://www.goodreads.com/author/show/33280.Da...</td>\n",
       "    </tr>\n",
       "    <tr>\n",
       "      <th>2</th>\n",
       "      <td>61105</td>\n",
       "      <td>Dr. Seuss</td>\n",
       "      <td>https://www.goodreads.com/author/show/61105.Dr...</td>\n",
       "    </tr>\n",
       "    <tr>\n",
       "      <th>3</th>\n",
       "      <td>3362</td>\n",
       "      <td>Eric Carle</td>\n",
       "      <td>https://www.goodreads.com/author/show/3362.Eri...</td>\n",
       "    </tr>\n",
       "    <tr>\n",
       "      <th>4</th>\n",
       "      <td>4880403</td>\n",
       "      <td>Emily Winfield Martin</td>\n",
       "      <td>https://www.goodreads.com/author/show/4880403....</td>\n",
       "    </tr>\n",
       "  </tbody>\n",
       "</table>\n",
       "</div>"
      ],
      "text/plain": [
       "   AuthorId             AuthorName  \\\n",
       "0  14980615            Chip Gaines   \n",
       "1     33280             Dav Pilkey   \n",
       "2     61105              Dr. Seuss   \n",
       "3      3362             Eric Carle   \n",
       "4   4880403  Emily Winfield Martin   \n",
       "\n",
       "                                          AuthorLink  \n",
       "0  https://www.goodreads.com/author/show/14980615...  \n",
       "1  https://www.goodreads.com/author/show/33280.Da...  \n",
       "2  https://www.goodreads.com/author/show/61105.Dr...  \n",
       "3  https://www.goodreads.com/author/show/3362.Eri...  \n",
       "4  https://www.goodreads.com/author/show/4880403....  "
      ]
     },
     "execution_count": 68,
     "metadata": {},
     "output_type": "execute_result"
    }
   ],
   "source": [
    "author_id_df.head()"
   ]
  },
  {
   "cell_type": "code",
   "execution_count": 69,
   "metadata": {},
   "outputs": [],
   "source": [
    "# merge authors_df with author_id_df\n",
    "\n",
    "merged_authors_df = authors_df.merge(author_id_df, how='inner', on = 'AuthorName')\n"
   ]
  },
  {
   "cell_type": "code",
   "execution_count": 70,
   "metadata": {},
   "outputs": [
    {
     "data": {
      "text/html": [
       "<div>\n",
       "<style scoped>\n",
       "    .dataframe tbody tr th:only-of-type {\n",
       "        vertical-align: middle;\n",
       "    }\n",
       "\n",
       "    .dataframe tbody tr th {\n",
       "        vertical-align: top;\n",
       "    }\n",
       "\n",
       "    .dataframe thead th {\n",
       "        text-align: right;\n",
       "    }\n",
       "</style>\n",
       "<table border=\"1\" class=\"dataframe\">\n",
       "  <thead>\n",
       "    <tr style=\"text-align: right;\">\n",
       "      <th></th>\n",
       "      <th>AuthorName</th>\n",
       "      <th>AuthorId</th>\n",
       "      <th>AuthorLink</th>\n",
       "    </tr>\n",
       "  </thead>\n",
       "  <tbody>\n",
       "    <tr>\n",
       "      <th>0</th>\n",
       "      <td>Abraham   Verghese</td>\n",
       "      <td>93353</td>\n",
       "      <td>https://www.goodreads.com/author/show/93353.Ab...</td>\n",
       "    </tr>\n",
       "    <tr>\n",
       "      <th>1</th>\n",
       "      <td>Alan Moore</td>\n",
       "      <td>3961</td>\n",
       "      <td>https://www.goodreads.com/author/show/3961.Ala...</td>\n",
       "    </tr>\n",
       "    <tr>\n",
       "      <th>2</th>\n",
       "      <td>Audrey Niffenegger</td>\n",
       "      <td>498072</td>\n",
       "      <td>https://www.goodreads.com/author/show/498072.A...</td>\n",
       "    </tr>\n",
       "    <tr>\n",
       "      <th>3</th>\n",
       "      <td>Bill Martin Jr.</td>\n",
       "      <td>5086768</td>\n",
       "      <td>https://www.goodreads.com/author/show/5086768....</td>\n",
       "    </tr>\n",
       "    <tr>\n",
       "      <th>4</th>\n",
       "      <td>Bob Woodward</td>\n",
       "      <td>15441</td>\n",
       "      <td>https://www.goodreads.com/author/show/15441.Bo...</td>\n",
       "    </tr>\n",
       "  </tbody>\n",
       "</table>\n",
       "</div>"
      ],
      "text/plain": [
       "           AuthorName  AuthorId  \\\n",
       "0  Abraham   Verghese     93353   \n",
       "1          Alan Moore      3961   \n",
       "2  Audrey Niffenegger    498072   \n",
       "3     Bill Martin Jr.   5086768   \n",
       "4        Bob Woodward     15441   \n",
       "\n",
       "                                          AuthorLink  \n",
       "0  https://www.goodreads.com/author/show/93353.Ab...  \n",
       "1  https://www.goodreads.com/author/show/3961.Ala...  \n",
       "2  https://www.goodreads.com/author/show/498072.A...  \n",
       "3  https://www.goodreads.com/author/show/5086768....  \n",
       "4  https://www.goodreads.com/author/show/15441.Bo...  "
      ]
     },
     "execution_count": 70,
     "metadata": {},
     "output_type": "execute_result"
    }
   ],
   "source": [
    "merged_authors_df.head()"
   ]
  },
  {
   "cell_type": "code",
   "execution_count": 74,
   "metadata": {},
   "outputs": [
    {
     "data": {
      "text/plain": [
       "(62, 3)"
      ]
     },
     "execution_count": 74,
     "metadata": {},
     "output_type": "execute_result"
    }
   ],
   "source": [
    "merged_authors_df.shape"
   ]
  },
  {
   "cell_type": "code",
   "execution_count": 73,
   "metadata": {},
   "outputs": [],
   "source": [
    "# save data to file\n",
    "merged_authors_df.to_csv('Resources/merged_authors.csv', index=False)"
   ]
  },
  {
   "cell_type": "markdown",
   "metadata": {},
   "source": [
    "### cleaned bestsellers"
   ]
  },
  {
   "cell_type": "code",
   "execution_count": 104,
   "metadata": {},
   "outputs": [
    {
     "data": {
      "text/html": [
       "<div>\n",
       "<style scoped>\n",
       "    .dataframe tbody tr th:only-of-type {\n",
       "        vertical-align: middle;\n",
       "    }\n",
       "\n",
       "    .dataframe tbody tr th {\n",
       "        vertical-align: top;\n",
       "    }\n",
       "\n",
       "    .dataframe thead th {\n",
       "        text-align: right;\n",
       "    }\n",
       "</style>\n",
       "<table border=\"1\" class=\"dataframe\">\n",
       "  <thead>\n",
       "    <tr style=\"text-align: right;\">\n",
       "      <th></th>\n",
       "      <th>Name</th>\n",
       "      <th>Author</th>\n",
       "      <th>User Rating</th>\n",
       "      <th>Reviews</th>\n",
       "      <th>Price</th>\n",
       "      <th>Year</th>\n",
       "      <th>Genre</th>\n",
       "    </tr>\n",
       "  </thead>\n",
       "  <tbody>\n",
       "    <tr>\n",
       "      <th>0</th>\n",
       "      <td>10-Day Green Smoothie Cleanse</td>\n",
       "      <td>JJ Smith</td>\n",
       "      <td>4.7</td>\n",
       "      <td>17350</td>\n",
       "      <td>8</td>\n",
       "      <td>2016</td>\n",
       "      <td>Non Fiction</td>\n",
       "    </tr>\n",
       "    <tr>\n",
       "      <th>1</th>\n",
       "      <td>11/22/63: A Novel</td>\n",
       "      <td>Stephen King</td>\n",
       "      <td>4.6</td>\n",
       "      <td>2052</td>\n",
       "      <td>22</td>\n",
       "      <td>2011</td>\n",
       "      <td>Fiction</td>\n",
       "    </tr>\n",
       "    <tr>\n",
       "      <th>2</th>\n",
       "      <td>12 Rules for Life: An Antidote to Chaos</td>\n",
       "      <td>Jordan B. Peterson</td>\n",
       "      <td>4.7</td>\n",
       "      <td>18979</td>\n",
       "      <td>15</td>\n",
       "      <td>2018</td>\n",
       "      <td>Non Fiction</td>\n",
       "    </tr>\n",
       "    <tr>\n",
       "      <th>3</th>\n",
       "      <td>1984 (Signet Classics)</td>\n",
       "      <td>George Orwell</td>\n",
       "      <td>4.7</td>\n",
       "      <td>21424</td>\n",
       "      <td>6</td>\n",
       "      <td>2017</td>\n",
       "      <td>Fiction</td>\n",
       "    </tr>\n",
       "    <tr>\n",
       "      <th>4</th>\n",
       "      <td>5,000 Awesome Facts (About Everything!) (Natio...</td>\n",
       "      <td>National Geographic Kids</td>\n",
       "      <td>4.8</td>\n",
       "      <td>7665</td>\n",
       "      <td>12</td>\n",
       "      <td>2019</td>\n",
       "      <td>Non Fiction</td>\n",
       "    </tr>\n",
       "  </tbody>\n",
       "</table>\n",
       "</div>"
      ],
      "text/plain": [
       "                                                Name  \\\n",
       "0                      10-Day Green Smoothie Cleanse   \n",
       "1                                  11/22/63: A Novel   \n",
       "2            12 Rules for Life: An Antidote to Chaos   \n",
       "3                             1984 (Signet Classics)   \n",
       "4  5,000 Awesome Facts (About Everything!) (Natio...   \n",
       "\n",
       "                     Author  User Rating  Reviews  Price  Year        Genre  \n",
       "0                  JJ Smith          4.7    17350      8  2016  Non Fiction  \n",
       "1              Stephen King          4.6     2052     22  2011      Fiction  \n",
       "2        Jordan B. Peterson          4.7    18979     15  2018  Non Fiction  \n",
       "3             George Orwell          4.7    21424      6  2017      Fiction  \n",
       "4  National Geographic Kids          4.8     7665     12  2019  Non Fiction  "
      ]
     },
     "execution_count": 104,
     "metadata": {},
     "output_type": "execute_result"
    }
   ],
   "source": [
    "# File to Load \n",
    "data_to_load = \"Resources/bestsellers with categories.csv\"\n",
    "\n",
    "# Read data file into into Pandas dataframe\n",
    "bestsellers_df = pd.read_csv(data_to_load)\n",
    "bestsellers_df.head()"
   ]
  },
  {
   "cell_type": "code",
   "execution_count": 105,
   "metadata": {},
   "outputs": [],
   "source": [
    "# rename columns\n",
    "\n",
    "bestsellers_df = bestsellers_df.rename(columns = {'Name': 'Title', 'Author':'AuthorName',\n",
    "                                                    'User Rating': 'Rating', 'Year':'PublishY'})"
   ]
  },
  {
   "cell_type": "code",
   "execution_count": 106,
   "metadata": {},
   "outputs": [
    {
     "data": {
      "text/html": [
       "<div>\n",
       "<style scoped>\n",
       "    .dataframe tbody tr th:only-of-type {\n",
       "        vertical-align: middle;\n",
       "    }\n",
       "\n",
       "    .dataframe tbody tr th {\n",
       "        vertical-align: top;\n",
       "    }\n",
       "\n",
       "    .dataframe thead th {\n",
       "        text-align: right;\n",
       "    }\n",
       "</style>\n",
       "<table border=\"1\" class=\"dataframe\">\n",
       "  <thead>\n",
       "    <tr style=\"text-align: right;\">\n",
       "      <th></th>\n",
       "      <th>Title</th>\n",
       "      <th>AuthorName</th>\n",
       "      <th>Rating</th>\n",
       "      <th>Price</th>\n",
       "      <th>PublishY</th>\n",
       "      <th>Genre</th>\n",
       "    </tr>\n",
       "  </thead>\n",
       "  <tbody>\n",
       "    <tr>\n",
       "      <th>0</th>\n",
       "      <td>10-Day Green Smoothie Cleanse</td>\n",
       "      <td>JJ Smith</td>\n",
       "      <td>4.7</td>\n",
       "      <td>8</td>\n",
       "      <td>2016</td>\n",
       "      <td>Non Fiction</td>\n",
       "    </tr>\n",
       "    <tr>\n",
       "      <th>1</th>\n",
       "      <td>11/22/63: A Novel</td>\n",
       "      <td>Stephen King</td>\n",
       "      <td>4.6</td>\n",
       "      <td>22</td>\n",
       "      <td>2011</td>\n",
       "      <td>Fiction</td>\n",
       "    </tr>\n",
       "    <tr>\n",
       "      <th>2</th>\n",
       "      <td>12 Rules for Life: An Antidote to Chaos</td>\n",
       "      <td>Jordan B. Peterson</td>\n",
       "      <td>4.7</td>\n",
       "      <td>15</td>\n",
       "      <td>2018</td>\n",
       "      <td>Non Fiction</td>\n",
       "    </tr>\n",
       "    <tr>\n",
       "      <th>3</th>\n",
       "      <td>1984 (Signet Classics)</td>\n",
       "      <td>George Orwell</td>\n",
       "      <td>4.7</td>\n",
       "      <td>6</td>\n",
       "      <td>2017</td>\n",
       "      <td>Fiction</td>\n",
       "    </tr>\n",
       "    <tr>\n",
       "      <th>4</th>\n",
       "      <td>5,000 Awesome Facts (About Everything!) (Natio...</td>\n",
       "      <td>National Geographic Kids</td>\n",
       "      <td>4.8</td>\n",
       "      <td>12</td>\n",
       "      <td>2019</td>\n",
       "      <td>Non Fiction</td>\n",
       "    </tr>\n",
       "  </tbody>\n",
       "</table>\n",
       "</div>"
      ],
      "text/plain": [
       "                                               Title  \\\n",
       "0                      10-Day Green Smoothie Cleanse   \n",
       "1                                  11/22/63: A Novel   \n",
       "2            12 Rules for Life: An Antidote to Chaos   \n",
       "3                             1984 (Signet Classics)   \n",
       "4  5,000 Awesome Facts (About Everything!) (Natio...   \n",
       "\n",
       "                 AuthorName  Rating  Price  PublishY        Genre  \n",
       "0                  JJ Smith     4.7      8      2016  Non Fiction  \n",
       "1              Stephen King     4.6     22      2011      Fiction  \n",
       "2        Jordan B. Peterson     4.7     15      2018  Non Fiction  \n",
       "3             George Orwell     4.7      6      2017      Fiction  \n",
       "4  National Geographic Kids     4.8     12      2019  Non Fiction  "
      ]
     },
     "execution_count": 106,
     "metadata": {},
     "output_type": "execute_result"
    }
   ],
   "source": [
    "# drop unused column\n",
    "bestsellers_df.drop(columns = 'Reviews', inplace=True)\n",
    "\n",
    "bestsellers_df.head()"
   ]
  },
  {
   "cell_type": "code",
   "execution_count": 107,
   "metadata": {},
   "outputs": [
    {
     "data": {
      "text/plain": [
       "(550, 6)"
      ]
     },
     "execution_count": 107,
     "metadata": {},
     "output_type": "execute_result"
    }
   ],
   "source": [
    "bestsellers_df.shape"
   ]
  },
  {
   "cell_type": "code",
   "execution_count": 108,
   "metadata": {},
   "outputs": [],
   "source": [
    "# save to file\n",
    "#bestsellers_df.to_csv('Resources/bestsellers.csv')"
   ]
  },
  {
   "cell_type": "markdown",
   "metadata": {},
   "source": [
    "### create author_book data"
   ]
  },
  {
   "cell_type": "code",
   "execution_count": 83,
   "metadata": {},
   "outputs": [
    {
     "data": {
      "text/html": [
       "<div>\n",
       "<style scoped>\n",
       "    .dataframe tbody tr th:only-of-type {\n",
       "        vertical-align: middle;\n",
       "    }\n",
       "\n",
       "    .dataframe tbody tr th {\n",
       "        vertical-align: top;\n",
       "    }\n",
       "\n",
       "    .dataframe thead th {\n",
       "        text-align: right;\n",
       "    }\n",
       "</style>\n",
       "<table border=\"1\" class=\"dataframe\">\n",
       "  <thead>\n",
       "    <tr style=\"text-align: right;\">\n",
       "      <th></th>\n",
       "      <th>BookId</th>\n",
       "      <th>Title</th>\n",
       "      <th>Authors</th>\n",
       "      <th>ISBN</th>\n",
       "      <th>Rating</th>\n",
       "      <th>PublishY</th>\n",
       "      <th>PublishD</th>\n",
       "      <th>PublishM</th>\n",
       "      <th>Publisher</th>\n",
       "      <th>Language</th>\n",
       "    </tr>\n",
       "  </thead>\n",
       "  <tbody>\n",
       "    <tr>\n",
       "      <th>0</th>\n",
       "      <td>900000</td>\n",
       "      <td>Cabinet 03: Weather</td>\n",
       "      <td>Jeffrey Kastner</td>\n",
       "      <td>1932698019</td>\n",
       "      <td>4.00</td>\n",
       "      <td>2004</td>\n",
       "      <td>2</td>\n",
       "      <td>1</td>\n",
       "      <td>Cabinet</td>\n",
       "      <td>eng</td>\n",
       "    </tr>\n",
       "    <tr>\n",
       "      <th>1</th>\n",
       "      <td>900001</td>\n",
       "      <td>Workouts in a Binder for Swimmers, Triathletes...</td>\n",
       "      <td>Nick Hansen</td>\n",
       "      <td>1931382743</td>\n",
       "      <td>4.48</td>\n",
       "      <td>2005</td>\n",
       "      <td>18</td>\n",
       "      <td>11</td>\n",
       "      <td>Velo Press</td>\n",
       "      <td>eng</td>\n",
       "    </tr>\n",
       "    <tr>\n",
       "      <th>2</th>\n",
       "      <td>900002</td>\n",
       "      <td>Las 120 jornadas de Sodoma</td>\n",
       "      <td>Marquis de Sade</td>\n",
       "      <td>8472233847</td>\n",
       "      <td>3.12</td>\n",
       "      <td>1992</td>\n",
       "      <td>1</td>\n",
       "      <td>3</td>\n",
       "      <td>TusQuets</td>\n",
       "      <td>eng</td>\n",
       "    </tr>\n",
       "    <tr>\n",
       "      <th>3</th>\n",
       "      <td>900004</td>\n",
       "      <td>The Traveler: An American Odyssey in the Himal...</td>\n",
       "      <td>Eric Hansen</td>\n",
       "      <td>0871563509</td>\n",
       "      <td>4.18</td>\n",
       "      <td>1995</td>\n",
       "      <td>6</td>\n",
       "      <td>6</td>\n",
       "      <td>Random House, Inc.</td>\n",
       "      <td>eng</td>\n",
       "    </tr>\n",
       "    <tr>\n",
       "      <th>4</th>\n",
       "      <td>900006</td>\n",
       "      <td>Vertical Smile</td>\n",
       "      <td>Richard Condon</td>\n",
       "      <td>0297994026</td>\n",
       "      <td>3.74</td>\n",
       "      <td>1972</td>\n",
       "      <td>20</td>\n",
       "      <td>4</td>\n",
       "      <td>Littlehampton Book Services Ltd</td>\n",
       "      <td>eng</td>\n",
       "    </tr>\n",
       "  </tbody>\n",
       "</table>\n",
       "</div>"
      ],
      "text/plain": [
       "   BookId                                              Title          Authors  \\\n",
       "0  900000                                Cabinet 03: Weather  Jeffrey Kastner   \n",
       "1  900001  Workouts in a Binder for Swimmers, Triathletes...      Nick Hansen   \n",
       "2  900002                         Las 120 jornadas de Sodoma  Marquis de Sade   \n",
       "3  900004  The Traveler: An American Odyssey in the Himal...      Eric Hansen   \n",
       "4  900006                                     Vertical Smile   Richard Condon   \n",
       "\n",
       "         ISBN  Rating  PublishY  PublishD  PublishM  \\\n",
       "0  1932698019    4.00      2004         2         1   \n",
       "1  1931382743    4.48      2005        18        11   \n",
       "2  8472233847    3.12      1992         1         3   \n",
       "3  0871563509    4.18      1995         6         6   \n",
       "4  0297994026    3.74      1972        20         4   \n",
       "\n",
       "                         Publisher Language  \n",
       "0                          Cabinet      eng  \n",
       "1                       Velo Press      eng  \n",
       "2                         TusQuets      eng  \n",
       "3               Random House, Inc.      eng  \n",
       "4  Littlehampton Book Services Ltd      eng  "
      ]
     },
     "execution_count": 83,
     "metadata": {},
     "output_type": "execute_result"
    }
   ],
   "source": [
    "books_df.head()"
   ]
  },
  {
   "cell_type": "code",
   "execution_count": 88,
   "metadata": {},
   "outputs": [],
   "source": [
    "books_df = books_df.rename(columns={'Authors':'AuthorName'})"
   ]
  },
  {
   "cell_type": "code",
   "execution_count": 84,
   "metadata": {},
   "outputs": [
    {
     "data": {
      "text/html": [
       "<div>\n",
       "<style scoped>\n",
       "    .dataframe tbody tr th:only-of-type {\n",
       "        vertical-align: middle;\n",
       "    }\n",
       "\n",
       "    .dataframe tbody tr th {\n",
       "        vertical-align: top;\n",
       "    }\n",
       "\n",
       "    .dataframe thead th {\n",
       "        text-align: right;\n",
       "    }\n",
       "</style>\n",
       "<table border=\"1\" class=\"dataframe\">\n",
       "  <thead>\n",
       "    <tr style=\"text-align: right;\">\n",
       "      <th></th>\n",
       "      <th>AuthorId</th>\n",
       "      <th>AuthorName</th>\n",
       "      <th>AuthorLink</th>\n",
       "    </tr>\n",
       "  </thead>\n",
       "  <tbody>\n",
       "    <tr>\n",
       "      <th>0</th>\n",
       "      <td>14980615</td>\n",
       "      <td>Chip Gaines</td>\n",
       "      <td>https://www.goodreads.com/author/show/14980615...</td>\n",
       "    </tr>\n",
       "    <tr>\n",
       "      <th>1</th>\n",
       "      <td>33280</td>\n",
       "      <td>Dav Pilkey</td>\n",
       "      <td>https://www.goodreads.com/author/show/33280.Da...</td>\n",
       "    </tr>\n",
       "    <tr>\n",
       "      <th>2</th>\n",
       "      <td>61105</td>\n",
       "      <td>Dr. Seuss</td>\n",
       "      <td>https://www.goodreads.com/author/show/61105.Dr...</td>\n",
       "    </tr>\n",
       "    <tr>\n",
       "      <th>3</th>\n",
       "      <td>3362</td>\n",
       "      <td>Eric Carle</td>\n",
       "      <td>https://www.goodreads.com/author/show/3362.Eri...</td>\n",
       "    </tr>\n",
       "    <tr>\n",
       "      <th>4</th>\n",
       "      <td>4880403</td>\n",
       "      <td>Emily Winfield Martin</td>\n",
       "      <td>https://www.goodreads.com/author/show/4880403....</td>\n",
       "    </tr>\n",
       "  </tbody>\n",
       "</table>\n",
       "</div>"
      ],
      "text/plain": [
       "   AuthorId             AuthorName  \\\n",
       "0  14980615            Chip Gaines   \n",
       "1     33280             Dav Pilkey   \n",
       "2     61105              Dr. Seuss   \n",
       "3      3362             Eric Carle   \n",
       "4   4880403  Emily Winfield Martin   \n",
       "\n",
       "                                          AuthorLink  \n",
       "0  https://www.goodreads.com/author/show/14980615...  \n",
       "1  https://www.goodreads.com/author/show/33280.Da...  \n",
       "2  https://www.goodreads.com/author/show/61105.Dr...  \n",
       "3  https://www.goodreads.com/author/show/3362.Eri...  \n",
       "4  https://www.goodreads.com/author/show/4880403....  "
      ]
     },
     "execution_count": 84,
     "metadata": {},
     "output_type": "execute_result"
    }
   ],
   "source": [
    "author_id_df.head()"
   ]
  },
  {
   "cell_type": "code",
   "execution_count": 86,
   "metadata": {},
   "outputs": [
    {
     "data": {
      "text/plain": [
       "(247, 3)"
      ]
     },
     "execution_count": 86,
     "metadata": {},
     "output_type": "execute_result"
    }
   ],
   "source": [
    "author_id_df.shape"
   ]
  },
  {
   "cell_type": "code",
   "execution_count": 89,
   "metadata": {},
   "outputs": [],
   "source": [
    "# merge to create dataframe with AuthorId & AuthorName\n",
    "author_id_name_df = author_id_df.merge(books_df, on = 'AuthorName')\n"
   ]
  },
  {
   "cell_type": "code",
   "execution_count": 91,
   "metadata": {},
   "outputs": [
    {
     "data": {
      "text/plain": [
       "Index(['AuthorId', 'AuthorName', 'AuthorLink', 'BookId', 'Title', 'ISBN',\n",
       "       'Rating', 'PublishY', 'PublishD', 'PublishM', 'Publisher', 'Language'],\n",
       "      dtype='object')"
      ]
     },
     "execution_count": 91,
     "metadata": {},
     "output_type": "execute_result"
    }
   ],
   "source": [
    "author_id_name_df.columns"
   ]
  },
  {
   "cell_type": "code",
   "execution_count": 94,
   "metadata": {},
   "outputs": [],
   "source": [
    "# drop unused columns\n",
    "author_id_name_df.drop(columns = ['Title', 'ISBN', 'Rating', 'PublishY', \n",
    "                                'PublishD', 'PublishM', 'Publisher', 'Language'], inplace=True)"
   ]
  },
  {
   "cell_type": "code",
   "execution_count": 95,
   "metadata": {},
   "outputs": [
    {
     "data": {
      "text/html": [
       "<div>\n",
       "<style scoped>\n",
       "    .dataframe tbody tr th:only-of-type {\n",
       "        vertical-align: middle;\n",
       "    }\n",
       "\n",
       "    .dataframe tbody tr th {\n",
       "        vertical-align: top;\n",
       "    }\n",
       "\n",
       "    .dataframe thead th {\n",
       "        text-align: right;\n",
       "    }\n",
       "</style>\n",
       "<table border=\"1\" class=\"dataframe\">\n",
       "  <thead>\n",
       "    <tr style=\"text-align: right;\">\n",
       "      <th></th>\n",
       "      <th>AuthorId</th>\n",
       "      <th>AuthorName</th>\n",
       "      <th>AuthorLink</th>\n",
       "      <th>BookId</th>\n",
       "    </tr>\n",
       "  </thead>\n",
       "  <tbody>\n",
       "    <tr>\n",
       "      <th>0</th>\n",
       "      <td>33280</td>\n",
       "      <td>Dav Pilkey</td>\n",
       "      <td>https://www.goodreads.com/author/show/33280.Da...</td>\n",
       "      <td>904935</td>\n",
       "    </tr>\n",
       "    <tr>\n",
       "      <th>1</th>\n",
       "      <td>33280</td>\n",
       "      <td>Dav Pilkey</td>\n",
       "      <td>https://www.goodreads.com/author/show/33280.Da...</td>\n",
       "      <td>904936</td>\n",
       "    </tr>\n",
       "    <tr>\n",
       "      <th>2</th>\n",
       "      <td>33280</td>\n",
       "      <td>Dav Pilkey</td>\n",
       "      <td>https://www.goodreads.com/author/show/33280.Da...</td>\n",
       "      <td>904937</td>\n",
       "    </tr>\n",
       "    <tr>\n",
       "      <th>3</th>\n",
       "      <td>33280</td>\n",
       "      <td>Dav Pilkey</td>\n",
       "      <td>https://www.goodreads.com/author/show/33280.Da...</td>\n",
       "      <td>948272</td>\n",
       "    </tr>\n",
       "    <tr>\n",
       "      <th>4</th>\n",
       "      <td>61105</td>\n",
       "      <td>Dr. Seuss</td>\n",
       "      <td>https://www.goodreads.com/author/show/61105.Dr...</td>\n",
       "      <td>900821</td>\n",
       "    </tr>\n",
       "  </tbody>\n",
       "</table>\n",
       "</div>"
      ],
      "text/plain": [
       "   AuthorId  AuthorName                                         AuthorLink  \\\n",
       "0     33280  Dav Pilkey  https://www.goodreads.com/author/show/33280.Da...   \n",
       "1     33280  Dav Pilkey  https://www.goodreads.com/author/show/33280.Da...   \n",
       "2     33280  Dav Pilkey  https://www.goodreads.com/author/show/33280.Da...   \n",
       "3     33280  Dav Pilkey  https://www.goodreads.com/author/show/33280.Da...   \n",
       "4     61105   Dr. Seuss  https://www.goodreads.com/author/show/61105.Dr...   \n",
       "\n",
       "   BookId  \n",
       "0  904935  \n",
       "1  904936  \n",
       "2  904937  \n",
       "3  948272  \n",
       "4  900821  "
      ]
     },
     "execution_count": 95,
     "metadata": {},
     "output_type": "execute_result"
    }
   ],
   "source": [
    "author_id_name_df.head()"
   ]
  },
  {
   "cell_type": "markdown",
   "metadata": {},
   "source": [
    "### check and mark if the book title is in bestsellers"
   ]
  },
  {
   "cell_type": "code",
   "execution_count": 100,
   "metadata": {},
   "outputs": [],
   "source": [
    "# merge to get BookId for bestsellers dataframe\n",
    "books_df = books_df.rename(columns={'Authors':'AuthorName'})\n"
   ]
  },
  {
   "cell_type": "code",
   "execution_count": 109,
   "metadata": {},
   "outputs": [
    {
     "data": {
      "text/plain": [
       "Index(['BookId', 'Title', 'AuthorName', 'ISBN', 'Rating', 'PublishY',\n",
       "       'PublishD', 'PublishM', 'Publisher', 'Language'],\n",
       "      dtype='object')"
      ]
     },
     "execution_count": 109,
     "metadata": {},
     "output_type": "execute_result"
    }
   ],
   "source": [
    "books_df.columns"
   ]
  },
  {
   "cell_type": "code",
   "execution_count": 110,
   "metadata": {},
   "outputs": [
    {
     "data": {
      "text/plain": [
       "Index(['Title', 'AuthorName', 'Rating', 'Price', 'PublishY', 'Genre'], dtype='object')"
      ]
     },
     "execution_count": 110,
     "metadata": {},
     "output_type": "execute_result"
    }
   ],
   "source": [
    "#bestsellers_df = bestsellers_df.merge(books_df, on='AuthorName')\n",
    "bestsellers_df.columns"
   ]
  },
  {
   "cell_type": "code",
   "execution_count": 111,
   "metadata": {},
   "outputs": [],
   "source": [
    "bestsellers_df = bestsellers_df.merge(books_df, on='AuthorName')"
   ]
  },
  {
   "cell_type": "code",
   "execution_count": 112,
   "metadata": {},
   "outputs": [
    {
     "data": {
      "text/plain": [
       "(621, 15)"
      ]
     },
     "execution_count": 112,
     "metadata": {},
     "output_type": "execute_result"
    }
   ],
   "source": [
    "bestsellers_df.shape"
   ]
  },
  {
   "cell_type": "code",
   "execution_count": 113,
   "metadata": {},
   "outputs": [],
   "source": [
    "bestsellers_df.to_csv('Resources/bestsellers_author.csv')"
   ]
  },
  {
   "cell_type": "code",
   "execution_count": null,
   "metadata": {},
   "outputs": [],
   "source": []
  }
 ],
 "metadata": {
  "kernelspec": {
   "display_name": "Python 3.6.10 64-bit ('PythonData': conda)",
   "language": "python",
   "name": "python361064bitpythondatacondaa70f06a6f8ee448e835eff764d6ba02e"
  },
  "language_info": {
   "codemirror_mode": {
    "name": "ipython",
    "version": 3
   },
   "file_extension": ".py",
   "mimetype": "text/x-python",
   "name": "python",
   "nbconvert_exporter": "python",
   "pygments_lexer": "ipython3",
   "version": "3.6.10"
  }
 },
 "nbformat": 4,
 "nbformat_minor": 4
}
