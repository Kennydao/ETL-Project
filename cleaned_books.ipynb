{
 "cells": [
  {
   "cell_type": "code",
   "execution_count": 21,
   "metadata": {},
   "outputs": [],
   "source": [
    "# Dependencies and Setup\n",
    "import pandas as pd\n",
    "import csv\n",
    "#import os"
   ]
  },
  {
   "cell_type": "code",
   "execution_count": 22,
   "metadata": {},
   "outputs": [],
   "source": [
    "# File to Load (Remember to Change These)\n",
    "books_data_to_load = \"Resources/book900k-1000k.csv\"\n",
    "\n",
    "# Read data file into into Pandas dataframe\n",
    "books_df = pd.read_csv(books_data_to_load)\n",
    "#books_df.head()"
   ]
  },
  {
   "cell_type": "code",
   "execution_count": 23,
   "metadata": {},
   "outputs": [
    {
     "data": {
      "text/plain": [
       "(40890, 20)"
      ]
     },
     "execution_count": 23,
     "metadata": {},
     "output_type": "execute_result"
    }
   ],
   "source": [
    "books_df.shape"
   ]
  },
  {
   "cell_type": "code",
   "execution_count": 24,
   "metadata": {},
   "outputs": [
    {
     "data": {
      "text/html": [
       "<div>\n",
       "<style scoped>\n",
       "    .dataframe tbody tr th:only-of-type {\n",
       "        vertical-align: middle;\n",
       "    }\n",
       "\n",
       "    .dataframe tbody tr th {\n",
       "        vertical-align: top;\n",
       "    }\n",
       "\n",
       "    .dataframe thead th {\n",
       "        text-align: right;\n",
       "    }\n",
       "</style>\n",
       "<table border=\"1\" class=\"dataframe\">\n",
       "  <thead>\n",
       "    <tr style=\"text-align: right;\">\n",
       "      <th></th>\n",
       "      <th>Id</th>\n",
       "      <th>Rating</th>\n",
       "      <th>PublishYear</th>\n",
       "      <th>PublishMonth</th>\n",
       "      <th>PublishDay</th>\n",
       "      <th>CountsOfReview</th>\n",
       "      <th>pagesNumber</th>\n",
       "      <th>Count of text reviews</th>\n",
       "    </tr>\n",
       "  </thead>\n",
       "  <tbody>\n",
       "    <tr>\n",
       "      <th>count</th>\n",
       "      <td>40890.000000</td>\n",
       "      <td>40890.000000</td>\n",
       "      <td>40890.000000</td>\n",
       "      <td>40890.000000</td>\n",
       "      <td>40890.000000</td>\n",
       "      <td>40890.000000</td>\n",
       "      <td>40890.000000</td>\n",
       "      <td>40890.000000</td>\n",
       "    </tr>\n",
       "    <tr>\n",
       "      <th>mean</th>\n",
       "      <td>949177.751431</td>\n",
       "      <td>3.469541</td>\n",
       "      <td>1998.890584</td>\n",
       "      <td>9.709636</td>\n",
       "      <td>6.346075</td>\n",
       "      <td>8.834238</td>\n",
       "      <td>276.196747</td>\n",
       "      <td>8.834238</td>\n",
       "    </tr>\n",
       "    <tr>\n",
       "      <th>std</th>\n",
       "      <td>29062.356909</td>\n",
       "      <td>1.242119</td>\n",
       "      <td>8.462135</td>\n",
       "      <td>10.235637</td>\n",
       "      <td>3.565110</td>\n",
       "      <td>71.253610</td>\n",
       "      <td>505.166816</td>\n",
       "      <td>71.253610</td>\n",
       "    </tr>\n",
       "    <tr>\n",
       "      <th>min</th>\n",
       "      <td>900000.000000</td>\n",
       "      <td>0.000000</td>\n",
       "      <td>1899.000000</td>\n",
       "      <td>1.000000</td>\n",
       "      <td>1.000000</td>\n",
       "      <td>0.000000</td>\n",
       "      <td>0.000000</td>\n",
       "      <td>0.000000</td>\n",
       "    </tr>\n",
       "    <tr>\n",
       "      <th>25%</th>\n",
       "      <td>923881.250000</td>\n",
       "      <td>3.470000</td>\n",
       "      <td>1995.000000</td>\n",
       "      <td>1.000000</td>\n",
       "      <td>3.000000</td>\n",
       "      <td>0.000000</td>\n",
       "      <td>153.000000</td>\n",
       "      <td>0.000000</td>\n",
       "    </tr>\n",
       "    <tr>\n",
       "      <th>50%</th>\n",
       "      <td>948838.500000</td>\n",
       "      <td>3.840000</td>\n",
       "      <td>2001.000000</td>\n",
       "      <td>4.000000</td>\n",
       "      <td>6.000000</td>\n",
       "      <td>1.000000</td>\n",
       "      <td>241.000000</td>\n",
       "      <td>1.000000</td>\n",
       "    </tr>\n",
       "    <tr>\n",
       "      <th>75%</th>\n",
       "      <td>974600.250000</td>\n",
       "      <td>4.090000</td>\n",
       "      <td>2005.000000</td>\n",
       "      <td>17.000000</td>\n",
       "      <td>9.000000</td>\n",
       "      <td>4.000000</td>\n",
       "      <td>340.000000</td>\n",
       "      <td>4.000000</td>\n",
       "    </tr>\n",
       "    <tr>\n",
       "      <th>max</th>\n",
       "      <td>999998.000000</td>\n",
       "      <td>5.000000</td>\n",
       "      <td>2020.000000</td>\n",
       "      <td>31.000000</td>\n",
       "      <td>12.000000</td>\n",
       "      <td>6495.000000</td>\n",
       "      <td>80500.000000</td>\n",
       "      <td>6495.000000</td>\n",
       "    </tr>\n",
       "  </tbody>\n",
       "</table>\n",
       "</div>"
      ],
      "text/plain": [
       "                  Id        Rating   PublishYear  PublishMonth    PublishDay  \\\n",
       "count   40890.000000  40890.000000  40890.000000  40890.000000  40890.000000   \n",
       "mean   949177.751431      3.469541   1998.890584      9.709636      6.346075   \n",
       "std     29062.356909      1.242119      8.462135     10.235637      3.565110   \n",
       "min    900000.000000      0.000000   1899.000000      1.000000      1.000000   \n",
       "25%    923881.250000      3.470000   1995.000000      1.000000      3.000000   \n",
       "50%    948838.500000      3.840000   2001.000000      4.000000      6.000000   \n",
       "75%    974600.250000      4.090000   2005.000000     17.000000      9.000000   \n",
       "max    999998.000000      5.000000   2020.000000     31.000000     12.000000   \n",
       "\n",
       "       CountsOfReview   pagesNumber  Count of text reviews  \n",
       "count    40890.000000  40890.000000           40890.000000  \n",
       "mean         8.834238    276.196747               8.834238  \n",
       "std         71.253610    505.166816              71.253610  \n",
       "min          0.000000      0.000000               0.000000  \n",
       "25%          0.000000    153.000000               0.000000  \n",
       "50%          1.000000    241.000000               1.000000  \n",
       "75%          4.000000    340.000000               4.000000  \n",
       "max       6495.000000  80500.000000            6495.000000  "
      ]
     },
     "execution_count": 24,
     "metadata": {},
     "output_type": "execute_result"
    }
   ],
   "source": [
    "books_df.describe()"
   ]
  },
  {
   "cell_type": "code",
   "execution_count": 25,
   "metadata": {},
   "outputs": [
    {
     "data": {
      "text/plain": [
       "Index(['Id', 'Name', 'Authors', 'ISBN', 'Rating', 'PublishYear',\n",
       "       'PublishMonth', 'PublishDay', 'Publisher', 'RatingDist5', 'RatingDist4',\n",
       "       'RatingDist3', 'RatingDist2', 'RatingDist1', 'RatingDistTotal',\n",
       "       'CountsOfReview', 'Language', 'pagesNumber', 'Description',\n",
       "       'Count of text reviews'],\n",
       "      dtype='object')"
      ]
     },
     "execution_count": 25,
     "metadata": {},
     "output_type": "execute_result"
    }
   ],
   "source": [
    "columns = books_df.columns\n",
    "columns"
   ]
  },
  {
   "cell_type": "code",
   "execution_count": 26,
   "metadata": {},
   "outputs": [],
   "source": [
    "# drop unused columns\n",
    "books_df.drop(columns = ['RatingDist5', 'RatingDist4',\n",
    "               'RatingDist3', 'RatingDist2', 'RatingDist1', 'pagesNumber',\n",
    "                'RatingDistTotal', 'Count of text reviews', 'CountsOfReview','Description'], inplace=True)"
   ]
  },
  {
   "cell_type": "code",
   "execution_count": 27,
   "metadata": {},
   "outputs": [],
   "source": [
    "books_df = books_df.rename(columns={'Id':'BookId', 'Name':'Title'})"
   ]
  },
  {
   "cell_type": "code",
   "execution_count": 28,
   "metadata": {},
   "outputs": [
    {
     "data": {
      "text/html": [
       "<div>\n",
       "<style scoped>\n",
       "    .dataframe tbody tr th:only-of-type {\n",
       "        vertical-align: middle;\n",
       "    }\n",
       "\n",
       "    .dataframe tbody tr th {\n",
       "        vertical-align: top;\n",
       "    }\n",
       "\n",
       "    .dataframe thead th {\n",
       "        text-align: right;\n",
       "    }\n",
       "</style>\n",
       "<table border=\"1\" class=\"dataframe\">\n",
       "  <thead>\n",
       "    <tr style=\"text-align: right;\">\n",
       "      <th></th>\n",
       "      <th>BookId</th>\n",
       "      <th>Title</th>\n",
       "      <th>Authors</th>\n",
       "      <th>ISBN</th>\n",
       "      <th>Rating</th>\n",
       "      <th>PublishYear</th>\n",
       "      <th>PublishMonth</th>\n",
       "      <th>PublishDay</th>\n",
       "      <th>Publisher</th>\n",
       "      <th>Language</th>\n",
       "    </tr>\n",
       "  </thead>\n",
       "  <tbody>\n",
       "    <tr>\n",
       "      <th>0</th>\n",
       "      <td>900000</td>\n",
       "      <td>Cabinet 03: Weather</td>\n",
       "      <td>Jeffrey Kastner</td>\n",
       "      <td>1932698019</td>\n",
       "      <td>4.00</td>\n",
       "      <td>2004</td>\n",
       "      <td>2</td>\n",
       "      <td>1</td>\n",
       "      <td>Cabinet</td>\n",
       "      <td>NaN</td>\n",
       "    </tr>\n",
       "    <tr>\n",
       "      <th>1</th>\n",
       "      <td>900001</td>\n",
       "      <td>Workouts in a Binder for Swimmers, Triathletes...</td>\n",
       "      <td>Nick Hansen</td>\n",
       "      <td>1931382743</td>\n",
       "      <td>4.48</td>\n",
       "      <td>2005</td>\n",
       "      <td>18</td>\n",
       "      <td>11</td>\n",
       "      <td>Velo Press</td>\n",
       "      <td>NaN</td>\n",
       "    </tr>\n",
       "    <tr>\n",
       "      <th>2</th>\n",
       "      <td>900002</td>\n",
       "      <td>Las 120 jornadas de Sodoma</td>\n",
       "      <td>Marquis de Sade</td>\n",
       "      <td>8472233847</td>\n",
       "      <td>3.12</td>\n",
       "      <td>1992</td>\n",
       "      <td>1</td>\n",
       "      <td>3</td>\n",
       "      <td>TusQuets</td>\n",
       "      <td>NaN</td>\n",
       "    </tr>\n",
       "    <tr>\n",
       "      <th>3</th>\n",
       "      <td>900004</td>\n",
       "      <td>The Traveler: An American Odyssey in the Himal...</td>\n",
       "      <td>Eric Hansen</td>\n",
       "      <td>0871563509</td>\n",
       "      <td>4.18</td>\n",
       "      <td>1995</td>\n",
       "      <td>6</td>\n",
       "      <td>6</td>\n",
       "      <td>Random House, Inc.</td>\n",
       "      <td>NaN</td>\n",
       "    </tr>\n",
       "    <tr>\n",
       "      <th>4</th>\n",
       "      <td>900006</td>\n",
       "      <td>Vertical Smile</td>\n",
       "      <td>Richard Condon</td>\n",
       "      <td>0297994026</td>\n",
       "      <td>3.74</td>\n",
       "      <td>1972</td>\n",
       "      <td>20</td>\n",
       "      <td>4</td>\n",
       "      <td>Littlehampton Book Services Ltd</td>\n",
       "      <td>NaN</td>\n",
       "    </tr>\n",
       "  </tbody>\n",
       "</table>\n",
       "</div>"
      ],
      "text/plain": [
       "   BookId                                              Title          Authors  \\\n",
       "0  900000                                Cabinet 03: Weather  Jeffrey Kastner   \n",
       "1  900001  Workouts in a Binder for Swimmers, Triathletes...      Nick Hansen   \n",
       "2  900002                         Las 120 jornadas de Sodoma  Marquis de Sade   \n",
       "3  900004  The Traveler: An American Odyssey in the Himal...      Eric Hansen   \n",
       "4  900006                                     Vertical Smile   Richard Condon   \n",
       "\n",
       "         ISBN  Rating  PublishYear  PublishMonth  PublishDay  \\\n",
       "0  1932698019    4.00         2004             2           1   \n",
       "1  1931382743    4.48         2005            18          11   \n",
       "2  8472233847    3.12         1992             1           3   \n",
       "3  0871563509    4.18         1995             6           6   \n",
       "4  0297994026    3.74         1972            20           4   \n",
       "\n",
       "                         Publisher Language  \n",
       "0                          Cabinet      NaN  \n",
       "1                       Velo Press      NaN  \n",
       "2                         TusQuets      NaN  \n",
       "3               Random House, Inc.      NaN  \n",
       "4  Littlehampton Book Services Ltd      NaN  "
      ]
     },
     "execution_count": 28,
     "metadata": {},
     "output_type": "execute_result"
    }
   ],
   "source": [
    "books_df.head()"
   ]
  },
  {
   "cell_type": "code",
   "execution_count": 29,
   "metadata": {},
   "outputs": [
    {
     "data": {
      "text/plain": [
       "(30, 9)"
      ]
     },
     "execution_count": 29,
     "metadata": {},
     "output_type": "execute_result"
    }
   ],
   "source": [
    "# checking number of language in the books dataset\n",
    "language_counts = books_df.groupby('Language').count()\n",
    "language_counts.shape"
   ]
  },
  {
   "cell_type": "code",
   "execution_count": 30,
   "metadata": {},
   "outputs": [],
   "source": [
    "# replace all NaN value in Language column by eng\n",
    "\n",
    "values ={'Language':'eng'}\n",
    "books_df.fillna(value = values, inplace=True)"
   ]
  },
  {
   "cell_type": "code",
   "execution_count": 31,
   "metadata": {},
   "outputs": [],
   "source": [
    "books_df.head()\n",
    "\n",
    "# save to csv file\n",
    "books_df.to_csv(\"Resources/cleaned_books.csv\", index=False)"
   ]
  },
  {
   "cell_type": "code",
   "execution_count": 32,
   "metadata": {},
   "outputs": [
    {
     "data": {
      "text/html": [
       "<div>\n",
       "<style scoped>\n",
       "    .dataframe tbody tr th:only-of-type {\n",
       "        vertical-align: middle;\n",
       "    }\n",
       "\n",
       "    .dataframe tbody tr th {\n",
       "        vertical-align: top;\n",
       "    }\n",
       "\n",
       "    .dataframe thead th {\n",
       "        text-align: right;\n",
       "    }\n",
       "</style>\n",
       "<table border=\"1\" class=\"dataframe\">\n",
       "  <thead>\n",
       "    <tr style=\"text-align: right;\">\n",
       "      <th></th>\n",
       "      <th>BookId</th>\n",
       "      <th>Title</th>\n",
       "      <th>Authors</th>\n",
       "      <th>ISBN</th>\n",
       "      <th>PublishYear</th>\n",
       "      <th>PublishMonth</th>\n",
       "      <th>PublishDay</th>\n",
       "      <th>Publisher</th>\n",
       "      <th>Language</th>\n",
       "    </tr>\n",
       "    <tr>\n",
       "      <th>Rating</th>\n",
       "      <th></th>\n",
       "      <th></th>\n",
       "      <th></th>\n",
       "      <th></th>\n",
       "      <th></th>\n",
       "      <th></th>\n",
       "      <th></th>\n",
       "      <th></th>\n",
       "      <th></th>\n",
       "    </tr>\n",
       "  </thead>\n",
       "  <tbody>\n",
       "    <tr>\n",
       "      <th>0.00</th>\n",
       "      <td>4013</td>\n",
       "      <td>4013</td>\n",
       "      <td>4013</td>\n",
       "      <td>4008</td>\n",
       "      <td>4013</td>\n",
       "      <td>4013</td>\n",
       "      <td>4013</td>\n",
       "      <td>3961</td>\n",
       "      <td>4013</td>\n",
       "    </tr>\n",
       "    <tr>\n",
       "      <th>1.00</th>\n",
       "      <td>93</td>\n",
       "      <td>93</td>\n",
       "      <td>93</td>\n",
       "      <td>92</td>\n",
       "      <td>93</td>\n",
       "      <td>93</td>\n",
       "      <td>93</td>\n",
       "      <td>93</td>\n",
       "      <td>93</td>\n",
       "    </tr>\n",
       "    <tr>\n",
       "      <th>1.33</th>\n",
       "      <td>1</td>\n",
       "      <td>1</td>\n",
       "      <td>1</td>\n",
       "      <td>1</td>\n",
       "      <td>1</td>\n",
       "      <td>1</td>\n",
       "      <td>1</td>\n",
       "      <td>1</td>\n",
       "      <td>1</td>\n",
       "    </tr>\n",
       "    <tr>\n",
       "      <th>1.50</th>\n",
       "      <td>11</td>\n",
       "      <td>11</td>\n",
       "      <td>11</td>\n",
       "      <td>11</td>\n",
       "      <td>11</td>\n",
       "      <td>11</td>\n",
       "      <td>11</td>\n",
       "      <td>9</td>\n",
       "      <td>11</td>\n",
       "    </tr>\n",
       "    <tr>\n",
       "      <th>1.55</th>\n",
       "      <td>1</td>\n",
       "      <td>1</td>\n",
       "      <td>1</td>\n",
       "      <td>1</td>\n",
       "      <td>1</td>\n",
       "      <td>1</td>\n",
       "      <td>1</td>\n",
       "      <td>1</td>\n",
       "      <td>1</td>\n",
       "    </tr>\n",
       "  </tbody>\n",
       "</table>\n",
       "</div>"
      ],
      "text/plain": [
       "        BookId  Title  Authors  ISBN  PublishYear  PublishMonth  PublishDay  \\\n",
       "Rating                                                                        \n",
       "0.00      4013   4013     4013  4008         4013          4013        4013   \n",
       "1.00        93     93       93    92           93            93          93   \n",
       "1.33         1      1        1     1            1             1           1   \n",
       "1.50        11     11       11    11           11            11          11   \n",
       "1.55         1      1        1     1            1             1           1   \n",
       "\n",
       "        Publisher  Language  \n",
       "Rating                       \n",
       "0.00         3961      4013  \n",
       "1.00           93        93  \n",
       "1.33            1         1  \n",
       "1.50            9        11  \n",
       "1.55            1         1  "
      ]
     },
     "execution_count": 32,
     "metadata": {},
     "output_type": "execute_result"
    }
   ],
   "source": [
    "rating_counts = books_df.groupby(\"Rating\").count()\n",
    "rating_counts.head()\n",
    "#rating_counts.shape"
   ]
  },
  {
   "cell_type": "code",
   "execution_count": 33,
   "metadata": {},
   "outputs": [
    {
     "data": {
      "text/plain": [
       "28666"
      ]
     },
     "execution_count": 33,
     "metadata": {},
     "output_type": "execute_result"
    }
   ],
   "source": [
    "author_counts = author_list = books_df.Authors.nunique()\n",
    "author_counts"
   ]
  },
  {
   "cell_type": "code",
   "execution_count": 34,
   "metadata": {},
   "outputs": [],
   "source": [
    "author_list = books_df.groupby(\"Authors\").nunique()['Authors']"
   ]
  },
  {
   "cell_type": "code",
   "execution_count": 35,
   "metadata": {},
   "outputs": [],
   "source": [
    "author_list_df = pd.DataFrame(author_list)"
   ]
  },
  {
   "cell_type": "code",
   "execution_count": 36,
   "metadata": {},
   "outputs": [
    {
     "data": {
      "text/html": [
       "<div>\n",
       "<style scoped>\n",
       "    .dataframe tbody tr th:only-of-type {\n",
       "        vertical-align: middle;\n",
       "    }\n",
       "\n",
       "    .dataframe tbody tr th {\n",
       "        vertical-align: top;\n",
       "    }\n",
       "\n",
       "    .dataframe thead th {\n",
       "        text-align: right;\n",
       "    }\n",
       "</style>\n",
       "<table border=\"1\" class=\"dataframe\">\n",
       "  <thead>\n",
       "    <tr style=\"text-align: right;\">\n",
       "      <th></th>\n",
       "      <th>Authors</th>\n",
       "      <th>Count</th>\n",
       "    </tr>\n",
       "  </thead>\n",
       "  <tbody>\n",
       "    <tr>\n",
       "      <th>0</th>\n",
       "      <td>'Izz al-Din Ibn al-Athir</td>\n",
       "      <td>1</td>\n",
       "    </tr>\n",
       "    <tr>\n",
       "      <th>1</th>\n",
       "      <td>50 Cent</td>\n",
       "      <td>1</td>\n",
       "    </tr>\n",
       "    <tr>\n",
       "      <th>2</th>\n",
       "      <td>6' Ferret Writers' Group</td>\n",
       "      <td>1</td>\n",
       "    </tr>\n",
       "    <tr>\n",
       "      <th>3</th>\n",
       "      <td>A H Keesman-Marwitz</td>\n",
       "      <td>1</td>\n",
       "    </tr>\n",
       "    <tr>\n",
       "      <th>4</th>\n",
       "      <td>A. Ashley</td>\n",
       "      <td>1</td>\n",
       "    </tr>\n",
       "    <tr>\n",
       "      <th>...</th>\n",
       "      <td>...</td>\n",
       "      <td>...</td>\n",
       "    </tr>\n",
       "    <tr>\n",
       "      <th>28661</th>\n",
       "      <td>Øivind Storm Bjerke</td>\n",
       "      <td>1</td>\n",
       "    </tr>\n",
       "    <tr>\n",
       "      <th>28662</th>\n",
       "      <td>Ānandamūrti</td>\n",
       "      <td>1</td>\n",
       "    </tr>\n",
       "    <tr>\n",
       "      <th>28663</th>\n",
       "      <td>Дарья Донцова</td>\n",
       "      <td>1</td>\n",
       "    </tr>\n",
       "    <tr>\n",
       "      <th>28664</th>\n",
       "      <td>جبرا إبراهيم جبرا</td>\n",
       "      <td>1</td>\n",
       "    </tr>\n",
       "    <tr>\n",
       "      <th>28665</th>\n",
       "      <td>مسلم بن الحجاج</td>\n",
       "      <td>1</td>\n",
       "    </tr>\n",
       "  </tbody>\n",
       "</table>\n",
       "<p>28666 rows × 2 columns</p>\n",
       "</div>"
      ],
      "text/plain": [
       "                        Authors  Count\n",
       "0      'Izz al-Din Ibn al-Athir      1\n",
       "1                       50 Cent      1\n",
       "2      6' Ferret Writers' Group      1\n",
       "3           A H Keesman-Marwitz      1\n",
       "4                     A. Ashley      1\n",
       "...                         ...    ...\n",
       "28661       Øivind Storm Bjerke      1\n",
       "28662               Ānandamūrti      1\n",
       "28663             Дарья Донцова      1\n",
       "28664         جبرا إبراهيم جبرا      1\n",
       "28665            مسلم بن الحجاج      1\n",
       "\n",
       "[28666 rows x 2 columns]"
      ]
     },
     "execution_count": 36,
     "metadata": {},
     "output_type": "execute_result"
    }
   ],
   "source": [
    "# rename column and reset index\n",
    "author_list_df = author_list_df.rename(columns={'Authors':'Count'})\n",
    "author_list_df.reset_index(inplace=True)\n",
    "author_list_df"
   ]
  },
  {
   "cell_type": "code",
   "execution_count": 37,
   "metadata": {},
   "outputs": [],
   "source": [
    "# sort authors list  by name\n",
    "author_list_df = author_list_df.sort_values([\"Authors\"], ascending = True)\n",
    "#author_list_df.tail()"
   ]
  },
  {
   "cell_type": "code",
   "execution_count": 38,
   "metadata": {},
   "outputs": [],
   "source": [
    "# save to csv file\n",
    "author_list_df.to_csv(\"Resources/authors_list.csv\", index=False)"
   ]
  },
  {
   "cell_type": "markdown",
   "metadata": {},
   "source": [
    "### cleaned books"
   ]
  },
  {
   "cell_type": "code",
   "execution_count": 39,
   "metadata": {},
   "outputs": [],
   "source": [
    "# before: there was 40,890 records and 20 columns with NaN value in Language\n",
    "\n",
    "# after: removed eleven columns ('RatingDist5', 'RatingDist4',\n",
    "#     'RatingDist3', 'RatingDist2', 'RatingDist1', \n",
    "#     'RatingDistTotal','pagesNumber','Count of text reviews', 'Description') from the dataset\n",
    "# rename 'Id' to 'Book_id' and 'Name' to 'Title'\n",
    "# replace all NaN value in Language by 'eng'\n",
    "\n",
    "# observastion: in the cleaned_books dataset there is \"blank\" and date (\"10/18/2020\") \n",
    "# value in publisher column. please take this into consideration when using the cleaned_books dataset."
   ]
  },
  {
   "cell_type": "code",
   "execution_count": null,
   "metadata": {},
   "outputs": [],
   "source": []
  }
 ],
 "metadata": {
  "kernelspec": {
   "display_name": "Python 3.6.10 64-bit ('PythonData': conda)",
   "language": "python",
   "name": "python361064bitpythondatacondaa70f06a6f8ee448e835eff764d6ba02e"
  },
  "language_info": {
   "codemirror_mode": {
    "name": "ipython",
    "version": 3
   },
   "file_extension": ".py",
   "mimetype": "text/x-python",
   "name": "python",
   "nbconvert_exporter": "python",
   "pygments_lexer": "ipython3",
   "version": "3.6.10"
  }
 },
 "nbformat": 4,
 "nbformat_minor": 4
}
