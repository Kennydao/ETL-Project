{
 "cells": [
  {
   "cell_type": "code",
   "execution_count": 1,
   "metadata": {},
   "outputs": [],
   "source": [
    "from config import api_key\n",
    "import xml.etree.ElementTree as ET\n",
    "import requests \n",
    "import xmltodict\n",
    "import json\n",
    "import pprint\n",
    "import pandas as pd"
   ]
  },
  {
   "cell_type": "code",
   "execution_count": 2,
   "metadata": {},
   "outputs": [
    {
     "data": {
      "text/plain": [
       "Index(['Name', 'Author', 'User Rating', 'Reviews', 'Price', 'Year', 'Genre'], dtype='object')"
      ]
     },
     "execution_count": 2,
     "metadata": {},
     "output_type": "execute_result"
    }
   ],
   "source": [
    "path = \"../Resources/bestsellers with categories.csv\"\n",
    "df = pd.read_csv(path)\n",
    "df.columns"
   ]
  },
  {
   "cell_type": "code",
   "execution_count": 3,
   "metadata": {},
   "outputs": [],
   "source": [
    "#sort DataFrame by 'User Rating'\n",
    "df = df.sort_values(\"User Rating\",ascending=False)"
   ]
  },
  {
   "cell_type": "code",
   "execution_count": 4,
   "metadata": {},
   "outputs": [],
   "source": [
    "#Drop duplicates\n",
    "df = df.drop_duplicates('Author')"
   ]
  },
  {
   "cell_type": "code",
   "execution_count": 5,
   "metadata": {},
   "outputs": [],
   "source": [
    "#convert authors'names into a list\n",
    "author_list = df['Author'].tolist()"
   ]
  },
  {
   "cell_type": "code",
   "execution_count": 6,
   "metadata": {},
   "outputs": [
    {
     "data": {
      "text/plain": [
       "248"
      ]
     },
     "execution_count": 6,
     "metadata": {},
     "output_type": "execute_result"
    }
   ],
   "source": [
    "len(author_list)"
   ]
  },
  {
   "cell_type": "code",
   "execution_count": 7,
   "metadata": {},
   "outputs": [],
   "source": [
    "# get Authors' ID"
   ]
  },
  {
   "cell_type": "code",
   "execution_count": null,
   "metadata": {},
   "outputs": [],
   "source": [
    "authors_name_and_ids = []\n",
    "for name in author_list:\n",
    "\n",
    "    query=name\n",
    "    url = f\"https://www.goodreads.com/api/author_url/{query}?key={api_key}\"\n",
    "\n",
    "    r = requests.get(url)\n",
    "    root = ET.fromstring(r.text)\n",
    "    tree = ET.ElementTree(root)\n",
    "    tree.write(\"list.xml\")\n",
    "\n",
    "    with open(\"list.xml\") as xml_file:\n",
    "        data_dict = xmltodict.parse(xml_file.read())\n",
    "        xml_file.close()\n",
    "\n",
    "    json_data = json.dumps(data_dict)\n",
    "    with open(\"data.json\",\"w\") as json_file:\n",
    "        json_file.write(json_data)\n",
    "        \n",
    "    \n",
    "    with open(\"data.json\") as f:\n",
    "        data = json.load(f)\n",
    "        authors_name_and_ids.append(data)"
   ]
  },
  {
   "cell_type": "code",
   "execution_count": null,
   "metadata": {},
   "outputs": [],
   "source": [
    "author_id_list=[]\n",
    "author_name_list=[]\n",
    "author_link_list=[]\n",
    "\n",
    "for info in authors_name_and_ids:\n",
    "    if \"author\" in info['GoodreadsResponse']:\n",
    "        author_id = info['GoodreadsResponse']['author']['@id']\n",
    "        author_name = info['GoodreadsResponse']['author']['name']\n",
    "        author_link = info['GoodreadsResponse']['author']['link']\n",
    "\n",
    "        author_id_list.append(info['GoodreadsResponse']['author']['@id'])\n",
    "        author_name_list.append(author_name)\n",
    "        author_link_list.append(author_link)\n",
    "    else:\n",
    "        pass"
   ]
  },
  {
   "cell_type": "code",
   "execution_count": null,
   "metadata": {},
   "outputs": [],
   "source": [
    "df_author = pd.DataFrame({\"author_id\":author_id_list,\n",
    "                          \"author_name\":author_name_list,\n",
    "                          \"author_link\":author_link_list})"
   ]
  },
  {
   "cell_type": "code",
   "execution_count": null,
   "metadata": {},
   "outputs": [],
   "source": [
    "df_author"
   ]
  },
  {
   "cell_type": "code",
   "execution_count": null,
   "metadata": {},
   "outputs": [],
   "source": [
    "#API pull Authors Information"
   ]
  },
  {
   "cell_type": "code",
   "execution_count": 11,
   "metadata": {},
   "outputs": [],
   "source": [
    "author_info_list = []\n",
    "for id in author_id_list:\n",
    "    query = id\n",
    "    url=f'https://www.goodreads.com/author/show/{id}?&key={api_key}'\n",
    "    r = requests.get(url)\n",
    "    root = ET.fromstring(r.text)\n",
    "    tree = ET.ElementTree(root)\n",
    "    tree.write(\"author_info.xml\")\n",
    "\n",
    "    with open(\"author_info.xml\") as xml_file:\n",
    "        data_dict = xmltodict.parse(xml_file.read())\n",
    "        xml_file.close()\n",
    "\n",
    "    json_data = json.dumps(data_dict)\n",
    "    with open(\"author_info.json\",\"w\") as json_file:\n",
    "        json_file.write(json_data)\n",
    "        \n",
    "\n",
    "    with open(\"author_info.json\") as f:\n",
    "        data = json.load(f)\n",
    "\n",
    "        author_info_list.append(data)"
   ]
  },
  {
   "cell_type": "code",
   "execution_count": 102,
   "metadata": {
    "tags": []
   },
   "outputs": [],
   "source": [
    "author_id_list =[]\n",
    "gender_list = []\n",
    "hometown_list = []\n",
    "author_book_list = []\n",
    "\n",
    "\n",
    "for info in author_info_list:\n",
    "    author_id = info['GoodreadsResponse']['author']['id']\n",
    "    author_id_list.append(author_id)\n",
    "\n",
    "    if 'gender' in info['GoodreadsResponse']['author']:\n",
    "       gender_list.append(info['GoodreadsResponse']['author']['gender'])\n",
    "    else:\n",
    "        gender_list.append(0)\n",
    "    \n",
    "    if 'hometown' in info['GoodreadsResponse']['author']:\n",
    "        hometown_list.append(info['GoodreadsResponse']['author']['hometown'])\n",
    "    else:\n",
    "        hometown_list.append(0)\n",
    "    \n",
    "    each_author_book_dict = {}\n",
    "    books = info['GoodreadsResponse']['author']['books']['book']\n",
    "\n",
    "    for book in books:\n",
    "        try:\n",
    "            book_title = book['title']\n",
    "            book_isbn13 = book['isbn13']\n",
    "            book_average_rating = book['average_rating']\n",
    "            book_publisher = book['publisher']\n",
    "            each_author_book_dict={'book_title':book_title,\n",
    "                                   'book_isbn13':book_isbn13,\n",
    "                                   'book_average_rating':book_average_rating,\n",
    "                                   'book_publiser':book_pubiliser}\n",
    "\n",
    "        except TypeError:\n",
    "            pass\n",
    "    author_book_list.append(each_author_book_dict)\n",
    "       "
   ]
  },
  {
   "cell_type": "code",
   "execution_count": 125,
   "metadata": {},
   "outputs": [
    {
     "data": {
      "text/html": [
       "<div>\n",
       "<style scoped>\n",
       "    .dataframe tbody tr th:only-of-type {\n",
       "        vertical-align: middle;\n",
       "    }\n",
       "\n",
       "    .dataframe tbody tr th {\n",
       "        vertical-align: top;\n",
       "    }\n",
       "\n",
       "    .dataframe thead th {\n",
       "        text-align: right;\n",
       "    }\n",
       "</style>\n",
       "<table border=\"1\" class=\"dataframe\">\n",
       "  <thead>\n",
       "    <tr style=\"text-align: right;\">\n",
       "      <th></th>\n",
       "      <th>author_id</th>\n",
       "      <th>gender</th>\n",
       "      <th>hometown</th>\n",
       "      <th>books</th>\n",
       "    </tr>\n",
       "  </thead>\n",
       "  <tbody>\n",
       "    <tr>\n",
       "      <th>0</th>\n",
       "      <td>14980615</td>\n",
       "      <td>female</td>\n",
       "      <td>Albuquerque, New Mexico</td>\n",
       "      <td>{'book_title': 'I Choose Peace: Raw Stories of...</td>\n",
       "    </tr>\n",
       "    <tr>\n",
       "      <th>1</th>\n",
       "      <td>33280</td>\n",
       "      <td>None</td>\n",
       "      <td>Cleveland, OH</td>\n",
       "      <td>{'book_title': 'The Adventures of Super Diaper...</td>\n",
       "    </tr>\n",
       "    <tr>\n",
       "      <th>2</th>\n",
       "      <td>61105</td>\n",
       "      <td>male</td>\n",
       "      <td>Springfield, MA</td>\n",
       "      <td>{'book_title': 'Fox in Socks', 'book_isbn13': ...</td>\n",
       "    </tr>\n",
       "    <tr>\n",
       "      <th>3</th>\n",
       "      <td>3362</td>\n",
       "      <td>male</td>\n",
       "      <td>Syracuse, New York</td>\n",
       "      <td>{'book_title': 'Papa, Please Get the Moon for ...</td>\n",
       "    </tr>\n",
       "    <tr>\n",
       "      <th>4</th>\n",
       "      <td>4880403</td>\n",
       "      <td>female</td>\n",
       "      <td>None</td>\n",
       "      <td>{'book_title': 'The Wonderful Baby You Are: A ...</td>\n",
       "    </tr>\n",
       "  </tbody>\n",
       "</table>\n",
       "</div>"
      ],
      "text/plain": [
       "  author_id  gender                 hometown  \\\n",
       "0  14980615  female  Albuquerque, New Mexico   \n",
       "1     33280    None            Cleveland, OH   \n",
       "2     61105    male          Springfield, MA   \n",
       "3      3362    male       Syracuse, New York   \n",
       "4   4880403  female                     None   \n",
       "\n",
       "                                               books  \n",
       "0  {'book_title': 'I Choose Peace: Raw Stories of...  \n",
       "1  {'book_title': 'The Adventures of Super Diaper...  \n",
       "2  {'book_title': 'Fox in Socks', 'book_isbn13': ...  \n",
       "3  {'book_title': 'Papa, Please Get the Moon for ...  \n",
       "4  {'book_title': 'The Wonderful Baby You Are: A ...  "
      ]
     },
     "execution_count": 125,
     "metadata": {},
     "output_type": "execute_result"
    }
   ],
   "source": [
    "df_author_info = pd.DataFrame({'author_id':author_id_list,\n",
    "                  'gender':gender_list,\n",
    "                  'hometown':hometown_list,\n",
    "                  'books':author_book_list\n",
    "                  })  \n",
    "df_author_info.head()"
   ]
  },
  {
   "cell_type": "code",
   "execution_count": 124,
   "metadata": {},
   "outputs": [
    {
     "data": {
      "text/plain": [
       "{'book_title': 'I Choose Peace: Raw Stories of Real People Finding Contentment and Happiness',\n",
       " 'book_isbn13': {'@nil': 'true'},\n",
       " 'book_average_rating': '4.28',\n",
       " 'book_publiser': 'Little Brown and Company'}"
      ]
     },
     "execution_count": 124,
     "metadata": {},
     "output_type": "execute_result"
    }
   ],
   "source": [
    "df_author_info.loc[0,'books']"
   ]
  },
  {
   "cell_type": "code",
   "execution_count": null,
   "metadata": {},
   "outputs": [],
   "source": []
  }
 ],
 "metadata": {
  "kernelspec": {
   "display_name": "Python 3",
   "language": "python",
   "name": "python3"
  },
  "language_info": {
   "codemirror_mode": {
    "name": "ipython",
    "version": 3
   },
   "file_extension": ".py",
   "mimetype": "text/x-python",
   "name": "python",
   "nbconvert_exporter": "python",
   "pygments_lexer": "ipython3",
   "version": "3.8.3"
  }
 },
 "nbformat": 4,
 "nbformat_minor": 2
}
