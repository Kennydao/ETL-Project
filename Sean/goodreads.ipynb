{
 "metadata": {
  "language_info": {
   "codemirror_mode": {
    "name": "ipython",
    "version": 3
   },
   "file_extension": ".py",
   "mimetype": "text/x-python",
   "name": "python",
   "nbconvert_exporter": "python",
   "pygments_lexer": "ipython3",
   "version": "3.8.3-final"
  },
  "orig_nbformat": 2,
  "kernelspec": {
   "name": "python3",
   "display_name": "Python 3"
  }
 },
 "nbformat": 4,
 "nbformat_minor": 2,
 "cells": [
  {
   "cell_type": "code",
   "execution_count": 1,
   "metadata": {},
   "outputs": [],
   "source": [
    "from config import api_key\n",
    "import xml.etree.ElementTree as ET\n",
    "import requests \n",
    "import xmltodict\n",
    "import json\n",
    "import pprint\n",
    "import pandas as pd"
   ]
  },
  {
   "cell_type": "code",
   "execution_count": 2,
   "metadata": {},
   "outputs": [
    {
     "output_type": "execute_result",
     "data": {
      "text/plain": [
       "Index(['Name', 'Author', 'User Rating', 'Reviews', 'Price', 'Year', 'Genre'], dtype='object')"
      ]
     },
     "metadata": {},
     "execution_count": 2
    }
   ],
   "source": [
    "path = \"../Resources/bestsellers with categories.csv\"\n",
    "df = pd.read_csv(path)\n",
    "df.columns"
   ]
  },
  {
   "cell_type": "code",
   "execution_count": 3,
   "metadata": {},
   "outputs": [],
   "source": [
    "#sort DataFrame by 'User Rating'\n",
    "df = df.sort_values(\"User Rating\",ascending=False)"
   ]
  },
  {
   "cell_type": "code",
   "execution_count": 5,
   "metadata": {},
   "outputs": [],
   "source": [
    "#Drop duplicates\n",
    "df = df.drop_duplicates('Author')"
   ]
  },
  {
   "cell_type": "code",
   "execution_count": 6,
   "metadata": {},
   "outputs": [],
   "source": [
    "#convert authors'names into a list\n",
    "author_list = df['Author'].tolist()"
   ]
  },
  {
   "cell_type": "code",
   "execution_count": 7,
   "metadata": {},
   "outputs": [
    {
     "output_type": "execute_result",
     "data": {
      "text/plain": [
       "248"
      ]
     },
     "metadata": {},
     "execution_count": 7
    }
   ],
   "source": [
    "len(author_list)"
   ]
  },
  {
   "cell_type": "code",
   "execution_count": null,
   "metadata": {},
   "outputs": [],
   "source": [
    "# get Authors' ID"
   ]
  },
  {
   "cell_type": "code",
   "execution_count": 8,
   "metadata": {},
   "outputs": [],
   "source": [
    "authors_name_and_ids = []\n",
    "for name in author_list:\n",
    "\n",
    "    query=name\n",
    "    url = f\"https://www.goodreads.com/api/author_url/{query}?key={api_key}\"\n",
    "\n",
    "    r = requests.get(url)\n",
    "    root = ET.fromstring(r.text)\n",
    "    tree = ET.ElementTree(root)\n",
    "    tree.write(\"list.xml\")\n",
    "\n",
    "    with open(\"list.xml\") as xml_file:\n",
    "        data_dict = xmltodict.parse(xml_file.read())\n",
    "        xml_file.close()\n",
    "\n",
    "    json_data = json.dumps(data_dict)\n",
    "    with open(\"data.json\",\"w\") as json_file:\n",
    "        json_file.write(json_data)\n",
    "        \n",
    "    \n",
    "    with open(\"data.json\") as f:\n",
    "        data = json.load(f)\n",
    "        try:\n",
    "            if \n",
    "        authors_name_and_ids.append(data)"
   ]
  },
  {
   "cell_type": "code",
   "execution_count": 44,
   "metadata": {},
   "outputs": [],
   "source": [
    "author_id_list=[]\n",
    "author_name_list=[]\n",
    "author_link_list=[]\n",
    "count = 0\n",
    "for info in authors_name_and_ids:\n",
    "    if \"author\" in info['GoodreadsResponse']:\n",
    "        author_id = info['GoodreadsResponse']['author']['@id']\n",
    "        author_name = info['GoodreadsResponse']['author']['name']\n",
    "        author_link = info['GoodreadsResponse']['author']['link']\n",
    "\n",
    "        author_id_list.append(info['GoodreadsResponse']['author']['@id'])\n",
    "        author_name_list.append(author_name)\n",
    "        author_link_list.append(author_link)\n",
    "    else:\n",
    "        pass"
   ]
  },
  {
   "cell_type": "code",
   "execution_count": 45,
   "metadata": {},
   "outputs": [],
   "source": [
    "df_author = pd.DataFrame({\"author_id\":author_id_list,\n",
    "                          \"author_name\":author_name_list,\n",
    "                          \"author_link\":author_link_list})"
   ]
  },
  {
   "cell_type": "code",
   "execution_count": 46,
   "metadata": {},
   "outputs": [
    {
     "output_type": "execute_result",
     "data": {
      "text/plain": [
       "    author_id            author_name  \\\n",
       "0    14980615            Chip Gaines   \n",
       "1       33280             Dav Pilkey   \n",
       "2       61105              Dr. Seuss   \n",
       "3        3362             Eric Carle   \n",
       "4     4880403  Emily Winfield Martin   \n",
       "..        ...                    ...   \n",
       "242  19157082      Ian K. Smith M.D.   \n",
       "243      2383          Gillian Flynn   \n",
       "244   3309823         Stephen Gallup   \n",
       "245    643126         Muriel Barbery   \n",
       "246      8719            Donna Tartt   \n",
       "\n",
       "                                           author_link  \n",
       "0    https://www.goodreads.com/author/show/14980615...  \n",
       "1    https://www.goodreads.com/author/show/33280.Da...  \n",
       "2    https://www.goodreads.com/author/show/61105.Dr...  \n",
       "3    https://www.goodreads.com/author/show/3362.Eri...  \n",
       "4    https://www.goodreads.com/author/show/4880403....  \n",
       "..                                                 ...  \n",
       "242  https://www.goodreads.com/author/show/19157082...  \n",
       "243  https://www.goodreads.com/author/show/2383.Gil...  \n",
       "244  https://www.goodreads.com/author/show/3309823....  \n",
       "245  https://www.goodreads.com/author/show/643126.M...  \n",
       "246  https://www.goodreads.com/author/show/8719.Don...  \n",
       "\n",
       "[247 rows x 3 columns]"
      ],
      "text/html": "<div>\n<style scoped>\n    .dataframe tbody tr th:only-of-type {\n        vertical-align: middle;\n    }\n\n    .dataframe tbody tr th {\n        vertical-align: top;\n    }\n\n    .dataframe thead th {\n        text-align: right;\n    }\n</style>\n<table border=\"1\" class=\"dataframe\">\n  <thead>\n    <tr style=\"text-align: right;\">\n      <th></th>\n      <th>author_id</th>\n      <th>author_name</th>\n      <th>author_link</th>\n    </tr>\n  </thead>\n  <tbody>\n    <tr>\n      <th>0</th>\n      <td>14980615</td>\n      <td>Chip Gaines</td>\n      <td>https://www.goodreads.com/author/show/14980615...</td>\n    </tr>\n    <tr>\n      <th>1</th>\n      <td>33280</td>\n      <td>Dav Pilkey</td>\n      <td>https://www.goodreads.com/author/show/33280.Da...</td>\n    </tr>\n    <tr>\n      <th>2</th>\n      <td>61105</td>\n      <td>Dr. Seuss</td>\n      <td>https://www.goodreads.com/author/show/61105.Dr...</td>\n    </tr>\n    <tr>\n      <th>3</th>\n      <td>3362</td>\n      <td>Eric Carle</td>\n      <td>https://www.goodreads.com/author/show/3362.Eri...</td>\n    </tr>\n    <tr>\n      <th>4</th>\n      <td>4880403</td>\n      <td>Emily Winfield Martin</td>\n      <td>https://www.goodreads.com/author/show/4880403....</td>\n    </tr>\n    <tr>\n      <th>...</th>\n      <td>...</td>\n      <td>...</td>\n      <td>...</td>\n    </tr>\n    <tr>\n      <th>242</th>\n      <td>19157082</td>\n      <td>Ian K. Smith M.D.</td>\n      <td>https://www.goodreads.com/author/show/19157082...</td>\n    </tr>\n    <tr>\n      <th>243</th>\n      <td>2383</td>\n      <td>Gillian Flynn</td>\n      <td>https://www.goodreads.com/author/show/2383.Gil...</td>\n    </tr>\n    <tr>\n      <th>244</th>\n      <td>3309823</td>\n      <td>Stephen Gallup</td>\n      <td>https://www.goodreads.com/author/show/3309823....</td>\n    </tr>\n    <tr>\n      <th>245</th>\n      <td>643126</td>\n      <td>Muriel Barbery</td>\n      <td>https://www.goodreads.com/author/show/643126.M...</td>\n    </tr>\n    <tr>\n      <th>246</th>\n      <td>8719</td>\n      <td>Donna Tartt</td>\n      <td>https://www.goodreads.com/author/show/8719.Don...</td>\n    </tr>\n  </tbody>\n</table>\n<p>247 rows × 3 columns</p>\n</div>"
     },
     "metadata": {},
     "execution_count": 46
    }
   ],
   "source": [
    "df_author"
   ]
  },
  {
   "cell_type": "code",
   "execution_count": null,
   "metadata": {},
   "outputs": [],
   "source": []
  }
 ]
}