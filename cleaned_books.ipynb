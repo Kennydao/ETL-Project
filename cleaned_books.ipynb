{
 "cells": [
  {
   "cell_type": "code",
   "execution_count": 43,
   "metadata": {},
   "outputs": [],
   "source": [
    "# Dependencies and Setup\n",
    "import pandas as pd\n",
    "import csv\n",
    "#import os"
   ]
  },
  {
   "cell_type": "code",
   "execution_count": 44,
   "metadata": {},
   "outputs": [],
   "source": [
    "# File to Load (Remember to Change These)\n",
    "books_data_to_load = \"Resources/book900k-1000k.csv\"\n",
    "\n",
    "# Read data file into into Pandas dataframe\n",
    "books_df = pd.read_csv(books_data_to_load)\n",
    "#books_df.head()"
   ]
  },
  {
   "cell_type": "code",
   "execution_count": 45,
   "metadata": {},
   "outputs": [
    {
     "data": {
      "text/plain": [
       "(40890, 20)"
      ]
     },
     "execution_count": 45,
     "metadata": {},
     "output_type": "execute_result"
    }
   ],
   "source": [
    "books_df.shape"
   ]
  },
  {
   "cell_type": "code",
   "execution_count": 46,
   "metadata": {},
   "outputs": [
    {
     "data": {
      "text/html": [
       "<div>\n",
       "<style scoped>\n",
       "    .dataframe tbody tr th:only-of-type {\n",
       "        vertical-align: middle;\n",
       "    }\n",
       "\n",
       "    .dataframe tbody tr th {\n",
       "        vertical-align: top;\n",
       "    }\n",
       "\n",
       "    .dataframe thead th {\n",
       "        text-align: right;\n",
       "    }\n",
       "</style>\n",
       "<table border=\"1\" class=\"dataframe\">\n",
       "  <thead>\n",
       "    <tr style=\"text-align: right;\">\n",
       "      <th></th>\n",
       "      <th>Id</th>\n",
       "      <th>Rating</th>\n",
       "      <th>PublishYear</th>\n",
       "      <th>PublishMonth</th>\n",
       "      <th>PublishDay</th>\n",
       "      <th>CountsOfReview</th>\n",
       "      <th>pagesNumber</th>\n",
       "      <th>Count of text reviews</th>\n",
       "    </tr>\n",
       "  </thead>\n",
       "  <tbody>\n",
       "    <tr>\n",
       "      <th>count</th>\n",
       "      <td>40890.000000</td>\n",
       "      <td>40890.000000</td>\n",
       "      <td>40890.000000</td>\n",
       "      <td>40890.000000</td>\n",
       "      <td>40890.000000</td>\n",
       "      <td>40890.000000</td>\n",
       "      <td>40890.000000</td>\n",
       "      <td>40890.000000</td>\n",
       "    </tr>\n",
       "    <tr>\n",
       "      <th>mean</th>\n",
       "      <td>949177.751431</td>\n",
       "      <td>3.469541</td>\n",
       "      <td>1998.890584</td>\n",
       "      <td>9.709636</td>\n",
       "      <td>6.346075</td>\n",
       "      <td>8.834238</td>\n",
       "      <td>276.196747</td>\n",
       "      <td>8.834238</td>\n",
       "    </tr>\n",
       "    <tr>\n",
       "      <th>std</th>\n",
       "      <td>29062.356909</td>\n",
       "      <td>1.242119</td>\n",
       "      <td>8.462135</td>\n",
       "      <td>10.235637</td>\n",
       "      <td>3.565110</td>\n",
       "      <td>71.253610</td>\n",
       "      <td>505.166816</td>\n",
       "      <td>71.253610</td>\n",
       "    </tr>\n",
       "    <tr>\n",
       "      <th>min</th>\n",
       "      <td>900000.000000</td>\n",
       "      <td>0.000000</td>\n",
       "      <td>1899.000000</td>\n",
       "      <td>1.000000</td>\n",
       "      <td>1.000000</td>\n",
       "      <td>0.000000</td>\n",
       "      <td>0.000000</td>\n",
       "      <td>0.000000</td>\n",
       "    </tr>\n",
       "    <tr>\n",
       "      <th>25%</th>\n",
       "      <td>923881.250000</td>\n",
       "      <td>3.470000</td>\n",
       "      <td>1995.000000</td>\n",
       "      <td>1.000000</td>\n",
       "      <td>3.000000</td>\n",
       "      <td>0.000000</td>\n",
       "      <td>153.000000</td>\n",
       "      <td>0.000000</td>\n",
       "    </tr>\n",
       "    <tr>\n",
       "      <th>50%</th>\n",
       "      <td>948838.500000</td>\n",
       "      <td>3.840000</td>\n",
       "      <td>2001.000000</td>\n",
       "      <td>4.000000</td>\n",
       "      <td>6.000000</td>\n",
       "      <td>1.000000</td>\n",
       "      <td>241.000000</td>\n",
       "      <td>1.000000</td>\n",
       "    </tr>\n",
       "    <tr>\n",
       "      <th>75%</th>\n",
       "      <td>974600.250000</td>\n",
       "      <td>4.090000</td>\n",
       "      <td>2005.000000</td>\n",
       "      <td>17.000000</td>\n",
       "      <td>9.000000</td>\n",
       "      <td>4.000000</td>\n",
       "      <td>340.000000</td>\n",
       "      <td>4.000000</td>\n",
       "    </tr>\n",
       "    <tr>\n",
       "      <th>max</th>\n",
       "      <td>999998.000000</td>\n",
       "      <td>5.000000</td>\n",
       "      <td>2020.000000</td>\n",
       "      <td>31.000000</td>\n",
       "      <td>12.000000</td>\n",
       "      <td>6495.000000</td>\n",
       "      <td>80500.000000</td>\n",
       "      <td>6495.000000</td>\n",
       "    </tr>\n",
       "  </tbody>\n",
       "</table>\n",
       "</div>"
      ],
      "text/plain": [
       "                  Id        Rating   PublishYear  PublishMonth    PublishDay  \\\n",
       "count   40890.000000  40890.000000  40890.000000  40890.000000  40890.000000   \n",
       "mean   949177.751431      3.469541   1998.890584      9.709636      6.346075   \n",
       "std     29062.356909      1.242119      8.462135     10.235637      3.565110   \n",
       "min    900000.000000      0.000000   1899.000000      1.000000      1.000000   \n",
       "25%    923881.250000      3.470000   1995.000000      1.000000      3.000000   \n",
       "50%    948838.500000      3.840000   2001.000000      4.000000      6.000000   \n",
       "75%    974600.250000      4.090000   2005.000000     17.000000      9.000000   \n",
       "max    999998.000000      5.000000   2020.000000     31.000000     12.000000   \n",
       "\n",
       "       CountsOfReview   pagesNumber  Count of text reviews  \n",
       "count    40890.000000  40890.000000           40890.000000  \n",
       "mean         8.834238    276.196747               8.834238  \n",
       "std         71.253610    505.166816              71.253610  \n",
       "min          0.000000      0.000000               0.000000  \n",
       "25%          0.000000    153.000000               0.000000  \n",
       "50%          1.000000    241.000000               1.000000  \n",
       "75%          4.000000    340.000000               4.000000  \n",
       "max       6495.000000  80500.000000            6495.000000  "
      ]
     },
     "execution_count": 46,
     "metadata": {},
     "output_type": "execute_result"
    }
   ],
   "source": [
    "books_df.describe()"
   ]
  },
  {
   "cell_type": "code",
   "execution_count": 47,
   "metadata": {},
   "outputs": [],
   "source": [
    "# columns = books_df.columns\n",
    "# columns"
   ]
  },
  {
   "cell_type": "code",
   "execution_count": 48,
   "metadata": {},
   "outputs": [],
   "source": [
    "removed_columns = ['RatingDist5', 'RatingDist4',\n",
    "               'RatingDist3', 'RatingDist2', 'RatingDist1', 'pagesNumber',\n",
    "                'RatingDistTotal', 'Count of text reviews', 'CountsOfReview','Description']"
   ]
  },
  {
   "cell_type": "code",
   "execution_count": 49,
   "metadata": {},
   "outputs": [],
   "source": [
    "# drop unused columns\n",
    "books_df.drop(columns = removed_columns, inplace=True)"
   ]
  },
  {
   "cell_type": "code",
   "execution_count": 50,
   "metadata": {},
   "outputs": [],
   "source": [
    "# books_df.columns"
   ]
  },
  {
   "cell_type": "code",
   "execution_count": 51,
   "metadata": {},
   "outputs": [
    {
     "data": {
      "text/html": [
       "<div>\n",
       "<style scoped>\n",
       "    .dataframe tbody tr th:only-of-type {\n",
       "        vertical-align: middle;\n",
       "    }\n",
       "\n",
       "    .dataframe tbody tr th {\n",
       "        vertical-align: top;\n",
       "    }\n",
       "\n",
       "    .dataframe thead th {\n",
       "        text-align: right;\n",
       "    }\n",
       "</style>\n",
       "<table border=\"1\" class=\"dataframe\">\n",
       "  <thead>\n",
       "    <tr style=\"text-align: right;\">\n",
       "      <th></th>\n",
       "      <th>BookId</th>\n",
       "      <th>Title</th>\n",
       "      <th>AuthorName</th>\n",
       "      <th>ISBN</th>\n",
       "      <th>Rating</th>\n",
       "      <th>PublishY</th>\n",
       "      <th>PublishD</th>\n",
       "      <th>PublishM</th>\n",
       "      <th>Publisher</th>\n",
       "      <th>Language</th>\n",
       "    </tr>\n",
       "  </thead>\n",
       "  <tbody>\n",
       "    <tr>\n",
       "      <th>0</th>\n",
       "      <td>900000</td>\n",
       "      <td>Cabinet 03: Weather</td>\n",
       "      <td>Jeffrey Kastner</td>\n",
       "      <td>1932698019</td>\n",
       "      <td>4.00</td>\n",
       "      <td>2004</td>\n",
       "      <td>2</td>\n",
       "      <td>1</td>\n",
       "      <td>Cabinet</td>\n",
       "      <td>NaN</td>\n",
       "    </tr>\n",
       "    <tr>\n",
       "      <th>1</th>\n",
       "      <td>900001</td>\n",
       "      <td>Workouts in a Binder for Swimmers, Triathletes...</td>\n",
       "      <td>Nick Hansen</td>\n",
       "      <td>1931382743</td>\n",
       "      <td>4.48</td>\n",
       "      <td>2005</td>\n",
       "      <td>18</td>\n",
       "      <td>11</td>\n",
       "      <td>Velo Press</td>\n",
       "      <td>NaN</td>\n",
       "    </tr>\n",
       "    <tr>\n",
       "      <th>2</th>\n",
       "      <td>900002</td>\n",
       "      <td>Las 120 jornadas de Sodoma</td>\n",
       "      <td>Marquis de Sade</td>\n",
       "      <td>8472233847</td>\n",
       "      <td>3.12</td>\n",
       "      <td>1992</td>\n",
       "      <td>1</td>\n",
       "      <td>3</td>\n",
       "      <td>TusQuets</td>\n",
       "      <td>NaN</td>\n",
       "    </tr>\n",
       "    <tr>\n",
       "      <th>3</th>\n",
       "      <td>900004</td>\n",
       "      <td>The Traveler: An American Odyssey in the Himal...</td>\n",
       "      <td>Eric Hansen</td>\n",
       "      <td>0871563509</td>\n",
       "      <td>4.18</td>\n",
       "      <td>1995</td>\n",
       "      <td>6</td>\n",
       "      <td>6</td>\n",
       "      <td>Random House, Inc.</td>\n",
       "      <td>NaN</td>\n",
       "    </tr>\n",
       "    <tr>\n",
       "      <th>4</th>\n",
       "      <td>900006</td>\n",
       "      <td>Vertical Smile</td>\n",
       "      <td>Richard Condon</td>\n",
       "      <td>0297994026</td>\n",
       "      <td>3.74</td>\n",
       "      <td>1972</td>\n",
       "      <td>20</td>\n",
       "      <td>4</td>\n",
       "      <td>Littlehampton Book Services Ltd</td>\n",
       "      <td>NaN</td>\n",
       "    </tr>\n",
       "  </tbody>\n",
       "</table>\n",
       "</div>"
      ],
      "text/plain": [
       "   BookId                                              Title       AuthorName  \\\n",
       "0  900000                                Cabinet 03: Weather  Jeffrey Kastner   \n",
       "1  900001  Workouts in a Binder for Swimmers, Triathletes...      Nick Hansen   \n",
       "2  900002                         Las 120 jornadas de Sodoma  Marquis de Sade   \n",
       "3  900004  The Traveler: An American Odyssey in the Himal...      Eric Hansen   \n",
       "4  900006                                     Vertical Smile   Richard Condon   \n",
       "\n",
       "         ISBN  Rating  PublishY  PublishD  PublishM  \\\n",
       "0  1932698019    4.00      2004         2         1   \n",
       "1  1931382743    4.48      2005        18        11   \n",
       "2  8472233847    3.12      1992         1         3   \n",
       "3  0871563509    4.18      1995         6         6   \n",
       "4  0297994026    3.74      1972        20         4   \n",
       "\n",
       "                         Publisher Language  \n",
       "0                          Cabinet      NaN  \n",
       "1                       Velo Press      NaN  \n",
       "2                         TusQuets      NaN  \n",
       "3               Random House, Inc.      NaN  \n",
       "4  Littlehampton Book Services Ltd      NaN  "
      ]
     },
     "execution_count": 51,
     "metadata": {},
     "output_type": "execute_result"
    }
   ],
   "source": [
    "# rename columns\n",
    "books_df = books_df.rename(columns={'Id':'BookId', 'Name':'Title', 'Authors':'AuthorName',\n",
    "                                    'PublishYear':'PublishY', 'PublishMonth':'PublishD', \n",
    "                                    'PublishDay':'PublishM'})\n",
    "\n",
    "books_df.head()"
   ]
  },
  {
   "cell_type": "code",
   "execution_count": 52,
   "metadata": {},
   "outputs": [],
   "source": [
    "# remove 'X' character exists in the ISBN  \n",
    "\n",
    "books_df['ISBN'] = books_df['ISBN'].astype(str)\n",
    "books_df['ISBN'] = books_df.ISBN.apply(lambda x: x.rstrip('X'))"
   ]
  },
  {
   "cell_type": "code",
   "execution_count": 53,
   "metadata": {},
   "outputs": [
    {
     "data": {
      "text/html": [
       "<div>\n",
       "<style scoped>\n",
       "    .dataframe tbody tr th:only-of-type {\n",
       "        vertical-align: middle;\n",
       "    }\n",
       "\n",
       "    .dataframe tbody tr th {\n",
       "        vertical-align: top;\n",
       "    }\n",
       "\n",
       "    .dataframe thead th {\n",
       "        text-align: right;\n",
       "    }\n",
       "</style>\n",
       "<table border=\"1\" class=\"dataframe\">\n",
       "  <thead>\n",
       "    <tr style=\"text-align: right;\">\n",
       "      <th></th>\n",
       "      <th>BookId</th>\n",
       "      <th>Title</th>\n",
       "      <th>AuthorName</th>\n",
       "      <th>ISBN</th>\n",
       "      <th>Rating</th>\n",
       "      <th>PublishY</th>\n",
       "      <th>PublishD</th>\n",
       "      <th>PublishM</th>\n",
       "      <th>Publisher</th>\n",
       "      <th>Language</th>\n",
       "    </tr>\n",
       "  </thead>\n",
       "  <tbody>\n",
       "    <tr>\n",
       "      <th>0</th>\n",
       "      <td>900000</td>\n",
       "      <td>Cabinet 03: Weather</td>\n",
       "      <td>Jeffrey Kastner</td>\n",
       "      <td>1932698019</td>\n",
       "      <td>4.00</td>\n",
       "      <td>2004</td>\n",
       "      <td>2</td>\n",
       "      <td>1</td>\n",
       "      <td>Cabinet</td>\n",
       "      <td>NaN</td>\n",
       "    </tr>\n",
       "    <tr>\n",
       "      <th>1</th>\n",
       "      <td>900001</td>\n",
       "      <td>Workouts in a Binder for Swimmers, Triathletes...</td>\n",
       "      <td>Nick Hansen</td>\n",
       "      <td>1931382743</td>\n",
       "      <td>4.48</td>\n",
       "      <td>2005</td>\n",
       "      <td>18</td>\n",
       "      <td>11</td>\n",
       "      <td>Velo Press</td>\n",
       "      <td>NaN</td>\n",
       "    </tr>\n",
       "    <tr>\n",
       "      <th>2</th>\n",
       "      <td>900002</td>\n",
       "      <td>Las 120 jornadas de Sodoma</td>\n",
       "      <td>Marquis de Sade</td>\n",
       "      <td>8472233847</td>\n",
       "      <td>3.12</td>\n",
       "      <td>1992</td>\n",
       "      <td>1</td>\n",
       "      <td>3</td>\n",
       "      <td>TusQuets</td>\n",
       "      <td>NaN</td>\n",
       "    </tr>\n",
       "    <tr>\n",
       "      <th>3</th>\n",
       "      <td>900004</td>\n",
       "      <td>The Traveler: An American Odyssey in the Himal...</td>\n",
       "      <td>Eric Hansen</td>\n",
       "      <td>0871563509</td>\n",
       "      <td>4.18</td>\n",
       "      <td>1995</td>\n",
       "      <td>6</td>\n",
       "      <td>6</td>\n",
       "      <td>Random House, Inc.</td>\n",
       "      <td>NaN</td>\n",
       "    </tr>\n",
       "    <tr>\n",
       "      <th>4</th>\n",
       "      <td>900006</td>\n",
       "      <td>Vertical Smile</td>\n",
       "      <td>Richard Condon</td>\n",
       "      <td>0297994026</td>\n",
       "      <td>3.74</td>\n",
       "      <td>1972</td>\n",
       "      <td>20</td>\n",
       "      <td>4</td>\n",
       "      <td>Littlehampton Book Services Ltd</td>\n",
       "      <td>NaN</td>\n",
       "    </tr>\n",
       "  </tbody>\n",
       "</table>\n",
       "</div>"
      ],
      "text/plain": [
       "   BookId                                              Title       AuthorName  \\\n",
       "0  900000                                Cabinet 03: Weather  Jeffrey Kastner   \n",
       "1  900001  Workouts in a Binder for Swimmers, Triathletes...      Nick Hansen   \n",
       "2  900002                         Las 120 jornadas de Sodoma  Marquis de Sade   \n",
       "3  900004  The Traveler: An American Odyssey in the Himal...      Eric Hansen   \n",
       "4  900006                                     Vertical Smile   Richard Condon   \n",
       "\n",
       "         ISBN  Rating  PublishY  PublishD  PublishM  \\\n",
       "0  1932698019    4.00      2004         2         1   \n",
       "1  1931382743    4.48      2005        18        11   \n",
       "2  8472233847    3.12      1992         1         3   \n",
       "3  0871563509    4.18      1995         6         6   \n",
       "4  0297994026    3.74      1972        20         4   \n",
       "\n",
       "                         Publisher Language  \n",
       "0                          Cabinet      NaN  \n",
       "1                       Velo Press      NaN  \n",
       "2                         TusQuets      NaN  \n",
       "3               Random House, Inc.      NaN  \n",
       "4  Littlehampton Book Services Ltd      NaN  "
      ]
     },
     "execution_count": 53,
     "metadata": {},
     "output_type": "execute_result"
    }
   ],
   "source": [
    "books_df.head()"
   ]
  },
  {
   "cell_type": "code",
   "execution_count": 54,
   "metadata": {},
   "outputs": [],
   "source": [
    "# removing character ',' in the Title, AuthorName and Publisher\n",
    "books_df['Title'] = books_df.Title.replace(',','', regex=True)\n",
    "\n",
    "books_df['Publisher'] = books_df.Publisher.replace(',','', regex=True)\n",
    "\n",
    "books_df['AuthorName'] = books_df.AuthorName.replace(',','', regex=True)"
   ]
  },
  {
   "cell_type": "code",
   "execution_count": 64,
   "metadata": {},
   "outputs": [],
   "source": [
    "# removing character '\"' in the Title and Publisher\n",
    "books_df['Title'] = books_df.Title.replace('\"','', regex=True)\n",
    "\n",
    "books_df['Publisher'] = books_df.Publisher.replace('\"','', regex=True)"
   ]
  },
  {
   "cell_type": "code",
   "execution_count": 55,
   "metadata": {},
   "outputs": [],
   "source": [
    "# replace all NaN value in Language column by eng\n",
    "\n",
    "values ={'Language':'eng'}\n",
    "books_df.fillna(value = values, inplace=True)"
   ]
  },
  {
   "cell_type": "code",
   "execution_count": 56,
   "metadata": {},
   "outputs": [],
   "source": [
    "# remove duplicate\n",
    "books_df.drop_duplicates(subset=['BookId'], inplace=True)"
   ]
  },
  {
   "cell_type": "code",
   "execution_count": 65,
   "metadata": {},
   "outputs": [],
   "source": [
    "# save to csv file\n",
    "books_df.to_csv(\"Resources/books.csv\", index=False)"
   ]
  },
  {
   "cell_type": "markdown",
   "metadata": {},
   "source": [
    "### cleaned books"
   ]
  },
  {
   "cell_type": "code",
   "execution_count": null,
   "metadata": {},
   "outputs": [],
   "source": [
    "# before: there was 40,890 records and 20 columns with NaN value in Language\n",
    "\n",
    "# after: removed ten columns ('RatingDist5', 'RatingDist4',\n",
    "#     'RatingDist3', 'RatingDist2', 'RatingDist1', 'RatingDistTotal',\n",
    "#     'pagesNumber','Count of text reviews', 'CountsOfReview', 'Description') from the dataset\n",
    "# rename 'Id' to 'Book_id' and 'Name' to 'Title'\n",
    "# replace all NaN value in Language by 'eng'\n",
    "\n",
    "# observastion: in the cleaned_books dataset there is \"blank\" and date (\"10/18/2020\") \n",
    "# value in publisher column. please take this into consideration when using the cleaned_books dataset."
   ]
  },
  {
   "cell_type": "markdown",
   "metadata": {},
   "source": [
    "### cleaned authors"
   ]
  },
  {
   "cell_type": "code",
   "execution_count": null,
   "metadata": {},
   "outputs": [],
   "source": [
    "# File to Load \n",
    "data_to_load = \"Resources/author_info.csv\"\n",
    "\n",
    "# Read data file into into Pandas dataframe\n",
    "authors_info = pd.read_csv(data_to_load)\n",
    "authors_info.head()"
   ]
  },
  {
   "cell_type": "code",
   "execution_count": null,
   "metadata": {},
   "outputs": [],
   "source": [
    "authors_info.drop(columns=['Unnamed: 0','books'], inplace=True)"
   ]
  },
  {
   "cell_type": "code",
   "execution_count": null,
   "metadata": {},
   "outputs": [],
   "source": [
    "# rename columns AuthorId\n",
    "authors_info = authors_info.rename(columns={'author_id':'AuthorId', 'gender':'Gender', 'hometown':'Hometown'})"
   ]
  },
  {
   "cell_type": "code",
   "execution_count": null,
   "metadata": {},
   "outputs": [],
   "source": [
    "authors_info.shape"
   ]
  },
  {
   "cell_type": "code",
   "execution_count": null,
   "metadata": {},
   "outputs": [],
   "source": [
    "# loading author_id file\n",
    "data_to_load = \"Resources/author_id.csv\"\n",
    "\n",
    "# Read data file into into Pandas dataframe\n",
    "authors_id = pd.read_csv(data_to_load)\n",
    "authors_id.head()"
   ]
  },
  {
   "cell_type": "code",
   "execution_count": null,
   "metadata": {},
   "outputs": [],
   "source": [
    "# drop unused column\n",
    "authors_id.drop(columns=['Unnamed: 0'])"
   ]
  },
  {
   "cell_type": "code",
   "execution_count": null,
   "metadata": {},
   "outputs": [],
   "source": [
    "# merge authors_df with author_id_df\n",
    "\n",
    "authors_df = authors_info.merge(authors_id, on = 'AuthorId')"
   ]
  },
  {
   "cell_type": "code",
   "execution_count": null,
   "metadata": {},
   "outputs": [],
   "source": [
    "authors_df = authors_df[['AuthorId','AuthorName', 'Gender', 'Hometown']]\n",
    "authors_df.head()"
   ]
  },
  {
   "cell_type": "code",
   "execution_count": null,
   "metadata": {},
   "outputs": [],
   "source": [
    "authors_df.drop_duplicates(subset=['AuthorId'], inplace=True)"
   ]
  },
  {
   "cell_type": "code",
   "execution_count": null,
   "metadata": {},
   "outputs": [],
   "source": [
    "authors_df.shape"
   ]
  },
  {
   "cell_type": "code",
   "execution_count": null,
   "metadata": {},
   "outputs": [],
   "source": [
    "# saving to file\n",
    "#authors_df.to_csv(\"Resources/authors.csv\", index=False)"
   ]
  },
  {
   "cell_type": "markdown",
   "metadata": {},
   "source": [
    "### cleaned author_book"
   ]
  },
  {
   "cell_type": "code",
   "execution_count": null,
   "metadata": {},
   "outputs": [],
   "source": [
    "# loading author_info file\n",
    "data_to_load = \"Resources/author_and_books.csv\"\n",
    "\n",
    "# Read data file into into Pandas dataframe\n",
    "author_book = pd.read_csv(data_to_load)\n",
    "author_book.head()"
   ]
  },
  {
   "cell_type": "code",
   "execution_count": null,
   "metadata": {},
   "outputs": [],
   "source": [
    "author_book.columns"
   ]
  },
  {
   "cell_type": "code",
   "execution_count": null,
   "metadata": {},
   "outputs": [],
   "source": [
    "# drop unused columns\n",
    "author_book.drop(columns=['Unnamed: 0','gender', 'hometown', \n",
    "                            'book_isbn13', 'book_average_rating', 'book_publisher'], inplace=True)"
   ]
  },
  {
   "cell_type": "code",
   "execution_count": null,
   "metadata": {},
   "outputs": [],
   "source": [
    "# rename column and merge to create authors_df\n",
    "author_book = author_book.rename(columns={'author_id':'AuthorId', \n",
    "                                          'book_title':'Title','book_isbn':'ISBN'})\n",
    "#author_book.head()"
   ]
  },
  {
   "cell_type": "code",
   "execution_count": null,
   "metadata": {},
   "outputs": [],
   "source": [
    "#author_book.shape"
   ]
  },
  {
   "cell_type": "code",
   "execution_count": null,
   "metadata": {},
   "outputs": [],
   "source": [
    "#books_df.shape"
   ]
  },
  {
   "cell_type": "code",
   "execution_count": null,
   "metadata": {},
   "outputs": [],
   "source": [
    "#books_df.columns"
   ]
  },
  {
   "cell_type": "code",
   "execution_count": null,
   "metadata": {},
   "outputs": [],
   "source": [
    "col_books_df = books_df.copy()"
   ]
  },
  {
   "cell_type": "code",
   "execution_count": null,
   "metadata": {},
   "outputs": [],
   "source": [
    "col_books_df.drop(columns=['Authors', 'ISBN', 'Rating', 'PublishY', 'PublishD',\n",
    "       'PublishM', 'Publisher', 'Language'], inplace=True)"
   ]
  },
  {
   "cell_type": "code",
   "execution_count": null,
   "metadata": {},
   "outputs": [],
   "source": [
    "author_book_df = author_book.merge(col_books_df, on='Title')"
   ]
  },
  {
   "cell_type": "code",
   "execution_count": null,
   "metadata": {},
   "outputs": [],
   "source": [
    "#author_book_df.shape"
   ]
  },
  {
   "cell_type": "code",
   "execution_count": null,
   "metadata": {},
   "outputs": [],
   "source": [
    "author_book_df.drop(columns = ['Title','ISBN'], inplace=True)\n",
    "#author_book_df.head()"
   ]
  },
  {
   "cell_type": "code",
   "execution_count": null,
   "metadata": {},
   "outputs": [],
   "source": [
    "# remove duplicate data\n",
    "author_book_df.drop_duplicates(subset=['AuthorId','BookId'], inplace=True)\n",
    "\n",
    "#author_book_df.reset_index(inplace=True)\n",
    "# author_book_df.shape"
   ]
  },
  {
   "cell_type": "markdown",
   "metadata": {},
   "source": [
    "### check and mark if the book title is in bestsellers"
   ]
  },
  {
   "cell_type": "code",
   "execution_count": null,
   "metadata": {},
   "outputs": [],
   "source": [
    "# loading bestsellers file\n",
    "data_to_load = \"Resources/bestsellers.csv\"\n",
    "\n",
    "# Read data file into into Pandas dataframe\n",
    "bestsellers_df = pd.read_csv(data_to_load)\n",
    "#bestsellers_df.head()"
   ]
  },
  {
   "cell_type": "code",
   "execution_count": null,
   "metadata": {},
   "outputs": [],
   "source": [
    "# merge to get BookId for bestsellers dataframe\n",
    "books_df = books_df.rename(columns={'Authors':'AuthorName'})\n",
    "#books_df.columns"
   ]
  },
  {
   "cell_type": "code",
   "execution_count": null,
   "metadata": {},
   "outputs": [],
   "source": [
    "bestsellers_df = bestsellers_df.merge(books_df, on='AuthorName')\n",
    "#bestsellers_df.shape"
   ]
  },
  {
   "cell_type": "code",
   "execution_count": null,
   "metadata": {},
   "outputs": [],
   "source": [
    "#bestsellers_df.columns"
   ]
  },
  {
   "cell_type": "code",
   "execution_count": null,
   "metadata": {},
   "outputs": [],
   "source": [
    "bestsellers_df.drop(columns=['Unnamed: 0','Title_x', 'Rating_x', 'PublishY_x',\n",
    "                             'PublishD', 'PublishM', 'Publisher', 'Language'], inplace=True)"
   ]
  },
  {
   "cell_type": "code",
   "execution_count": null,
   "metadata": {},
   "outputs": [],
   "source": [
    "#bestsellers_df = bestsellers_df.merge(books_df, on='AuthorName')\n",
    "# bestsellers_df.columns"
   ]
  },
  {
   "cell_type": "code",
   "execution_count": null,
   "metadata": {},
   "outputs": [],
   "source": [
    "bestsellers_df = bestsellers_df.rename(columns = {'Title_y':'Title', 'Rating_y':'Rating', 'PublishY_y':'PublishY'})\n",
    "#bestsellers_df.head()"
   ]
  },
  {
   "cell_type": "code",
   "execution_count": null,
   "metadata": {},
   "outputs": [],
   "source": [
    "bestsellers_df.drop_duplicates(subset='BookId', inplace=True)\n",
    "bestsellers_df.shape"
   ]
  },
  {
   "cell_type": "code",
   "execution_count": null,
   "metadata": {},
   "outputs": [],
   "source": [
    "# save to file\n",
    "#bestsellers_df.to_csv('Resources/bestsellers_book.csv', index=False)"
   ]
  },
  {
   "cell_type": "code",
   "execution_count": null,
   "metadata": {},
   "outputs": [],
   "source": [
    "# verify if BookId in author_book is bestseller and store value to BestSeller column in author_book (True/False)\n",
    "\n",
    "# assign BookId from author_book to book_list\n",
    "book_list = author_book_df['BookId']\n",
    "\n",
    "# assign BookId from bestseller_df to bestSellers_list\n",
    "bestSellers_list = bestsellers_df['BookId']"
   ]
  },
  {
   "cell_type": "code",
   "execution_count": null,
   "metadata": {},
   "outputs": [],
   "source": [
    "# checking if the book_list is in bestseller_list\n",
    "bestseller = book_list.isin(bestSellers_list)\n",
    "bestseller"
   ]
  },
  {
   "cell_type": "code",
   "execution_count": null,
   "metadata": {},
   "outputs": [],
   "source": [
    "# storing result back into author_book_df\n",
    "author_book_df['BestSeller'] = bestseller\n",
    "author_book_df.head()"
   ]
  },
  {
   "cell_type": "code",
   "execution_count": null,
   "metadata": {},
   "outputs": [],
   "source": [
    "# save to file\n",
    "#author_book_df.to_csv('Resources/author_book.csv', index=False)"
   ]
  },
  {
   "cell_type": "markdown",
   "metadata": {},
   "source": [
    "## dataset after cleaning include:\n",
    "   #### books:   BookId, Title, AuthorName, ISBN, Rating, PublishY, PublishD, PublishM, Publisher, Language\n",
    "   #### authors:  AuthorId, AuthorName, Gender, Hometown\n",
    "   #### author_book:  AuthorId, BookId, BestSeller"
   ]
  },
  {
   "cell_type": "code",
   "execution_count": null,
   "metadata": {},
   "outputs": [],
   "source": []
  }
 ],
 "metadata": {
  "kernelspec": {
   "display_name": "Python 3.6.10 64-bit ('PythonData': conda)",
   "language": "python",
   "name": "python361064bitpythondatacondaa70f06a6f8ee448e835eff764d6ba02e"
  },
  "language_info": {
   "codemirror_mode": {
    "name": "ipython",
    "version": 3
   },
   "file_extension": ".py",
   "mimetype": "text/x-python",
   "name": "python",
   "nbconvert_exporter": "python",
   "pygments_lexer": "ipython3",
   "version": "3.6.10"
  }
 },
 "nbformat": 4,
 "nbformat_minor": 4
}
