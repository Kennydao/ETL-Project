{
 "cells": [
  {
   "cell_type": "code",
   "execution_count": 1,
   "metadata": {},
   "outputs": [],
   "source": [
    "# Dependencies and Setup\n",
    "import pandas as pd\n",
    "import csv\n",
    "#import os"
   ]
  },
  {
   "cell_type": "code",
   "execution_count": 2,
   "metadata": {},
   "outputs": [],
   "source": [
    "# File to Load (Remember to Change These)\n",
    "books_data_to_load = \"Resources/book900k-1000k.csv\"\n",
    "\n",
    "# Read data file into into Pandas dataframe\n",
    "books_df = pd.read_csv(books_data_to_load)\n",
    "#books_df.head()"
   ]
  },
  {
   "cell_type": "code",
   "execution_count": 4,
   "metadata": {},
   "outputs": [
    {
     "data": {
      "text/plain": [
       "(40890, 20)"
      ]
     },
     "execution_count": 4,
     "metadata": {},
     "output_type": "execute_result"
    }
   ],
   "source": [
    "books_df.shape"
   ]
  },
  {
   "cell_type": "code",
   "execution_count": 5,
   "metadata": {},
   "outputs": [
    {
     "data": {
      "text/html": [
       "<div>\n",
       "<style scoped>\n",
       "    .dataframe tbody tr th:only-of-type {\n",
       "        vertical-align: middle;\n",
       "    }\n",
       "\n",
       "    .dataframe tbody tr th {\n",
       "        vertical-align: top;\n",
       "    }\n",
       "\n",
       "    .dataframe thead th {\n",
       "        text-align: right;\n",
       "    }\n",
       "</style>\n",
       "<table border=\"1\" class=\"dataframe\">\n",
       "  <thead>\n",
       "    <tr style=\"text-align: right;\">\n",
       "      <th></th>\n",
       "      <th>Id</th>\n",
       "      <th>Rating</th>\n",
       "      <th>PublishYear</th>\n",
       "      <th>PublishMonth</th>\n",
       "      <th>PublishDay</th>\n",
       "      <th>CountsOfReview</th>\n",
       "      <th>pagesNumber</th>\n",
       "      <th>Count of text reviews</th>\n",
       "    </tr>\n",
       "  </thead>\n",
       "  <tbody>\n",
       "    <tr>\n",
       "      <th>count</th>\n",
       "      <td>40890.000000</td>\n",
       "      <td>40890.000000</td>\n",
       "      <td>40890.000000</td>\n",
       "      <td>40890.000000</td>\n",
       "      <td>40890.000000</td>\n",
       "      <td>40890.000000</td>\n",
       "      <td>40890.000000</td>\n",
       "      <td>40890.000000</td>\n",
       "    </tr>\n",
       "    <tr>\n",
       "      <th>mean</th>\n",
       "      <td>949177.751431</td>\n",
       "      <td>3.469541</td>\n",
       "      <td>1998.890584</td>\n",
       "      <td>9.709636</td>\n",
       "      <td>6.346075</td>\n",
       "      <td>8.834238</td>\n",
       "      <td>276.196747</td>\n",
       "      <td>8.834238</td>\n",
       "    </tr>\n",
       "    <tr>\n",
       "      <th>std</th>\n",
       "      <td>29062.356909</td>\n",
       "      <td>1.242119</td>\n",
       "      <td>8.462135</td>\n",
       "      <td>10.235637</td>\n",
       "      <td>3.565110</td>\n",
       "      <td>71.253610</td>\n",
       "      <td>505.166816</td>\n",
       "      <td>71.253610</td>\n",
       "    </tr>\n",
       "    <tr>\n",
       "      <th>min</th>\n",
       "      <td>900000.000000</td>\n",
       "      <td>0.000000</td>\n",
       "      <td>1899.000000</td>\n",
       "      <td>1.000000</td>\n",
       "      <td>1.000000</td>\n",
       "      <td>0.000000</td>\n",
       "      <td>0.000000</td>\n",
       "      <td>0.000000</td>\n",
       "    </tr>\n",
       "    <tr>\n",
       "      <th>25%</th>\n",
       "      <td>923881.250000</td>\n",
       "      <td>3.470000</td>\n",
       "      <td>1995.000000</td>\n",
       "      <td>1.000000</td>\n",
       "      <td>3.000000</td>\n",
       "      <td>0.000000</td>\n",
       "      <td>153.000000</td>\n",
       "      <td>0.000000</td>\n",
       "    </tr>\n",
       "    <tr>\n",
       "      <th>50%</th>\n",
       "      <td>948838.500000</td>\n",
       "      <td>3.840000</td>\n",
       "      <td>2001.000000</td>\n",
       "      <td>4.000000</td>\n",
       "      <td>6.000000</td>\n",
       "      <td>1.000000</td>\n",
       "      <td>241.000000</td>\n",
       "      <td>1.000000</td>\n",
       "    </tr>\n",
       "    <tr>\n",
       "      <th>75%</th>\n",
       "      <td>974600.250000</td>\n",
       "      <td>4.090000</td>\n",
       "      <td>2005.000000</td>\n",
       "      <td>17.000000</td>\n",
       "      <td>9.000000</td>\n",
       "      <td>4.000000</td>\n",
       "      <td>340.000000</td>\n",
       "      <td>4.000000</td>\n",
       "    </tr>\n",
       "    <tr>\n",
       "      <th>max</th>\n",
       "      <td>999998.000000</td>\n",
       "      <td>5.000000</td>\n",
       "      <td>2020.000000</td>\n",
       "      <td>31.000000</td>\n",
       "      <td>12.000000</td>\n",
       "      <td>6495.000000</td>\n",
       "      <td>80500.000000</td>\n",
       "      <td>6495.000000</td>\n",
       "    </tr>\n",
       "  </tbody>\n",
       "</table>\n",
       "</div>"
      ],
      "text/plain": [
       "                  Id        Rating   PublishYear  PublishMonth    PublishDay  \\\n",
       "count   40890.000000  40890.000000  40890.000000  40890.000000  40890.000000   \n",
       "mean   949177.751431      3.469541   1998.890584      9.709636      6.346075   \n",
       "std     29062.356909      1.242119      8.462135     10.235637      3.565110   \n",
       "min    900000.000000      0.000000   1899.000000      1.000000      1.000000   \n",
       "25%    923881.250000      3.470000   1995.000000      1.000000      3.000000   \n",
       "50%    948838.500000      3.840000   2001.000000      4.000000      6.000000   \n",
       "75%    974600.250000      4.090000   2005.000000     17.000000      9.000000   \n",
       "max    999998.000000      5.000000   2020.000000     31.000000     12.000000   \n",
       "\n",
       "       CountsOfReview   pagesNumber  Count of text reviews  \n",
       "count    40890.000000  40890.000000           40890.000000  \n",
       "mean         8.834238    276.196747               8.834238  \n",
       "std         71.253610    505.166816              71.253610  \n",
       "min          0.000000      0.000000               0.000000  \n",
       "25%          0.000000    153.000000               0.000000  \n",
       "50%          1.000000    241.000000               1.000000  \n",
       "75%          4.000000    340.000000               4.000000  \n",
       "max       6495.000000  80500.000000            6495.000000  "
      ]
     },
     "execution_count": 5,
     "metadata": {},
     "output_type": "execute_result"
    }
   ],
   "source": [
    "books_df.describe()"
   ]
  },
  {
   "cell_type": "code",
   "execution_count": 6,
   "metadata": {},
   "outputs": [
    {
     "data": {
      "text/plain": [
       "Index(['Id', 'Name', 'Authors', 'ISBN', 'Rating', 'PublishYear',\n",
       "       'PublishMonth', 'PublishDay', 'Publisher', 'RatingDist5', 'RatingDist4',\n",
       "       'RatingDist3', 'RatingDist2', 'RatingDist1', 'RatingDistTotal',\n",
       "       'CountsOfReview', 'Language', 'pagesNumber', 'Description',\n",
       "       'Count of text reviews'],\n",
       "      dtype='object')"
      ]
     },
     "execution_count": 6,
     "metadata": {},
     "output_type": "execute_result"
    }
   ],
   "source": [
    "columns = books_df.columns\n",
    "columns"
   ]
  },
  {
   "cell_type": "code",
   "execution_count": 7,
   "metadata": {},
   "outputs": [],
   "source": [
    "# drop unused columns\n",
    "books_df.drop(columns = ['RatingDist5', 'RatingDist4',\n",
    "               'RatingDist3', 'RatingDist2', 'RatingDist1', 'pagesNumber',\n",
    "                'RatingDistTotal', 'Count of text reviews', 'CountsOfReview'], inplace=True)"
   ]
  },
  {
   "cell_type": "code",
   "execution_count": 8,
   "metadata": {},
   "outputs": [],
   "source": [
    "#books_df.head()"
   ]
  },
  {
   "cell_type": "code",
   "execution_count": 9,
   "metadata": {},
   "outputs": [
    {
     "data": {
      "text/plain": [
       "(30, 10)"
      ]
     },
     "execution_count": 9,
     "metadata": {},
     "output_type": "execute_result"
    }
   ],
   "source": [
    "# checking number of language in the books dataset\n",
    "language_counts = books_df.groupby('Language').count()\n",
    "language_counts.shape"
   ]
  },
  {
   "cell_type": "code",
   "execution_count": 10,
   "metadata": {},
   "outputs": [],
   "source": [
    "# replace all NaN value in Language column by eng\n",
    "\n",
    "values ={'Language':'eng'}\n",
    "books_df.fillna(value = values, inplace=True)"
   ]
  },
  {
   "cell_type": "code",
   "execution_count": 11,
   "metadata": {},
   "outputs": [],
   "source": [
    "books_df.head()\n",
    "\n",
    "# save to csv file\n",
    "books_df.to_csv(\"Resources/cleaned_books.csv\", index=False)"
   ]
  },
  {
   "cell_type": "code",
   "execution_count": null,
   "metadata": {},
   "outputs": [],
   "source": [
    "rating_counts = books_df.groupby(\"Rating\").count()\n",
    "rating_counts.head()\n",
    "#rating_counts.shape"
   ]
  },
  {
   "cell_type": "code",
   "execution_count": null,
   "metadata": {},
   "outputs": [],
   "source": [
    "author_counts = author_list = books_df.Authors.nunique()\n",
    "author_counts"
   ]
  },
  {
   "cell_type": "code",
   "execution_count": null,
   "metadata": {},
   "outputs": [],
   "source": [
    "author_list = books_df.groupby(\"Authors\").nunique()['Authors']"
   ]
  },
  {
   "cell_type": "code",
   "execution_count": null,
   "metadata": {},
   "outputs": [],
   "source": [
    "author_list_df = pd.DataFrame(author_list)"
   ]
  },
  {
   "cell_type": "code",
   "execution_count": null,
   "metadata": {},
   "outputs": [],
   "source": [
    "# rename column and reset index\n",
    "author_list_df = author_list_df.rename(columns={'Authors':'Count'})\n",
    "author_list_df.reset_index(inplace=True)\n",
    "author_list_df"
   ]
  },
  {
   "cell_type": "code",
   "execution_count": null,
   "metadata": {},
   "outputs": [],
   "source": [
    "# sort authors list  by name\n",
    "author_list_df = author_list_df.sort_values([\"Authors\"], ascending = True)\n",
    "#author_list_df.tail()"
   ]
  },
  {
   "cell_type": "code",
   "execution_count": null,
   "metadata": {},
   "outputs": [],
   "source": [
    "# save to csv file\n",
    "author_list_df.to_csv(\"Resources/authors_list.csv\", index=False)"
   ]
  },
  {
   "cell_type": "markdown",
   "metadata": {},
   "source": [
    "### cleaned books"
   ]
  },
  {
   "cell_type": "code",
   "execution_count": null,
   "metadata": {},
   "outputs": [],
   "source": [
    "# before: there was 40,890 records and 20 columns with NaN value in Language\n",
    "\n",
    "# after: removed ten columns ('RatingDist5', 'RatingDist4',\n",
    "#     'RatingDist3', 'RatingDist2', 'RatingDist1', \n",
    "#     'RatingDistTotal','pagesNumber','Count of text reviews') from the dataset\n",
    "\n",
    "# observastion: in the cleaned_books dataset there is \"blank\" and date (\"10/18/2020\") \n",
    "# value in publisher column. please take this into consideration when using the cleaned_book dataset."
   ]
  }
 ],
 "metadata": {
  "kernelspec": {
   "display_name": "Python 3.6.10 64-bit ('PythonData': conda)",
   "language": "python",
   "name": "python361064bitpythondatacondaa70f06a6f8ee448e835eff764d6ba02e"
  },
  "language_info": {
   "codemirror_mode": {
    "name": "ipython",
    "version": 3
   },
   "file_extension": ".py",
   "mimetype": "text/x-python",
   "name": "python",
   "nbconvert_exporter": "python",
   "pygments_lexer": "ipython3",
   "version": "3.6.10"
  }
 },
 "nbformat": 4,
 "nbformat_minor": 4
}
