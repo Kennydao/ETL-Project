{
 "cells": [
  {
   "cell_type": "code",
   "execution_count": 4,
   "metadata": {},
   "outputs": [],
   "source": [
    "import requests as rq\n",
    "import json"
   ]
  },
  {
   "cell_type": "code",
   "execution_count": 8,
   "metadata": {},
   "outputs": [],
   "source": [
    "api_key = 'yolmGUb15MoANK7Dy14pA'"
   ]
  },
  {
   "cell_type": "code",
   "execution_count": 5,
   "metadata": {},
   "outputs": [],
   "source": [
    "#url = \"https://www.goodreads.com/api/author_url/yolmGUb15MoANK7Dy14pA\""
   ]
  },
  {
   "cell_type": "code",
   "execution_count": 17,
   "metadata": {},
   "outputs": [],
   "source": [
    "url = f'https://www.goodreads.com/book/review_counts.json?key={api_key}&isbns=0596009208,0596517742'"
   ]
  },
  {
   "cell_type": "code",
   "execution_count": null,
   "metadata": {},
   "outputs": [],
   "source": [
    "#https://www.goodreads.com/api/keys"
   ]
  },
  {
   "cell_type": "code",
   "execution_count": 18,
   "metadata": {},
   "outputs": [],
   "source": [
    "response = rq.get(url)\n"
   ]
  },
  {
   "cell_type": "code",
   "execution_count": 19,
   "metadata": {},
   "outputs": [
    {
     "data": {
      "text/plain": [
       "<Response [200]>"
      ]
     },
     "execution_count": 19,
     "metadata": {},
     "output_type": "execute_result"
    }
   ],
   "source": [
    "response"
   ]
  },
  {
   "cell_type": "code",
   "execution_count": 20,
   "metadata": {},
   "outputs": [],
   "source": [
    "response = rq.get(url).json()"
   ]
  },
  {
   "cell_type": "code",
   "execution_count": 21,
   "metadata": {},
   "outputs": [
    {
     "data": {
      "text/plain": [
       "{'books': [{'id': 231262,\n",
       "   'isbn': '0596009208',\n",
       "   'isbn13': '9780596009205',\n",
       "   'ratings_count': 3189,\n",
       "   'reviews_count': 7208,\n",
       "   'text_reviews_count': 203,\n",
       "   'work_ratings_count': 3698,\n",
       "   'work_reviews_count': 8590,\n",
       "   'work_text_reviews_count': 218,\n",
       "   'average_rating': '4.23'},\n",
       "  {'id': 2998152,\n",
       "   'isbn': '0596517742',\n",
       "   'isbn13': '9780596517748',\n",
       "   'ratings_count': 6957,\n",
       "   'reviews_count': 15581,\n",
       "   'text_reviews_count': 496,\n",
       "   'work_ratings_count': 7989,\n",
       "   'work_reviews_count': 17574,\n",
       "   'work_text_reviews_count': 529,\n",
       "   'average_rating': '4.23'}]}"
      ]
     },
     "execution_count": 21,
     "metadata": {},
     "output_type": "execute_result"
    }
   ],
   "source": [
    "response"
   ]
  },
  {
   "cell_type": "code",
   "execution_count": 43,
   "metadata": {},
   "outputs": [],
   "source": [
    "author ='J K Rowling'"
   ]
  },
  {
   "cell_type": "code",
   "execution_count": 48,
   "metadata": {},
   "outputs": [],
   "source": [
    "url = f'https://www.goodreads.com/search/index.xml?key={api_key}&q={author}'"
   ]
  },
  {
   "cell_type": "code",
   "execution_count": 49,
   "metadata": {},
   "outputs": [],
   "source": [
    "response = rq.get(url)\n"
   ]
  },
  {
   "cell_type": "code",
   "execution_count": 56,
   "metadata": {},
   "outputs": [
    {
     "data": {
      "text/plain": [
       "<Response [200]>"
      ]
     },
     "execution_count": 56,
     "metadata": {},
     "output_type": "execute_result"
    }
   ],
   "source": [
    "response"
   ]
  },
  {
   "cell_type": "code",
   "execution_count": 34,
   "metadata": {},
   "outputs": [],
   "source": [
    "url = f'https://www.goodreads.com/recommendations/1format=xml'"
   ]
  },
  {
   "cell_type": "code",
   "execution_count": 59,
   "metadata": {},
   "outputs": [],
   "source": [
    "response = rq.get(url)"
   ]
  },
  {
   "cell_type": "code",
   "execution_count": 69,
   "metadata": {},
   "outputs": [
    {
     "data": {
      "text/plain": [
       "'<?xml version=\"1.0\" encoding=\"UTF-8\"?>\\n<GoodreadsResponse>\\n  <Request>\\n    <authentication>true</authentication>\\n      <key><![CDATA[yolmGUb15MoANK7Dy14pA]]></key>\\n    <method><![CDATA[search_index]]></method>\\n  </Request>\\n  <search>\\n  <query><![CDATA[J K Rowling]]></query>\\n    <results-start>1</results-start>\\n    <results-end>20</results-end>\\n    <total-results>127</total-results>\\n    <source>Goodreads</source>\\n    <query-time-seconds>0.12</query-time-seconds>\\n    <results>\\n        <work>\\n  <id type=\"integer\">39839163</id>\\n  <books_count type=\"integer\">26</books_count>\\n  <ratings_count type=\"integer\">7324</ratings_count>\\n  <text_reviews_count type=\"integer\">204</text_reviews_count>\\n  <original_publication_year type=\"integer\">2012</original_publication_year>\\n  <original_publication_month type=\"integer\">11</original_publication_month>\\n  <original_publication_day type=\"integer\">8</original_publication_day>\\n  <average_rating>4.45</average_rating>\\n  <best_book type=\"Book\">\\n    <id type=\"integer\">33874667</id>\\n    <title>The Hogwarts Library Box Set, 3 Volumes [Hardcover] [Apr 20, 2017] J K Rowling</title>\\n    <author>\\n      <id type=\"integer\">1077326</id>\\n      <name>J.K. Rowling</name>\\n    </author>\\n    <image_url>https://i.gr-assets.com/images/S/compressed.photo.goodreads.com/books/1514204199l/33874667._SX98_.jpg</image_url>\\n    <small_image_url>https://i.gr-assets.com/images/S/compressed.photo.goodreads.com/books/1514204199l/33874667._SX50_.jpg</small_image_url>\\n  </best_book>\\n</work>\\n\\n        <work>\\n  <id type=\"integer\">27456276</id>\\n  <books_count type=\"integer\">4</books_count>\\n  <ratings_count type=\"integer\">115</ratings_count>\\n  <text_reviews_count type=\"integer\">8</text_reviews_count>\\n  <original_publication_year type=\"integer\">2011</original_publication_year>\\n  <original_publication_month type=\"integer\">1</original_publication_month>\\n  <original_publication_day type=\"integer\">1</original_publication_day>\\n  <average_rating>3.86</average_rating>\\n  <best_book type=\"Book\">\\n    <id type=\"integer\">19385039</id>\\n    <title>J K Rowling and the Hary Potter Phenomenon</title>\\n    <author>\\n      <id type=\"integer\">1343</id>\\n      <name>Lindsey Fraser</name>\\n    </author>\\n    <image_url>https://s.gr-assets.com/assets/nophoto/book/111x148-bcc042a9c91a29c1d680899eff700a03.png</image_url>\\n    <small_image_url>https://s.gr-assets.com/assets/nophoto/book/50x75-a91bf249278a81aabab721ef782c4a74.png</small_image_url>\\n  </best_book>\\n</work>\\n\\n        <work>\\n  <id type=\"integer\">42130554</id>\\n  <books_count type=\"integer\">3</books_count>\\n  <ratings_count type=\"integer\">70</ratings_count>\\n  <text_reviews_count type=\"integer\">7</text_reviews_count>\\n  <original_publication_year type=\"integer\">2013</original_publication_year>\\n  <original_publication_month type=\"integer\">11</original_publication_month>\\n  <original_publication_day type=\"integer\">22</original_publication_day>\\n  <average_rating>4.23</average_rating>\\n  <best_book type=\"Book\">\\n    <id type=\"integer\">19042494</id>\\n    <title>Who Is J K Rowling?</title>\\n    <author>\\n      <id type=\"integer\">6862305</id>\\n      <name>Tanya Turner</name>\\n    </author>\\n    <image_url>https://s.gr-assets.com/assets/nophoto/book/111x148-bcc042a9c91a29c1d680899eff700a03.png</image_url>\\n    <small_image_url>https://s.gr-assets.com/assets/nophoto/book/50x75-a91bf249278a81aabab721ef782c4a74.png</small_image_url>\\n  </best_book>\\n</work>\\n\\n        <work>\\n  <id type=\"integer\">39837024</id>\\n  <books_count type=\"integer\">1</books_count>\\n  <ratings_count type=\"integer\">17</ratings_count>\\n  <text_reviews_count type=\"integer\">2</text_reviews_count>\\n  <original_publication_year type=\"integer\">2014</original_publication_year>\\n  <original_publication_month type=\"integer\">1</original_publication_month>\\n  <original_publication_day type=\"integer\">16</original_publication_day>\\n  <average_rating>4.06</average_rating>\\n  <best_book type=\"Book\">\\n    <id type=\"integer\">20570089</id>\\n    <title>JK Rowling: Life Changing Lessons! J K Rowling on How to Achieve Massive Success, Develop Lifelong Self Confidence, Motivation &amp; Unleash Your Wildest Creativity ... Self Improvement, Self Confidence)</title>\\n    <author>\\n      <id type=\"integer\">4173410</id>\\n      <name>William Wyatt</name>\\n    </author>\\n    <image_url>https://s.gr-assets.com/assets/nophoto/book/111x148-bcc042a9c91a29c1d680899eff700a03.png</image_url>\\n    <small_image_url>https://s.gr-assets.com/assets/nophoto/book/50x75-a91bf249278a81aabab721ef782c4a74.png</small_image_url>\\n  </best_book>\\n</work>\\n\\n        <work>\\n  <id type=\"integer\">66359670</id>\\n  <books_count type=\"integer\">1</books_count>\\n  <ratings_count type=\"integer\">25</ratings_count>\\n  <text_reviews_count type=\"integer\">1</text_reviews_count>\\n  <original_publication_year type=\"integer\" nil=\"true\"/>\\n  <original_publication_month type=\"integer\" nil=\"true\"/>\\n  <original_publication_day type=\"integer\" nil=\"true\"/>\\n  <average_rating>4.16</average_rating>\\n  <best_book type=\"Book\">\\n    <id type=\"integer\">42630604</id>\\n    <title>CALLEJON DIAGON UN ALBUM DE LAS PELICULAS J K ROWLING\\'S</title>\\n    <author>\\n      <id type=\"integer\">143659</id>\\n      <name>Jody Revenson</name>\\n    </author>\\n    <image_url>https://s.gr-assets.com/assets/nophoto/book/111x148-bcc042a9c91a29c1d680899eff700a03.png</image_url>\\n    <small_image_url>https://s.gr-assets.com/assets/nophoto/book/50x75-a91bf249278a81aabab721ef782c4a74.png</small_image_url>\\n  </best_book>\\n</work>\\n\\n        <work>\\n  <id type=\"integer\">21686916</id>\\n  <books_count type=\"integer\">1</books_count>\\n  <ratings_count type=\"integer\">13</ratings_count>\\n  <text_reviews_count type=\"integer\">1</text_reviews_count>\\n  <original_publication_year type=\"integer\">2004</original_publication_year>\\n  <original_publication_month type=\"integer\">10</original_publication_month>\\n  <original_publication_day type=\"integer\">14</original_publication_day>\\n  <average_rating>4.54</average_rating>\\n  <best_book type=\"Book\">\\n    <id type=\"integer\">15936085</id>\\n    <title>J K Rowling</title>\\n    <author>\\n      <id type=\"integer\">4010018</id>\\n      <name>Pearson School</name>\\n    </author>\\n    <image_url>https://s.gr-assets.com/assets/nophoto/book/111x148-bcc042a9c91a29c1d680899eff700a03.png</image_url>\\n    <small_image_url>https://s.gr-assets.com/assets/nophoto/book/50x75-a91bf249278a81aabab721ef782c4a74.png</small_image_url>\\n  </best_book>\\n</work>\\n\\n        <work>\\n  <id type=\"integer\">27008238</id>\\n  <books_count type=\"integer\">1</books_count>\\n  <ratings_count type=\"integer\">14</ratings_count>\\n  <text_reviews_count type=\"integer\">1</text_reviews_count>\\n  <original_publication_year type=\"integer\">2005</original_publication_year>\\n  <original_publication_month type=\"integer\">10</original_publication_month>\\n  <original_publication_day type=\"integer\">17</original_publication_day>\\n  <average_rating>3.64</average_rating>\\n  <best_book type=\"Book\">\\n    <id type=\"integer\">18987920</id>\\n    <title>J K Rowling</title>\\n    <author>\\n      <id type=\"integer\">23596</id>\\n      <name>Bradley Steffens</name>\\n    </author>\\n    <image_url>https://i.gr-assets.com/images/S/compressed.photo.goodreads.com/books/1505047109l/18987920._SX98_.jpg</image_url>\\n    <small_image_url>https://i.gr-assets.com/images/S/compressed.photo.goodreads.com/books/1505047109l/18987920._SX50_.jpg</small_image_url>\\n  </best_book>\\n</work>\\n\\n        <work>\\n  <id type=\"integer\">60082094</id>\\n  <books_count type=\"integer\">2</books_count>\\n  <ratings_count type=\"integer\">5</ratings_count>\\n  <text_reviews_count type=\"integer\">0</text_reviews_count>\\n  <original_publication_year type=\"integer\" nil=\"true\"/>\\n  <original_publication_month type=\"integer\" nil=\"true\"/>\\n  <original_publication_day type=\"integer\" nil=\"true\"/>\\n  <average_rating>3.60</average_rating>\\n  <best_book type=\"Book\">\\n    <id type=\"integer\">38457599</id>\\n    <title>Fantastic Words of J K Rowling: 1350+ Quotes of J K Rowling</title>\\n    <author>\\n      <id type=\"integer\">7997698</id>\\n      <name>Sreechinth C</name>\\n    </author>\\n    <image_url>https://s.gr-assets.com/assets/nophoto/book/111x148-bcc042a9c91a29c1d680899eff700a03.png</image_url>\\n    <small_image_url>https://s.gr-assets.com/assets/nophoto/book/50x75-a91bf249278a81aabab721ef782c4a74.png</small_image_url>\\n  </best_book>\\n</work>\\n\\n        <work>\\n  <id type=\"integer\">52364215</id>\\n  <books_count type=\"integer\">1</books_count>\\n  <ratings_count type=\"integer\">6</ratings_count>\\n  <text_reviews_count type=\"integer\">0</text_reviews_count>\\n  <original_publication_year type=\"integer\" nil=\"true\"/>\\n  <original_publication_month type=\"integer\" nil=\"true\"/>\\n  <original_publication_day type=\"integer\" nil=\"true\"/>\\n  <average_rating>2.83</average_rating>\\n  <best_book type=\"Book\">\\n    <id type=\"integer\">31689288</id>\\n    <title>J K Rowling and Pasc Harry Potter a Phenomenom</title>\\n    <author>\\n      <id type=\"integer\">11242337</id>\\n      <name>Pascal Talbot</name>\\n    </author>\\n    <image_url>https://s.gr-assets.com/assets/nophoto/book/111x148-bcc042a9c91a29c1d680899eff700a03.png</image_url>\\n    <small_image_url>https://s.gr-assets.com/assets/nophoto/book/50x75-a91bf249278a81aabab721ef782c4a74.png</small_image_url>\\n  </best_book>\\n</work>\\n\\n        <work>\\n  <id type=\"integer\">56238029</id>\\n  <books_count type=\"integer\">8</books_count>\\n  <ratings_count type=\"integer\">165</ratings_count>\\n  <text_reviews_count type=\"integer\">18</text_reviews_count>\\n  <original_publication_year type=\"integer\" nil=\"true\"/>\\n  <original_publication_month type=\"integer\" nil=\"true\"/>\\n  <original_publication_day type=\"integer\" nil=\"true\"/>\\n  <average_rating>4.36</average_rating>\\n  <best_book type=\"Book\">\\n    <id type=\"integer\">43782060</id>\\n    <title>CINE MAGICO 03 ARTEFACTOS ASOMBROSOS (J K ROWLING WIZARDING WORLD)</title>\\n    <author>\\n      <id type=\"integer\">20020</id>\\n      <name>Bonnie Burton</name>\\n    </author>\\n    <image_url>https://s.gr-assets.com/assets/nophoto/book/111x148-bcc042a9c91a29c1d680899eff700a03.png</image_url>\\n    <small_image_url>https://s.gr-assets.com/assets/nophoto/book/50x75-a91bf249278a81aabab721ef782c4a74.png</small_image_url>\\n  </best_book>\\n</work>\\n\\n        <work>\\n  <id type=\"integer\">60309531</id>\\n  <books_count type=\"integer\">2</books_count>\\n  <ratings_count type=\"integer\">0</ratings_count>\\n  <text_reviews_count type=\"integer\">0</text_reviews_count>\\n  <original_publication_year type=\"integer\" nil=\"true\"/>\\n  <original_publication_month type=\"integer\" nil=\"true\"/>\\n  <original_publication_day type=\"integer\" nil=\"true\"/>\\n  <average_rating type=\"float\">0.0</average_rating>\\n  <best_book type=\"Book\">\\n    <id type=\"integer\">38726540</id>\\n    <title>Harry Potter und der Stein der Weisen von J K. Rowling (Lektürehilfe): Detaillierte Zusammenfassung, Personenanalyse und Interpretation</title>\\n    <author>\\n      <id type=\"integer\">17694486</id>\\n      <name>der Querleser</name>\\n    </author>\\n    <image_url>https://s.gr-assets.com/assets/nophoto/book/111x148-bcc042a9c91a29c1d680899eff700a03.png</image_url>\\n    <small_image_url>https://s.gr-assets.com/assets/nophoto/book/50x75-a91bf249278a81aabab721ef782c4a74.png</small_image_url>\\n  </best_book>\\n</work>\\n\\n        <work>\\n  <id type=\"integer\">73524112</id>\\n  <books_count type=\"integer\">1</books_count>\\n  <ratings_count type=\"integer\">1</ratings_count>\\n  <text_reviews_count type=\"integer\">0</text_reviews_count>\\n  <original_publication_year type=\"integer\" nil=\"true\"/>\\n  <original_publication_month type=\"integer\" nil=\"true\"/>\\n  <original_publication_day type=\"integer\" nil=\"true\"/>\\n  <average_rating>1.00</average_rating>\\n  <best_book type=\"Book\">\\n    <id type=\"integer\">49482289</id>\\n    <title>J K Rowling - SERIES CHECKLIST - Reading Order of HARRY POTTER, FANTASTIC BEASTS</title>\\n    <author>\\n      <id type=\"integer\">19553489</id>\\n      <name>Ronnie Whitlock</name>\\n    </author>\\n    <image_url>https://s.gr-assets.com/assets/nophoto/book/111x148-bcc042a9c91a29c1d680899eff700a03.png</image_url>\\n    <small_image_url>https://s.gr-assets.com/assets/nophoto/book/50x75-a91bf249278a81aabab721ef782c4a74.png</small_image_url>\\n  </best_book>\\n</work>\\n\\n        <work>\\n  <id type=\"integer\">6231171</id>\\n  <books_count type=\"integer\">627</books_count>\\n  <ratings_count type=\"integer\">2740501</ratings_count>\\n  <text_reviews_count type=\"integer\">53128</text_reviews_count>\\n  <original_publication_year type=\"integer\">1998</original_publication_year>\\n  <original_publication_month type=\"integer\">7</original_publication_month>\\n  <original_publication_day type=\"integer\">2</original_publication_day>\\n  <average_rating>4.43</average_rating>\\n  <best_book type=\"Book\">\\n    <id type=\"integer\">165225</id>\\n    <title>Harry Potter und die Kammer des Schreckens (Harry Potter, #2)</title>\\n    <author>\\n      <id type=\"integer\">1077326</id>\\n      <name>J.K. Rowling</name>\\n    </author>\\n    <image_url>https://i.gr-assets.com/images/S/compressed.photo.goodreads.com/books/1353270937l/165225._SX98_.jpg</image_url>\\n    <small_image_url>https://i.gr-assets.com/images/S/compressed.photo.goodreads.com/books/1353270937l/165225._SY75_.jpg</small_image_url>\\n  </best_book>\\n</work>\\n\\n        <work>\\n  <id type=\"integer\">312691</id>\\n  <books_count type=\"integer\">2</books_count>\\n  <ratings_count type=\"integer\">213</ratings_count>\\n  <text_reviews_count type=\"integer\">10</text_reviews_count>\\n  <original_publication_year type=\"integer\">2002</original_publication_year>\\n  <original_publication_month type=\"integer\">11</original_publication_month>\\n  <original_publication_day type=\"integer\">18</original_publication_day>\\n  <average_rating>4.27</average_rating>\\n  <best_book type=\"Book\">\\n    <id type=\"integer\">321976</id>\\n    <title>The Hidden Key to Harry Potter: Understanding the Meaning, Genius, and Popularity of Joanne Rowling\\'s Harry Potter Novels</title>\\n    <author>\\n      <id type=\"integer\">9472</id>\\n      <name>John Granger</name>\\n    </author>\\n    <image_url>https://s.gr-assets.com/assets/nophoto/book/111x148-bcc042a9c91a29c1d680899eff700a03.png</image_url>\\n    <small_image_url>https://s.gr-assets.com/assets/nophoto/book/50x75-a91bf249278a81aabab721ef782c4a74.png</small_image_url>\\n  </best_book>\\n</work>\\n\\n        <work>\\n  <id type=\"integer\">4640799</id>\\n  <books_count type=\"integer\">793</books_count>\\n  <ratings_count type=\"integer\">7084171</ratings_count>\\n  <text_reviews_count type=\"integer\">112867</text_reviews_count>\\n  <original_publication_year type=\"integer\">1997</original_publication_year>\\n  <original_publication_month type=\"integer\">6</original_publication_month>\\n  <original_publication_day type=\"integer\">26</original_publication_day>\\n  <average_rating>4.47</average_rating>\\n  <best_book type=\"Book\">\\n    <id type=\"integer\">1811146</id>\\n    <title>Harry Potter i Kamień Filozoficzny (Harry Potter, #1)</title>\\n    <author>\\n      <id type=\"integer\">1077326</id>\\n      <name>J.K. Rowling</name>\\n    </author>\\n    <image_url>https://i.gr-assets.com/images/S/compressed.photo.goodreads.com/books/1467138710l/1811146._SX98_.jpg</image_url>\\n    <small_image_url>https://i.gr-assets.com/images/S/compressed.photo.goodreads.com/books/1467138710l/1811146._SY75_.jpg</small_image_url>\\n  </best_book>\\n</work>\\n\\n        <work>\\n  <id type=\"integer\">2809203</id>\\n  <books_count type=\"integer\">429</books_count>\\n  <ratings_count type=\"integer\">2520063</ratings_count>\\n  <text_reviews_count type=\"integer\">42641</text_reviews_count>\\n  <original_publication_year type=\"integer\">2003</original_publication_year>\\n  <original_publication_month type=\"integer\">6</original_publication_month>\\n  <original_publication_day type=\"integer\">21</original_publication_day>\\n  <average_rating>4.50</average_rating>\\n  <best_book type=\"Book\">\\n    <id type=\"integer\">943382</id>\\n    <title>Harry Potter ja Feeniksin kilta (Harry Potter, #5)</title>\\n    <author>\\n      <id type=\"integer\">1077326</id>\\n      <name>J.K. Rowling</name>\\n    </author>\\n    <image_url>https://i.gr-assets.com/images/S/compressed.photo.goodreads.com/books/1369151183l/943382._SX98_.jpg</image_url>\\n    <small_image_url>https://i.gr-assets.com/images/S/compressed.photo.goodreads.com/books/1369151183l/943382._SX50_.jpg</small_image_url>\\n  </best_book>\\n</work>\\n\\n        <work>\\n  <id type=\"integer\">3046572</id>\\n  <books_count type=\"integer\">495</books_count>\\n  <ratings_count type=\"integer\">2607136</ratings_count>\\n  <text_reviews_count type=\"integer\">46795</text_reviews_count>\\n  <original_publication_year type=\"integer\">2000</original_publication_year>\\n  <original_publication_month type=\"integer\">7</original_publication_month>\\n  <original_publication_day type=\"integer\">8</original_publication_day>\\n  <average_rating>4.56</average_rating>\\n  <best_book type=\"Book\">\\n    <id type=\"integer\">1993476</id>\\n    <title>Harry Potter ve Ateş Kadehi (Harry Potter, #4)</title>\\n    <author>\\n      <id type=\"integer\">1077326</id>\\n      <name>J.K. Rowling</name>\\n    </author>\\n    <image_url>https://i.gr-assets.com/images/S/compressed.photo.goodreads.com/books/1512821592l/1993476._SX98_.jpg</image_url>\\n    <small_image_url>https://i.gr-assets.com/images/S/compressed.photo.goodreads.com/books/1512821592l/1993476._SX50_.jpg</small_image_url>\\n  </best_book>\\n</work>\\n\\n        <work>\\n  <id type=\"integer\">19926990</id>\\n  <books_count type=\"integer\">161</books_count>\\n  <ratings_count type=\"integer\">303937</ratings_count>\\n  <text_reviews_count type=\"integer\">31402</text_reviews_count>\\n  <original_publication_year type=\"integer\">2012</original_publication_year>\\n  <original_publication_month type=\"integer\">9</original_publication_month>\\n  <original_publication_day type=\"integer\">27</original_publication_day>\\n  <average_rating>3.30</average_rating>\\n  <best_book type=\"Book\">\\n    <id type=\"integer\">17669977</id>\\n    <title>Boş Koltuk</title>\\n    <author>\\n      <id type=\"integer\">1077326</id>\\n      <name>J.K. Rowling</name>\\n    </author>\\n    <image_url>https://i.gr-assets.com/images/S/compressed.photo.goodreads.com/books/1364050544l/17669977._SX98_.jpg</image_url>\\n    <small_image_url>https://i.gr-assets.com/images/S/compressed.photo.goodreads.com/books/1364050544l/17669977._SY75_.jpg</small_image_url>\\n  </best_book>\\n</work>\\n\\n        <work>\\n  <id type=\"integer\">2963218</id>\\n  <books_count type=\"integer\">122</books_count>\\n  <ratings_count type=\"integer\">2821745</ratings_count>\\n  <text_reviews_count type=\"integer\">65741</text_reviews_count>\\n  <original_publication_year type=\"integer\">2007</original_publication_year>\\n  <original_publication_month type=\"integer\">7</original_publication_month>\\n  <original_publication_day type=\"integer\">21</original_publication_day>\\n  <average_rating>4.62</average_rating>\\n  <best_book type=\"Book\">\\n    <id type=\"integer\">3131781</id>\\n    <title>Harry Potter ja kuoleman varjelukset (Harry Potter, #7)</title>\\n    <author>\\n      <id type=\"integer\">1077326</id>\\n      <name>J.K. Rowling</name>\\n    </author>\\n    <image_url>https://i.gr-assets.com/images/S/compressed.photo.goodreads.com/books/1369151245l/3131781._SX98_.jpg</image_url>\\n    <small_image_url>https://i.gr-assets.com/images/S/compressed.photo.goodreads.com/books/1369151245l/3131781._SY75_.jpg</small_image_url>\\n  </best_book>\\n</work>\\n\\n        <work>\\n  <id type=\"integer\">41335427</id>\\n  <books_count type=\"integer\">402</books_count>\\n  <ratings_count type=\"integer\">2449145</ratings_count>\\n  <text_reviews_count type=\"integer\">39690</text_reviews_count>\\n  <original_publication_year type=\"integer\">2005</original_publication_year>\\n  <original_publication_month type=\"integer\">7</original_publication_month>\\n  <original_publication_day type=\"integer\">16</original_publication_day>\\n  <average_rating>4.57</average_rating>\\n  <best_book type=\"Book\">\\n    <id type=\"integer\">6186134</id>\\n    <title>Harry Potter i Książę Półkrwi (Harry Potter, #6)</title>\\n    <author>\\n      <id type=\"integer\">1077326</id>\\n      <name>J.K. Rowling</name>\\n    </author>\\n    <image_url>https://s.gr-assets.com/assets/nophoto/book/111x148-bcc042a9c91a29c1d680899eff700a03.png</image_url>\\n    <small_image_url>https://s.gr-assets.com/assets/nophoto/book/50x75-a91bf249278a81aabab721ef782c4a74.png</small_image_url>\\n  </best_book>\\n</work>\\n\\n    </results>\\n</search>\\n\\n</GoodreadsResponse>\\n'"
      ]
     },
     "execution_count": 69,
     "metadata": {},
     "output_type": "execute_result"
    }
   ],
   "source": [
    "response.text"
   ]
  },
  {
   "cell_type": "code",
   "execution_count": 67,
   "metadata": {},
   "outputs": [
    {
     "ename": "TypeError",
     "evalue": "a bytes-like object is required, not 'Response'",
     "output_type": "error",
     "traceback": [
      "\u001b[1;31m---------------------------------------------------------------------------\u001b[0m",
      "\u001b[1;31mTypeError\u001b[0m                                 Traceback (most recent call last)",
      "\u001b[1;32m<ipython-input-67-57d1d9c2e9a3>\u001b[0m in \u001b[0;36m<module>\u001b[1;34m\u001b[0m\n\u001b[0;32m      1\u001b[0m \u001b[1;31m#for r in response:\u001b[0m\u001b[1;33m\u001b[0m\u001b[1;33m\u001b[0m\u001b[1;33m\u001b[0m\u001b[0m\n\u001b[1;32m----> 2\u001b[1;33m \u001b[0mobj\u001b[0m \u001b[1;33m=\u001b[0m \u001b[0mxmltodict\u001b[0m\u001b[1;33m.\u001b[0m\u001b[0mparse\u001b[0m\u001b[1;33m(\u001b[0m\u001b[0mresponse\u001b[0m\u001b[1;33m)\u001b[0m\u001b[1;33m\u001b[0m\u001b[1;33m\u001b[0m\u001b[0m\n\u001b[0m\u001b[0;32m      3\u001b[0m \u001b[0mprint\u001b[0m\u001b[1;33m(\u001b[0m\u001b[0mjson\u001b[0m\u001b[1;33m.\u001b[0m\u001b[0mdumps\u001b[0m\u001b[1;33m(\u001b[0m\u001b[0mobj\u001b[0m\u001b[1;33m)\u001b[0m\u001b[1;33m)\u001b[0m\u001b[1;33m\u001b[0m\u001b[1;33m\u001b[0m\u001b[0m\n",
      "\u001b[1;32m~\\.conda\\envs\\PythonData\\lib\\site-packages\\xmltodict.py\u001b[0m in \u001b[0;36mparse\u001b[1;34m(xml_input, encoding, expat, process_namespaces, namespace_separator, disable_entities, **kwargs)\u001b[0m\n\u001b[0;32m    325\u001b[0m         \u001b[0mparser\u001b[0m\u001b[1;33m.\u001b[0m\u001b[0mParseFile\u001b[0m\u001b[1;33m(\u001b[0m\u001b[0mxml_input\u001b[0m\u001b[1;33m)\u001b[0m\u001b[1;33m\u001b[0m\u001b[1;33m\u001b[0m\u001b[0m\n\u001b[0;32m    326\u001b[0m     \u001b[1;32melse\u001b[0m\u001b[1;33m:\u001b[0m\u001b[1;33m\u001b[0m\u001b[1;33m\u001b[0m\u001b[0m\n\u001b[1;32m--> 327\u001b[1;33m         \u001b[0mparser\u001b[0m\u001b[1;33m.\u001b[0m\u001b[0mParse\u001b[0m\u001b[1;33m(\u001b[0m\u001b[0mxml_input\u001b[0m\u001b[1;33m,\u001b[0m \u001b[1;32mTrue\u001b[0m\u001b[1;33m)\u001b[0m\u001b[1;33m\u001b[0m\u001b[1;33m\u001b[0m\u001b[0m\n\u001b[0m\u001b[0;32m    328\u001b[0m     \u001b[1;32mreturn\u001b[0m \u001b[0mhandler\u001b[0m\u001b[1;33m.\u001b[0m\u001b[0mitem\u001b[0m\u001b[1;33m\u001b[0m\u001b[1;33m\u001b[0m\u001b[0m\n\u001b[0;32m    329\u001b[0m \u001b[1;33m\u001b[0m\u001b[0m\n",
      "\u001b[1;31mTypeError\u001b[0m: a bytes-like object is required, not 'Response'"
     ]
    }
   ],
   "source": [
    "# for r in response:\n",
    "# obj = xmltodict.parse(response)\n",
    "# print(json.dumps(obj))\n"
   ]
  },
  {
   "cell_type": "code",
   "execution_count": 65,
   "metadata": {},
   "outputs": [
    {
     "ename": "TypeError",
     "evalue": "expected str, bytes or os.PathLike object, not Response",
     "output_type": "error",
     "traceback": [
      "\u001b[1;31m---------------------------------------------------------------------------\u001b[0m",
      "\u001b[1;31mTypeError\u001b[0m                                 Traceback (most recent call last)",
      "\u001b[1;32m<ipython-input-65-4fe6c33780de>\u001b[0m in \u001b[0;36m<module>\u001b[1;34m\u001b[0m\n\u001b[1;32m----> 1\u001b[1;33m \u001b[1;32mwith\u001b[0m \u001b[0mopen\u001b[0m\u001b[1;33m(\u001b[0m\u001b[0mresponse\u001b[0m\u001b[1;33m,\u001b[0m \u001b[1;34m'r'\u001b[0m\u001b[1;33m)\u001b[0m \u001b[1;32mas\u001b[0m \u001b[0mmyfile\u001b[0m\u001b[1;33m:\u001b[0m\u001b[1;33m\u001b[0m\u001b[1;33m\u001b[0m\u001b[0m\n\u001b[0m\u001b[0;32m      2\u001b[0m     \u001b[0mobj\u001b[0m \u001b[1;33m=\u001b[0m \u001b[0mxmltodict\u001b[0m\u001b[1;33m.\u001b[0m\u001b[0mparse\u001b[0m\u001b[1;33m(\u001b[0m\u001b[0mmyfile\u001b[0m\u001b[1;33m.\u001b[0m\u001b[0mread\u001b[0m\u001b[1;33m(\u001b[0m\u001b[1;33m)\u001b[0m\u001b[1;33m)\u001b[0m\u001b[1;33m\u001b[0m\u001b[1;33m\u001b[0m\u001b[0m\n\u001b[0;32m      3\u001b[0m \u001b[0mprint\u001b[0m\u001b[1;33m(\u001b[0m\u001b[0mjson\u001b[0m\u001b[1;33m.\u001b[0m\u001b[0mdumps\u001b[0m\u001b[1;33m(\u001b[0m\u001b[0mobj\u001b[0m\u001b[1;33m)\u001b[0m\u001b[1;33m)\u001b[0m\u001b[1;33m\u001b[0m\u001b[1;33m\u001b[0m\u001b[0m\n",
      "\u001b[1;31mTypeError\u001b[0m: expected str, bytes or os.PathLike object, not Response"
     ]
    }
   ],
   "source": [
    "with open(response, 'r') as myfile:\n",
    "    obj = xmltodict.parse(myfile.read())\n",
    "print(json.dumps(obj))"
   ]
  },
  {
   "cell_type": "code",
   "execution_count": 58,
   "metadata": {},
   "outputs": [
    {
     "name": "stdout",
     "output_type": "stream",
     "text": [
      "Collecting xmltodictNote: you may need to restart the kernel to use updated packages.\n",
      "  Downloading xmltodict-0.12.0-py2.py3-none-any.whl (9.2 kB)\n",
      "Installing collected packages: xmltodict\n",
      "Successfully installed xmltodict-0.12.0\n",
      "\n"
     ]
    }
   ],
   "source": [
    "pip install xmltodict"
   ]
  },
  {
   "cell_type": "code",
   "execution_count": 1,
   "metadata": {},
   "outputs": [],
   "source": [
    "import xmltodict\n",
    "import xml\n",
    "from xml.etree import ElementTree"
   ]
  },
  {
   "cell_type": "code",
   "execution_count": 5,
   "metadata": {},
   "outputs": [
    {
     "name": "stdout",
     "output_type": "stream",
     "text": [
      "<slideshow author=\"Yours Truly\" date=\"Date of publication\" title=\"Sample Slide Show\">\n",
      "\n",
      "    \n",
      "    <slide type=\"all\">\n",
      "      <title>Wake up to WonderWidgets!</title>\n",
      "    </slide>\n",
      "\n",
      "    \n",
      "    <slide type=\"all\">\n",
      "        <title>Overview</title>\n",
      "        <item>Why <em>WonderWidgets</em> are great</item>\n",
      "        <item />\n",
      "        <item>Who <em>buys</em> WonderWidgets</item>\n",
      "    </slide>\n",
      "\n",
      "</slideshow>\n"
     ]
    }
   ],
   "source": [
    "response = rq.get(\"https://httpbin.org/xml\")\n",
    "\n",
    "string_xml = response.content\n",
    "tree = xml.etree.ElementTree.fromstring(string_xml)\n",
    "\n",
    "xml.etree.ElementTree.dump(tree)"
   ]
  },
  {
   "cell_type": "code",
   "execution_count": 6,
   "metadata": {},
   "outputs": [
    {
     "data": {
      "text/plain": [
       "b'<?xml version=\\'1.0\\' encoding=\\'us-ascii\\'?>\\n\\n<!--  A SAMPLE set of slides  -->\\n\\n<slideshow \\n    title=\"Sample Slide Show\"\\n    date=\"Date of publication\"\\n    author=\"Yours Truly\"\\n    >\\n\\n    <!-- TITLE SLIDE -->\\n    <slide type=\"all\">\\n      <title>Wake up to WonderWidgets!</title>\\n    </slide>\\n\\n    <!-- OVERVIEW -->\\n    <slide type=\"all\">\\n        <title>Overview</title>\\n        <item>Why <em>WonderWidgets</em> are great</item>\\n        <item/>\\n        <item>Who <em>buys</em> WonderWidgets</item>\\n    </slide>\\n\\n</slideshow>'"
      ]
     },
     "execution_count": 6,
     "metadata": {},
     "output_type": "execute_result"
    }
   ],
   "source": [
    "string_xml"
   ]
  },
  {
   "cell_type": "code",
   "execution_count": 86,
   "metadata": {},
   "outputs": [
    {
     "name": "stdout",
     "output_type": "stream",
     "text": [
      "Collecting requests-xmlNote: you may need to restart the kernel to use updated packages.\n",
      "  Downloading requests_xml-0.2.3-py2.py3-none-any.whl (11 kB)\n",
      "Collecting w3lib\n",
      "  Downloading w3lib-1.22.0-py2.py3-none-any.whl (20 kB)\n",
      "Collecting xmljson\n",
      "  Downloading xmljson-0.2.1-py2.py3-none-any.whl (10 kB)\n",
      "Collecting parse\n",
      "  Downloading parse-1.18.0.tar.gz (30 kB)\n",
      "Requirement already satisfied: requests in c:\\users\\home\\.conda\\envs\\pythondata\\lib\\site-packages (from requests-xml) (2.24.0)\n",
      "Collecting pyquery\n",
      "  Downloading pyquery-1.4.1-py2.py3-none-any.whl (22 kB)\n",
      "Collecting fake-useragent\n",
      "  Downloading fake-useragent-0.1.11.tar.gz (13 kB)\n",
      "Requirement already satisfied: six>=1.4.1 in c:\\users\\home\\.conda\\envs\\pythondata\\lib\\site-packages (from w3lib->requests-xml) (1.15.0)\n",
      "Requirement already satisfied: chardet<4,>=3.0.2 in c:\\users\\home\\.conda\\envs\\pythondata\\lib\\site-packages (from requests->requests-xml) (3.0.4)\n",
      "Requirement already satisfied: certifi>=2017.4.17 in c:\\users\\home\\.conda\\envs\\pythondata\\lib\\site-packages (from requests->requests-xml) (2020.6.20)\n",
      "Requirement already satisfied: urllib3!=1.25.0,!=1.25.1,<1.26,>=1.21.1 in c:\\users\\home\\.conda\\envs\\pythondata\\lib\\site-packages (from requests->requests-xml) (1.25.9)\n",
      "Requirement already satisfied: idna<3,>=2.5 in c:\\users\\home\\.conda\\envs\\pythondata\\lib\\site-packages (from requests->requests-xml) (2.10)\n",
      "Requirement already satisfied: lxml>=2.1 in c:\\users\\home\\.conda\\envs\\pythondata\\lib\\site-packages (from pyquery->requests-xml) (4.5.2)\n",
      "Collecting cssselect>0.7.9\n",
      "  Downloading cssselect-1.1.0-py2.py3-none-any.whl (16 kB)\n",
      "Building wheels for collected packages: parse, fake-useragent\n",
      "  Building wheel for parse (setup.py): started\n",
      "  Building wheel for parse (setup.py): finished with status 'done'\n",
      "  Created wheel for parse: filename=parse-1.18.0-py3-none-any.whl size=24138 sha256=70fb2d23b92143ca0e3758917569b03bd954f6db762000e945b278fa8cfce7b7\n",
      "  Stored in directory: c:\\users\\home\\appdata\\local\\pip\\cache\\wheels\\85\\db\\d9\\2416d9d65785454955833a9272db1df200ee64f2269cf6e282\n",
      "  Building wheel for fake-useragent (setup.py): started\n",
      "  Building wheel for fake-useragent (setup.py): finished with status 'done'\n",
      "  Created wheel for fake-useragent: filename=fake_useragent-0.1.11-py3-none-any.whl size=13489 sha256=95911d858c5ae184a61fb2918558325e155744bb0cb71cf5c9d694b99b862eb6\n",
      "  Stored in directory: c:\\users\\home\\appdata\\local\\pip\\cache\\wheels\\12\\8a\\a1\\0ab79c1c2c58aa7647d0dea17f2af2358b65e1eecac8094b5e\n",
      "Successfully built parse fake-useragent\n",
      "Installing collected packages: w3lib, xmljson, parse, cssselect, pyquery, fake-useragent, requests-xml\n",
      "Successfully installed cssselect-1.1.0 fake-useragent-0.1.11 parse-1.18.0 pyquery-1.4.1 requests-xml-0.2.3 w3lib-1.22.0 xmljson-0.2.1\n",
      "\n"
     ]
    },
    {
     "name": "stderr",
     "output_type": "stream",
     "text": [
      "  WARNING: The script xml2json.exe is installed in 'C:\\Users\\home\\.conda\\envs\\PythonData\\Scripts' which is not on PATH.\n",
      "  Consider adding this directory to PATH or, if you prefer to suppress this warning, use --no-warn-script-location.\n"
     ]
    }
   ],
   "source": [
    "pip install requests-xml"
   ]
  },
  {
   "cell_type": "code",
   "execution_count": 7,
   "metadata": {},
   "outputs": [
    {
     "ename": "NameError",
     "evalue": "name 'url' is not defined",
     "output_type": "error",
     "traceback": [
      "\u001b[1;31m---------------------------------------------------------------------------\u001b[0m",
      "\u001b[1;31mNameError\u001b[0m                                 Traceback (most recent call last)",
      "\u001b[1;32m<ipython-input-7-845dfd7b0ca1>\u001b[0m in \u001b[0;36m<module>\u001b[1;34m\u001b[0m\n\u001b[0;32m      2\u001b[0m \u001b[0msession\u001b[0m \u001b[1;33m=\u001b[0m \u001b[0mXMLSession\u001b[0m\u001b[1;33m(\u001b[0m\u001b[1;33m)\u001b[0m\u001b[1;33m\u001b[0m\u001b[1;33m\u001b[0m\u001b[0m\n\u001b[0;32m      3\u001b[0m \u001b[1;33m\u001b[0m\u001b[0m\n\u001b[1;32m----> 4\u001b[1;33m \u001b[0mr\u001b[0m \u001b[1;33m=\u001b[0m \u001b[0msession\u001b[0m\u001b[1;33m.\u001b[0m\u001b[0mget\u001b[0m\u001b[1;33m(\u001b[0m\u001b[0murl\u001b[0m\u001b[1;33m)\u001b[0m\u001b[1;33m\u001b[0m\u001b[1;33m\u001b[0m\u001b[0m\n\u001b[0m",
      "\u001b[1;31mNameError\u001b[0m: name 'url' is not defined"
     ]
    }
   ],
   "source": [
    "\n",
    "from requests_xml import XMLSession\n",
    "session = XMLSession()\n",
    "\n",
    "r = session.get(url)"
   ]
  },
  {
   "cell_type": "code",
   "execution_count": 89,
   "metadata": {},
   "outputs": [
    {
     "ename": "JSONDecodeError",
     "evalue": "Expecting value: line 1 column 1 (char 0)",
     "output_type": "error",
     "traceback": [
      "\u001b[1;31m---------------------------------------------------------------------------\u001b[0m",
      "\u001b[1;31mJSONDecodeError\u001b[0m                           Traceback (most recent call last)",
      "\u001b[1;32m<ipython-input-89-52b7ec8d97cc>\u001b[0m in \u001b[0;36m<module>\u001b[1;34m\u001b[0m\n\u001b[1;32m----> 1\u001b[1;33m \u001b[0mr\u001b[0m\u001b[1;33m.\u001b[0m\u001b[0mjson\u001b[0m\u001b[1;33m(\u001b[0m\u001b[1;33m)\u001b[0m\u001b[1;33m\u001b[0m\u001b[1;33m\u001b[0m\u001b[0m\n\u001b[0m",
      "\u001b[1;32m~\\.conda\\envs\\PythonData\\lib\\site-packages\\requests\\models.py\u001b[0m in \u001b[0;36mjson\u001b[1;34m(self, **kwargs)\u001b[0m\n\u001b[0;32m    896\u001b[0m                     \u001b[1;31m# used.\u001b[0m\u001b[1;33m\u001b[0m\u001b[1;33m\u001b[0m\u001b[1;33m\u001b[0m\u001b[0m\n\u001b[0;32m    897\u001b[0m                     \u001b[1;32mpass\u001b[0m\u001b[1;33m\u001b[0m\u001b[1;33m\u001b[0m\u001b[0m\n\u001b[1;32m--> 898\u001b[1;33m         \u001b[1;32mreturn\u001b[0m \u001b[0mcomplexjson\u001b[0m\u001b[1;33m.\u001b[0m\u001b[0mloads\u001b[0m\u001b[1;33m(\u001b[0m\u001b[0mself\u001b[0m\u001b[1;33m.\u001b[0m\u001b[0mtext\u001b[0m\u001b[1;33m,\u001b[0m \u001b[1;33m**\u001b[0m\u001b[0mkwargs\u001b[0m\u001b[1;33m)\u001b[0m\u001b[1;33m\u001b[0m\u001b[1;33m\u001b[0m\u001b[0m\n\u001b[0m\u001b[0;32m    899\u001b[0m \u001b[1;33m\u001b[0m\u001b[0m\n\u001b[0;32m    900\u001b[0m     \u001b[1;33m@\u001b[0m\u001b[0mproperty\u001b[0m\u001b[1;33m\u001b[0m\u001b[1;33m\u001b[0m\u001b[0m\n",
      "\u001b[1;32m~\\.conda\\envs\\PythonData\\lib\\json\\__init__.py\u001b[0m in \u001b[0;36mloads\u001b[1;34m(s, encoding, cls, object_hook, parse_float, parse_int, parse_constant, object_pairs_hook, **kw)\u001b[0m\n\u001b[0;32m    352\u001b[0m             \u001b[0mparse_int\u001b[0m \u001b[1;32mis\u001b[0m \u001b[1;32mNone\u001b[0m \u001b[1;32mand\u001b[0m \u001b[0mparse_float\u001b[0m \u001b[1;32mis\u001b[0m \u001b[1;32mNone\u001b[0m \u001b[1;32mand\u001b[0m\u001b[1;33m\u001b[0m\u001b[1;33m\u001b[0m\u001b[0m\n\u001b[0;32m    353\u001b[0m             parse_constant is None and object_pairs_hook is None and not kw):\n\u001b[1;32m--> 354\u001b[1;33m         \u001b[1;32mreturn\u001b[0m \u001b[0m_default_decoder\u001b[0m\u001b[1;33m.\u001b[0m\u001b[0mdecode\u001b[0m\u001b[1;33m(\u001b[0m\u001b[0ms\u001b[0m\u001b[1;33m)\u001b[0m\u001b[1;33m\u001b[0m\u001b[1;33m\u001b[0m\u001b[0m\n\u001b[0m\u001b[0;32m    355\u001b[0m     \u001b[1;32mif\u001b[0m \u001b[0mcls\u001b[0m \u001b[1;32mis\u001b[0m \u001b[1;32mNone\u001b[0m\u001b[1;33m:\u001b[0m\u001b[1;33m\u001b[0m\u001b[1;33m\u001b[0m\u001b[0m\n\u001b[0;32m    356\u001b[0m         \u001b[0mcls\u001b[0m \u001b[1;33m=\u001b[0m \u001b[0mJSONDecoder\u001b[0m\u001b[1;33m\u001b[0m\u001b[1;33m\u001b[0m\u001b[0m\n",
      "\u001b[1;32m~\\.conda\\envs\\PythonData\\lib\\json\\decoder.py\u001b[0m in \u001b[0;36mdecode\u001b[1;34m(self, s, _w)\u001b[0m\n\u001b[0;32m    337\u001b[0m \u001b[1;33m\u001b[0m\u001b[0m\n\u001b[0;32m    338\u001b[0m         \"\"\"\n\u001b[1;32m--> 339\u001b[1;33m         \u001b[0mobj\u001b[0m\u001b[1;33m,\u001b[0m \u001b[0mend\u001b[0m \u001b[1;33m=\u001b[0m \u001b[0mself\u001b[0m\u001b[1;33m.\u001b[0m\u001b[0mraw_decode\u001b[0m\u001b[1;33m(\u001b[0m\u001b[0ms\u001b[0m\u001b[1;33m,\u001b[0m \u001b[0midx\u001b[0m\u001b[1;33m=\u001b[0m\u001b[0m_w\u001b[0m\u001b[1;33m(\u001b[0m\u001b[0ms\u001b[0m\u001b[1;33m,\u001b[0m \u001b[1;36m0\u001b[0m\u001b[1;33m)\u001b[0m\u001b[1;33m.\u001b[0m\u001b[0mend\u001b[0m\u001b[1;33m(\u001b[0m\u001b[1;33m)\u001b[0m\u001b[1;33m)\u001b[0m\u001b[1;33m\u001b[0m\u001b[1;33m\u001b[0m\u001b[0m\n\u001b[0m\u001b[0;32m    340\u001b[0m         \u001b[0mend\u001b[0m \u001b[1;33m=\u001b[0m \u001b[0m_w\u001b[0m\u001b[1;33m(\u001b[0m\u001b[0ms\u001b[0m\u001b[1;33m,\u001b[0m \u001b[0mend\u001b[0m\u001b[1;33m)\u001b[0m\u001b[1;33m.\u001b[0m\u001b[0mend\u001b[0m\u001b[1;33m(\u001b[0m\u001b[1;33m)\u001b[0m\u001b[1;33m\u001b[0m\u001b[1;33m\u001b[0m\u001b[0m\n\u001b[0;32m    341\u001b[0m         \u001b[1;32mif\u001b[0m \u001b[0mend\u001b[0m \u001b[1;33m!=\u001b[0m \u001b[0mlen\u001b[0m\u001b[1;33m(\u001b[0m\u001b[0ms\u001b[0m\u001b[1;33m)\u001b[0m\u001b[1;33m:\u001b[0m\u001b[1;33m\u001b[0m\u001b[1;33m\u001b[0m\u001b[0m\n",
      "\u001b[1;32m~\\.conda\\envs\\PythonData\\lib\\json\\decoder.py\u001b[0m in \u001b[0;36mraw_decode\u001b[1;34m(self, s, idx)\u001b[0m\n\u001b[0;32m    355\u001b[0m             \u001b[0mobj\u001b[0m\u001b[1;33m,\u001b[0m \u001b[0mend\u001b[0m \u001b[1;33m=\u001b[0m \u001b[0mself\u001b[0m\u001b[1;33m.\u001b[0m\u001b[0mscan_once\u001b[0m\u001b[1;33m(\u001b[0m\u001b[0ms\u001b[0m\u001b[1;33m,\u001b[0m \u001b[0midx\u001b[0m\u001b[1;33m)\u001b[0m\u001b[1;33m\u001b[0m\u001b[1;33m\u001b[0m\u001b[0m\n\u001b[0;32m    356\u001b[0m         \u001b[1;32mexcept\u001b[0m \u001b[0mStopIteration\u001b[0m \u001b[1;32mas\u001b[0m \u001b[0merr\u001b[0m\u001b[1;33m:\u001b[0m\u001b[1;33m\u001b[0m\u001b[1;33m\u001b[0m\u001b[0m\n\u001b[1;32m--> 357\u001b[1;33m             \u001b[1;32mraise\u001b[0m \u001b[0mJSONDecodeError\u001b[0m\u001b[1;33m(\u001b[0m\u001b[1;34m\"Expecting value\"\u001b[0m\u001b[1;33m,\u001b[0m \u001b[0ms\u001b[0m\u001b[1;33m,\u001b[0m \u001b[0merr\u001b[0m\u001b[1;33m.\u001b[0m\u001b[0mvalue\u001b[0m\u001b[1;33m)\u001b[0m \u001b[1;32mfrom\u001b[0m \u001b[1;32mNone\u001b[0m\u001b[1;33m\u001b[0m\u001b[1;33m\u001b[0m\u001b[0m\n\u001b[0m\u001b[0;32m    358\u001b[0m         \u001b[1;32mreturn\u001b[0m \u001b[0mobj\u001b[0m\u001b[1;33m,\u001b[0m \u001b[0mend\u001b[0m\u001b[1;33m\u001b[0m\u001b[1;33m\u001b[0m\u001b[0m\n",
      "\u001b[1;31mJSONDecodeError\u001b[0m: Expecting value: line 1 column 1 (char 0)"
     ]
    }
   ],
   "source": [
    "r.json()"
   ]
  },
  {
   "cell_type": "code",
   "execution_count": 12,
   "metadata": {},
   "outputs": [],
   "source": [
    "import xml.etree.ElementTree as ET\n",
    "from requests_xml import XMLSession\n",
    "session = XMLSession()\n",
    "url = 'https://www.goodreads.com/recommendations/1format=xml'\n",
    "r = session.get(url)"
   ]
  },
  {
   "cell_type": "code",
   "execution_count": 13,
   "metadata": {},
   "outputs": [
    {
     "ename": "ParseError",
     "evalue": "mismatched tag: line 192, column 2 (<string>)",
     "output_type": "error",
     "traceback": [
      "Traceback \u001b[1;36m(most recent call last)\u001b[0m:\n",
      "  File \u001b[0;32m\"C:\\Users\\home\\.conda\\envs\\PythonData\\lib\\site-packages\\IPython\\core\\interactiveshell.py\"\u001b[0m, line \u001b[0;32m3343\u001b[0m, in \u001b[0;35mrun_code\u001b[0m\n    exec(code_obj, self.user_global_ns, self.user_ns)\n",
      "  File \u001b[0;32m\"<ipython-input-13-fa93af8d2355>\"\u001b[0m, line \u001b[0;32m1\u001b[0m, in \u001b[0;35m<module>\u001b[0m\n    root = ET.fromstring(r.text)\n",
      "\u001b[1;36m  File \u001b[1;32m\"C:\\Users\\home\\.conda\\envs\\PythonData\\lib\\xml\\etree\\ElementTree.py\"\u001b[1;36m, line \u001b[1;32m1314\u001b[1;36m, in \u001b[1;35mXML\u001b[1;36m\u001b[0m\n\u001b[1;33m    parser.feed(text)\u001b[0m\n",
      "\u001b[1;36m  File \u001b[1;32m\"<string>\"\u001b[1;36m, line \u001b[1;32munknown\u001b[0m\n\u001b[1;31mParseError\u001b[0m\u001b[1;31m:\u001b[0m mismatched tag: line 192, column 2\n"
     ]
    }
   ],
   "source": [
    "\n",
    "root = ET.fromstring(r.text)\n",
    "tree = ET.ElementTree(root)\n",
    "tree.write(\"file.xml\")"
   ]
  },
  {
   "cell_type": "code",
   "execution_count": 14,
   "metadata": {},
   "outputs": [],
   "source": [
    "with open(\"file.xml\") as xml_file:\n",
    "    data_dict = xmltodict.parse(xml_file.read())\n",
    "xml_file.close()"
   ]
  },
  {
   "cell_type": "code",
   "execution_count": 15,
   "metadata": {},
   "outputs": [],
   "source": [
    "json_data = json.dumps(data_dict)"
   ]
  },
  {
   "cell_type": "code",
   "execution_count": 16,
   "metadata": {},
   "outputs": [],
   "source": [
    "with open(\"data.json\", \"w\") as json_file:\n",
    "    json_file.write(json_data)"
   ]
  },
  {
   "cell_type": "code",
   "execution_count": 17,
   "metadata": {},
   "outputs": [],
   "source": [
    "json_file.close()"
   ]
  },
  {
   "cell_type": "code",
   "execution_count": null,
   "metadata": {},
   "outputs": [],
   "source": []
  }
 ],
 "metadata": {
  "kernelspec": {
   "display_name": "Python 3.6.10 64-bit ('PythonData': conda)",
   "language": "python",
   "name": "python361064bitpythondatacondaa70f06a6f8ee448e835eff764d6ba02e"
  },
  "language_info": {
   "codemirror_mode": {
    "name": "ipython",
    "version": 3
   },
   "file_extension": ".py",
   "mimetype": "text/x-python",
   "name": "python",
   "nbconvert_exporter": "python",
   "pygments_lexer": "ipython3",
   "version": "3.6.10"
  }
 },
 "nbformat": 4,
 "nbformat_minor": 4
}
